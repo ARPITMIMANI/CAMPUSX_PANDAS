{
 "cells": [
  {
   "cell_type": "code",
   "execution_count": 1,
   "id": "9f039654",
   "metadata": {},
   "outputs": [
    {
     "name": "stdout",
     "output_type": "stream",
     "text": [
      "      id  season       city        date                        team1  \\\n",
      "0      1    2017  Hyderabad  2017-04-05          Sunrisers Hyderabad   \n",
      "1      2    2017       Pune  2017-04-06               Mumbai Indians   \n",
      "2      3    2017     Rajkot  2017-04-07                Gujarat Lions   \n",
      "3      4    2017     Indore  2017-04-08       Rising Pune Supergiant   \n",
      "4      5    2017  Bangalore  2017-04-08  Royal Challengers Bangalore   \n",
      "..   ...     ...        ...         ...                          ...   \n",
      "631  632    2016     Raipur  2016-05-22             Delhi Daredevils   \n",
      "632  633    2016  Bangalore  2016-05-24                Gujarat Lions   \n",
      "633  634    2016      Delhi  2016-05-25          Sunrisers Hyderabad   \n",
      "634  635    2016      Delhi  2016-05-27                Gujarat Lions   \n",
      "635  636    2016  Bangalore  2016-05-29          Sunrisers Hyderabad   \n",
      "\n",
      "                           team2                  toss_winner toss_decision  \\\n",
      "0    Royal Challengers Bangalore  Royal Challengers Bangalore         field   \n",
      "1         Rising Pune Supergiant       Rising Pune Supergiant         field   \n",
      "2          Kolkata Knight Riders        Kolkata Knight Riders         field   \n",
      "3                Kings XI Punjab              Kings XI Punjab         field   \n",
      "4               Delhi Daredevils  Royal Challengers Bangalore           bat   \n",
      "..                           ...                          ...           ...   \n",
      "631  Royal Challengers Bangalore  Royal Challengers Bangalore         field   \n",
      "632  Royal Challengers Bangalore  Royal Challengers Bangalore         field   \n",
      "633        Kolkata Knight Riders        Kolkata Knight Riders         field   \n",
      "634          Sunrisers Hyderabad          Sunrisers Hyderabad         field   \n",
      "635  Royal Challengers Bangalore          Sunrisers Hyderabad           bat   \n",
      "\n",
      "     result  dl_applied                       winner  win_by_runs  \\\n",
      "0    normal           0          Sunrisers Hyderabad           35   \n",
      "1    normal           0       Rising Pune Supergiant            0   \n",
      "2    normal           0        Kolkata Knight Riders            0   \n",
      "3    normal           0              Kings XI Punjab            0   \n",
      "4    normal           0  Royal Challengers Bangalore           15   \n",
      "..      ...         ...                          ...          ...   \n",
      "631  normal           0  Royal Challengers Bangalore            0   \n",
      "632  normal           0  Royal Challengers Bangalore            0   \n",
      "633  normal           0          Sunrisers Hyderabad           22   \n",
      "634  normal           0          Sunrisers Hyderabad            0   \n",
      "635  normal           0          Sunrisers Hyderabad            8   \n",
      "\n",
      "     win_by_wickets player_of_match  \\\n",
      "0                 0    Yuvraj Singh   \n",
      "1                 7       SPD Smith   \n",
      "2                10         CA Lynn   \n",
      "3                 6      GJ Maxwell   \n",
      "4                 0       KM Jadhav   \n",
      "..              ...             ...   \n",
      "631               6         V Kohli   \n",
      "632               4  AB de Villiers   \n",
      "633               0    MC Henriques   \n",
      "634               4       DA Warner   \n",
      "635               0     BCJ Cutting   \n",
      "\n",
      "                                                venue          umpire1  \\\n",
      "0           Rajiv Gandhi International Stadium, Uppal      AY Dandekar   \n",
      "1             Maharashtra Cricket Association Stadium   A Nand Kishore   \n",
      "2              Saurashtra Cricket Association Stadium      Nitin Menon   \n",
      "3                              Holkar Cricket Stadium     AK Chaudhary   \n",
      "4                               M Chinnaswamy Stadium              NaN   \n",
      "..                                                ...              ...   \n",
      "631  Shaheed Veer Narayan Singh International Stadium   A Nand Kishore   \n",
      "632                             M Chinnaswamy Stadium     AK Chaudhary   \n",
      "633                                  Feroz Shah Kotla        M Erasmus   \n",
      "634                                  Feroz Shah Kotla        M Erasmus   \n",
      "635                             M Chinnaswamy Stadium  HDPK Dharmasena   \n",
      "\n",
      "             umpire2  umpire3  \n",
      "0           NJ Llong      NaN  \n",
      "1             S Ravi      NaN  \n",
      "2          CK Nandan      NaN  \n",
      "3      C Shamshuddin      NaN  \n",
      "4                NaN      NaN  \n",
      "..               ...      ...  \n",
      "631     BNJ Oxenford      NaN  \n",
      "632  HDPK Dharmasena      NaN  \n",
      "633    C Shamshuddin      NaN  \n",
      "634        CK Nandan      NaN  \n",
      "635     BNJ Oxenford      NaN  \n",
      "\n",
      "[636 rows x 18 columns]\n"
     ]
    }
   ],
   "source": [
    "import pandas as pd\n",
    "df = pd.read_csv(\"MATCH_DATA.csv\")\n",
    "print(df)"
   ]
  },
  {
   "cell_type": "code",
   "execution_count": 2,
   "id": "ed92c521",
   "metadata": {},
   "outputs": [
    {
     "name": "stdout",
     "output_type": "stream",
     "text": [
      "Mumbai Indians                 92\n",
      "Chennai Super Kings            79\n",
      "Kolkata Knight Riders          77\n",
      "Royal Challengers Bangalore    73\n",
      "Kings XI Punjab                70\n",
      "Rajasthan Royals               63\n",
      "Delhi Daredevils               62\n",
      "Sunrisers Hyderabad            42\n",
      "Deccan Chargers                29\n",
      "Gujarat Lions                  13\n",
      "Pune Warriors                  12\n",
      "Rising Pune Supergiant         10\n",
      "Kochi Tuskers Kerala            6\n",
      "Rising Pune Supergiants         5\n",
      "Name: winner, dtype: int64\n"
     ]
    }
   ],
   "source": [
    "myseries = df[\"winner\"].value_counts()\n",
    "print(myseries)"
   ]
  },
  {
   "cell_type": "code",
   "execution_count": 3,
   "id": "fb657402",
   "metadata": {},
   "outputs": [
    {
     "name": "stdout",
     "output_type": "stream",
     "text": [
      "Index(['Mumbai Indians', 'Chennai Super Kings', 'Kolkata Knight Riders',\n",
      "       'Royal Challengers Bangalore', 'Kings XI Punjab', 'Rajasthan Royals',\n",
      "       'Delhi Daredevils', 'Sunrisers Hyderabad', 'Deccan Chargers',\n",
      "       'Gujarat Lions', 'Pune Warriors', 'Rising Pune Supergiant',\n",
      "       'Kochi Tuskers Kerala', 'Rising Pune Supergiants'],\n",
      "      dtype='object')\n"
     ]
    }
   ],
   "source": [
    "print ( myseries.index )"
   ]
  },
  {
   "cell_type": "code",
   "execution_count": 4,
   "id": "63edd928",
   "metadata": {},
   "outputs": [
    {
     "name": "stdout",
     "output_type": "stream",
     "text": [
      "[92 79 77 73 70 63 62 42 29 13 12 10  6  5]\n"
     ]
    }
   ],
   "source": [
    "print ( myseries.values )"
   ]
  },
  {
   "cell_type": "code",
   "execution_count": 5,
   "id": "179ce89e",
   "metadata": {},
   "outputs": [
    {
     "name": "stdout",
     "output_type": "stream",
     "text": [
      "Mumbai Indians                 92\n",
      "Chennai Super Kings            79\n",
      "Kolkata Knight Riders          77\n",
      "Royal Challengers Bangalore    73\n",
      "Kings XI Punjab                70\n",
      "Name: winner, dtype: int64\n"
     ]
    }
   ],
   "source": [
    "print ( myseries.head() )"
   ]
  },
  {
   "cell_type": "code",
   "execution_count": 6,
   "id": "9cece748",
   "metadata": {},
   "outputs": [
    {
     "name": "stdout",
     "output_type": "stream",
     "text": [
      "Gujarat Lions              13\n",
      "Pune Warriors              12\n",
      "Rising Pune Supergiant     10\n",
      "Kochi Tuskers Kerala        6\n",
      "Rising Pune Supergiants     5\n",
      "Name: winner, dtype: int64\n"
     ]
    }
   ],
   "source": [
    "print ( myseries.tail() )"
   ]
  },
  {
   "cell_type": "code",
   "execution_count": 7,
   "id": "392bca11",
   "metadata": {},
   "outputs": [
    {
     "name": "stdout",
     "output_type": "stream",
     "text": [
      "73\n"
     ]
    }
   ],
   "source": [
    "print ( myseries[\"Royal Challengers Bangalore\"] )"
   ]
  },
  {
   "cell_type": "code",
   "execution_count": 8,
   "id": "cad60999",
   "metadata": {},
   "outputs": [
    {
     "name": "stdout",
     "output_type": "stream",
     "text": [
      "70\n"
     ]
    }
   ],
   "source": [
    "print ( myseries[\"Kings XI Punjab\"] )"
   ]
  },
  {
   "cell_type": "code",
   "execution_count": 9,
   "id": "9edb8f3d",
   "metadata": {},
   "outputs": [
    {
     "name": "stdout",
     "output_type": "stream",
     "text": [
      "Mumbai Indians                 82\n",
      "Kings XI Punjab                77\n",
      "Chennai Super Kings            77\n",
      "Royal Challengers Bangalore    70\n",
      "Kolkata Knight Riders          68\n",
      "Delhi Daredevils               63\n",
      "Rajasthan Royals               54\n",
      "Sunrisers Hyderabad            46\n",
      "Deccan Chargers                43\n",
      "Pune Warriors                  20\n",
      "Gujarat Lions                  14\n",
      "Rising Pune Supergiant          8\n",
      "Kochi Tuskers Kerala            7\n",
      "Rising Pune Supergiants         7\n",
      "Name: team1, dtype: int64\n"
     ]
    }
   ],
   "source": [
    "print ( df[\"team1\"].value_counts() )"
   ]
  },
  {
   "cell_type": "code",
   "execution_count": 10,
   "id": "99cfceaa",
   "metadata": {},
   "outputs": [
    {
     "name": "stdout",
     "output_type": "stream",
     "text": [
      "Delhi Daredevils               84\n",
      "Royal Challengers Bangalore    82\n",
      "Kolkata Knight Riders          80\n",
      "Mumbai Indians                 75\n",
      "Kings XI Punjab                71\n",
      "Rajasthan Royals               64\n",
      "Chennai Super Kings            54\n",
      "Deccan Chargers                32\n",
      "Sunrisers Hyderabad            30\n",
      "Pune Warriors                  26\n",
      "Gujarat Lions                  16\n",
      "Rising Pune Supergiant          8\n",
      "Kochi Tuskers Kerala            7\n",
      "Rising Pune Supergiants         7\n",
      "Name: team2, dtype: int64\n"
     ]
    }
   ],
   "source": [
    "print ( df[\"team2\"].value_counts() )"
   ]
  },
  {
   "cell_type": "code",
   "execution_count": 11,
   "id": "c98eaa7c",
   "metadata": {
    "scrolled": true
   },
   "outputs": [
    {
     "name": "stdout",
     "output_type": "stream",
     "text": [
      "Chennai Super Kings            131\n",
      "Deccan Chargers                 75\n",
      "Delhi Daredevils               147\n",
      "Gujarat Lions                   30\n",
      "Kings XI Punjab                148\n",
      "Kochi Tuskers Kerala            14\n",
      "Kolkata Knight Riders          148\n",
      "Mumbai Indians                 157\n",
      "Pune Warriors                   46\n",
      "Rajasthan Royals               118\n",
      "Rising Pune Supergiant          16\n",
      "Rising Pune Supergiants         14\n",
      "Royal Challengers Bangalore    152\n",
      "Sunrisers Hyderabad             76\n",
      "dtype: int64\n"
     ]
    }
   ],
   "source": [
    "print ( df[\"team1\"].value_counts() + df[\"team2\"].value_counts() )"
   ]
  },
  {
   "cell_type": "code",
   "execution_count": 12,
   "id": "78d692eb",
   "metadata": {},
   "outputs": [
    {
     "name": "stdout",
     "output_type": "stream",
     "text": [
      "Chennai Super Kings            4158\n",
      "Deccan Chargers                1376\n",
      "Delhi Daredevils               5292\n",
      "Gujarat Lions                   224\n",
      "Kings XI Punjab                5467\n",
      "Kochi Tuskers Kerala             49\n",
      "Kolkata Knight Riders          5440\n",
      "Mumbai Indians                 6150\n",
      "Pune Warriors                   520\n",
      "Rajasthan Royals               3456\n",
      "Rising Pune Supergiant           64\n",
      "Rising Pune Supergiants          49\n",
      "Royal Challengers Bangalore    5740\n",
      "Sunrisers Hyderabad            1380\n",
      "dtype: int64\n"
     ]
    }
   ],
   "source": [
    "print ( df[\"team1\"].value_counts() * df[\"team2\"].value_counts() )"
   ]
  },
  {
   "cell_type": "code",
   "execution_count": 13,
   "id": "2e3045d0",
   "metadata": {},
   "outputs": [
    {
     "name": "stdout",
     "output_type": "stream",
     "text": [
      "Chennai Super Kings            23\n",
      "Deccan Chargers                11\n",
      "Delhi Daredevils              -21\n",
      "Gujarat Lions                  -2\n",
      "Kings XI Punjab                 6\n",
      "Kochi Tuskers Kerala            0\n",
      "Kolkata Knight Riders         -12\n",
      "Mumbai Indians                  7\n",
      "Pune Warriors                  -6\n",
      "Rajasthan Royals              -10\n",
      "Rising Pune Supergiant          0\n",
      "Rising Pune Supergiants         0\n",
      "Royal Challengers Bangalore   -12\n",
      "Sunrisers Hyderabad            16\n",
      "dtype: int64\n"
     ]
    }
   ],
   "source": [
    "print ( df[\"team1\"].value_counts() - df[\"team2\"].value_counts() )"
   ]
  },
  {
   "cell_type": "code",
   "execution_count": 14,
   "id": "fd274fd3",
   "metadata": {},
   "outputs": [
    {
     "name": "stdout",
     "output_type": "stream",
     "text": [
      "Chennai Super Kings           -23\n",
      "Deccan Chargers               -11\n",
      "Delhi Daredevils               21\n",
      "Gujarat Lions                   2\n",
      "Kings XI Punjab                -6\n",
      "Kochi Tuskers Kerala            0\n",
      "Kolkata Knight Riders          12\n",
      "Mumbai Indians                 -7\n",
      "Pune Warriors                   6\n",
      "Rajasthan Royals               10\n",
      "Rising Pune Supergiant          0\n",
      "Rising Pune Supergiants         0\n",
      "Royal Challengers Bangalore    12\n",
      "Sunrisers Hyderabad           -16\n",
      "dtype: int64\n"
     ]
    }
   ],
   "source": [
    "print ( df[\"team2\"].value_counts() - df[\"team1\"].value_counts() )"
   ]
  },
  {
   "cell_type": "code",
   "execution_count": 15,
   "id": "c8b9c9eb",
   "metadata": {},
   "outputs": [
    {
     "name": "stdout",
     "output_type": "stream",
     "text": [
      "Chennai Super Kings            1.425926\n",
      "Deccan Chargers                1.343750\n",
      "Delhi Daredevils               0.750000\n",
      "Gujarat Lions                  0.875000\n",
      "Kings XI Punjab                1.084507\n",
      "Kochi Tuskers Kerala           1.000000\n",
      "Kolkata Knight Riders          0.850000\n",
      "Mumbai Indians                 1.093333\n",
      "Pune Warriors                  0.769231\n",
      "Rajasthan Royals               0.843750\n",
      "Rising Pune Supergiant         1.000000\n",
      "Rising Pune Supergiants        1.000000\n",
      "Royal Challengers Bangalore    0.853659\n",
      "Sunrisers Hyderabad            1.533333\n",
      "dtype: float64\n"
     ]
    }
   ],
   "source": [
    "print ( df[\"team1\"].value_counts() / df[\"team2\"].value_counts() )"
   ]
  },
  {
   "cell_type": "code",
   "execution_count": 16,
   "id": "0c4d315e",
   "metadata": {},
   "outputs": [
    {
     "name": "stdout",
     "output_type": "stream",
     "text": [
      "Chennai Super Kings            0.701299\n",
      "Deccan Chargers                0.744186\n",
      "Delhi Daredevils               1.333333\n",
      "Gujarat Lions                  1.142857\n",
      "Kings XI Punjab                0.922078\n",
      "Kochi Tuskers Kerala           1.000000\n",
      "Kolkata Knight Riders          1.176471\n",
      "Mumbai Indians                 0.914634\n",
      "Pune Warriors                  1.300000\n",
      "Rajasthan Royals               1.185185\n",
      "Rising Pune Supergiant         1.000000\n",
      "Rising Pune Supergiants        1.000000\n",
      "Royal Challengers Bangalore    1.171429\n",
      "Sunrisers Hyderabad            0.652174\n",
      "dtype: float64\n"
     ]
    }
   ],
   "source": [
    "print ( df[\"team2\"].value_counts() / df[\"team1\"].value_counts() )"
   ]
  },
  {
   "cell_type": "code",
   "execution_count": null,
   "id": "5d0298f0",
   "metadata": {},
   "outputs": [],
   "source": []
  }
 ],
 "metadata": {
  "kernelspec": {
   "display_name": "Python 3 (ipykernel)",
   "language": "python",
   "name": "python3"
  },
  "language_info": {
   "codemirror_mode": {
    "name": "ipython",
    "version": 3
   },
   "file_extension": ".py",
   "mimetype": "text/x-python",
   "name": "python",
   "nbconvert_exporter": "python",
   "pygments_lexer": "ipython3",
   "version": "3.10.9"
  }
 },
 "nbformat": 4,
 "nbformat_minor": 5
}
