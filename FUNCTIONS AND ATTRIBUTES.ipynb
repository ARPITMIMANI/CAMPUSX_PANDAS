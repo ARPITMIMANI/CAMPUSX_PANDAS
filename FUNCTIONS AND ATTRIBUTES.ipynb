{
 "cells": [
  {
   "cell_type": "code",
   "execution_count": 1,
   "id": "c54bab78",
   "metadata": {},
   "outputs": [
    {
     "name": "stdout",
     "output_type": "stream",
     "text": [
      "      id  season       city        date                        team1  \\\n",
      "0      1    2017  Hyderabad  2017-04-05          Sunrisers Hyderabad   \n",
      "1      2    2017       Pune  2017-04-06               Mumbai Indians   \n",
      "2      3    2017     Rajkot  2017-04-07                Gujarat Lions   \n",
      "3      4    2017     Indore  2017-04-08       Rising Pune Supergiant   \n",
      "4      5    2017  Bangalore  2017-04-08  Royal Challengers Bangalore   \n",
      "..   ...     ...        ...         ...                          ...   \n",
      "631  632    2016     Raipur  2016-05-22             Delhi Daredevils   \n",
      "632  633    2016  Bangalore  2016-05-24                Gujarat Lions   \n",
      "633  634    2016      Delhi  2016-05-25          Sunrisers Hyderabad   \n",
      "634  635    2016      Delhi  2016-05-27                Gujarat Lions   \n",
      "635  636    2016  Bangalore  2016-05-29          Sunrisers Hyderabad   \n",
      "\n",
      "                           team2                  toss_winner toss_decision  \\\n",
      "0    Royal Challengers Bangalore  Royal Challengers Bangalore         field   \n",
      "1         Rising Pune Supergiant       Rising Pune Supergiant         field   \n",
      "2          Kolkata Knight Riders        Kolkata Knight Riders         field   \n",
      "3                Kings XI Punjab              Kings XI Punjab         field   \n",
      "4               Delhi Daredevils  Royal Challengers Bangalore           bat   \n",
      "..                           ...                          ...           ...   \n",
      "631  Royal Challengers Bangalore  Royal Challengers Bangalore         field   \n",
      "632  Royal Challengers Bangalore  Royal Challengers Bangalore         field   \n",
      "633        Kolkata Knight Riders        Kolkata Knight Riders         field   \n",
      "634          Sunrisers Hyderabad          Sunrisers Hyderabad         field   \n",
      "635  Royal Challengers Bangalore          Sunrisers Hyderabad           bat   \n",
      "\n",
      "     result  dl_applied                       winner  win_by_runs  \\\n",
      "0    normal           0          Sunrisers Hyderabad           35   \n",
      "1    normal           0       Rising Pune Supergiant            0   \n",
      "2    normal           0        Kolkata Knight Riders            0   \n",
      "3    normal           0              Kings XI Punjab            0   \n",
      "4    normal           0  Royal Challengers Bangalore           15   \n",
      "..      ...         ...                          ...          ...   \n",
      "631  normal           0  Royal Challengers Bangalore            0   \n",
      "632  normal           0  Royal Challengers Bangalore            0   \n",
      "633  normal           0          Sunrisers Hyderabad           22   \n",
      "634  normal           0          Sunrisers Hyderabad            0   \n",
      "635  normal           0          Sunrisers Hyderabad            8   \n",
      "\n",
      "     win_by_wickets player_of_match  \\\n",
      "0                 0    Yuvraj Singh   \n",
      "1                 7       SPD Smith   \n",
      "2                10         CA Lynn   \n",
      "3                 6      GJ Maxwell   \n",
      "4                 0       KM Jadhav   \n",
      "..              ...             ...   \n",
      "631               6         V Kohli   \n",
      "632               4  AB de Villiers   \n",
      "633               0    MC Henriques   \n",
      "634               4       DA Warner   \n",
      "635               0     BCJ Cutting   \n",
      "\n",
      "                                                venue          umpire1  \\\n",
      "0           Rajiv Gandhi International Stadium, Uppal      AY Dandekar   \n",
      "1             Maharashtra Cricket Association Stadium   A Nand Kishore   \n",
      "2              Saurashtra Cricket Association Stadium      Nitin Menon   \n",
      "3                              Holkar Cricket Stadium     AK Chaudhary   \n",
      "4                               M Chinnaswamy Stadium              NaN   \n",
      "..                                                ...              ...   \n",
      "631  Shaheed Veer Narayan Singh International Stadium   A Nand Kishore   \n",
      "632                             M Chinnaswamy Stadium     AK Chaudhary   \n",
      "633                                  Feroz Shah Kotla        M Erasmus   \n",
      "634                                  Feroz Shah Kotla        M Erasmus   \n",
      "635                             M Chinnaswamy Stadium  HDPK Dharmasena   \n",
      "\n",
      "             umpire2  umpire3  \n",
      "0           NJ Llong      NaN  \n",
      "1             S Ravi      NaN  \n",
      "2          CK Nandan      NaN  \n",
      "3      C Shamshuddin      NaN  \n",
      "4                NaN      NaN  \n",
      "..               ...      ...  \n",
      "631     BNJ Oxenford      NaN  \n",
      "632  HDPK Dharmasena      NaN  \n",
      "633    C Shamshuddin      NaN  \n",
      "634        CK Nandan      NaN  \n",
      "635     BNJ Oxenford      NaN  \n",
      "\n",
      "[636 rows x 18 columns]\n"
     ]
    }
   ],
   "source": [
    "import pandas as pd\n",
    "df = pd.read_csv(\"MATCH_DATA.csv\")\n",
    "print(df)"
   ]
  },
  {
   "cell_type": "code",
   "execution_count": 2,
   "id": "c615465a",
   "metadata": {},
   "outputs": [
    {
     "name": "stdout",
     "output_type": "stream",
     "text": [
      "   id  season       city        date                        team1  \\\n",
      "0   1    2017  Hyderabad  2017-04-05          Sunrisers Hyderabad   \n",
      "1   2    2017       Pune  2017-04-06               Mumbai Indians   \n",
      "2   3    2017     Rajkot  2017-04-07                Gujarat Lions   \n",
      "3   4    2017     Indore  2017-04-08       Rising Pune Supergiant   \n",
      "4   5    2017  Bangalore  2017-04-08  Royal Challengers Bangalore   \n",
      "\n",
      "                         team2                  toss_winner toss_decision  \\\n",
      "0  Royal Challengers Bangalore  Royal Challengers Bangalore         field   \n",
      "1       Rising Pune Supergiant       Rising Pune Supergiant         field   \n",
      "2        Kolkata Knight Riders        Kolkata Knight Riders         field   \n",
      "3              Kings XI Punjab              Kings XI Punjab         field   \n",
      "4             Delhi Daredevils  Royal Challengers Bangalore           bat   \n",
      "\n",
      "   result  dl_applied                       winner  win_by_runs  \\\n",
      "0  normal           0          Sunrisers Hyderabad           35   \n",
      "1  normal           0       Rising Pune Supergiant            0   \n",
      "2  normal           0        Kolkata Knight Riders            0   \n",
      "3  normal           0              Kings XI Punjab            0   \n",
      "4  normal           0  Royal Challengers Bangalore           15   \n",
      "\n",
      "   win_by_wickets player_of_match                                      venue  \\\n",
      "0               0    Yuvraj Singh  Rajiv Gandhi International Stadium, Uppal   \n",
      "1               7       SPD Smith    Maharashtra Cricket Association Stadium   \n",
      "2              10         CA Lynn     Saurashtra Cricket Association Stadium   \n",
      "3               6      GJ Maxwell                     Holkar Cricket Stadium   \n",
      "4               0       KM Jadhav                      M Chinnaswamy Stadium   \n",
      "\n",
      "          umpire1        umpire2  umpire3  \n",
      "0     AY Dandekar       NJ Llong      NaN  \n",
      "1  A Nand Kishore         S Ravi      NaN  \n",
      "2     Nitin Menon      CK Nandan      NaN  \n",
      "3    AK Chaudhary  C Shamshuddin      NaN  \n",
      "4             NaN            NaN      NaN  \n"
     ]
    }
   ],
   "source": [
    "print ( df.head() )"
   ]
  },
  {
   "cell_type": "code",
   "execution_count": 3,
   "id": "23a848fb",
   "metadata": {},
   "outputs": [
    {
     "name": "stdout",
     "output_type": "stream",
     "text": [
      "   id  season       city        date                team1  \\\n",
      "0   1    2017  Hyderabad  2017-04-05  Sunrisers Hyderabad   \n",
      "1   2    2017       Pune  2017-04-06       Mumbai Indians   \n",
      "2   3    2017     Rajkot  2017-04-07        Gujarat Lions   \n",
      "\n",
      "                         team2                  toss_winner toss_decision  \\\n",
      "0  Royal Challengers Bangalore  Royal Challengers Bangalore         field   \n",
      "1       Rising Pune Supergiant       Rising Pune Supergiant         field   \n",
      "2        Kolkata Knight Riders        Kolkata Knight Riders         field   \n",
      "\n",
      "   result  dl_applied                  winner  win_by_runs  win_by_wickets  \\\n",
      "0  normal           0     Sunrisers Hyderabad           35               0   \n",
      "1  normal           0  Rising Pune Supergiant            0               7   \n",
      "2  normal           0   Kolkata Knight Riders            0              10   \n",
      "\n",
      "  player_of_match                                      venue         umpire1  \\\n",
      "0    Yuvraj Singh  Rajiv Gandhi International Stadium, Uppal     AY Dandekar   \n",
      "1       SPD Smith    Maharashtra Cricket Association Stadium  A Nand Kishore   \n",
      "2         CA Lynn     Saurashtra Cricket Association Stadium     Nitin Menon   \n",
      "\n",
      "     umpire2  umpire3  \n",
      "0   NJ Llong      NaN  \n",
      "1     S Ravi      NaN  \n",
      "2  CK Nandan      NaN  \n"
     ]
    }
   ],
   "source": [
    "print ( df.head(3) )"
   ]
  },
  {
   "cell_type": "code",
   "execution_count": 4,
   "id": "9409671f",
   "metadata": {},
   "outputs": [
    {
     "name": "stdout",
     "output_type": "stream",
     "text": [
      "      id  season       city        date                team1  \\\n",
      "631  632    2016     Raipur  2016-05-22     Delhi Daredevils   \n",
      "632  633    2016  Bangalore  2016-05-24        Gujarat Lions   \n",
      "633  634    2016      Delhi  2016-05-25  Sunrisers Hyderabad   \n",
      "634  635    2016      Delhi  2016-05-27        Gujarat Lions   \n",
      "635  636    2016  Bangalore  2016-05-29  Sunrisers Hyderabad   \n",
      "\n",
      "                           team2                  toss_winner toss_decision  \\\n",
      "631  Royal Challengers Bangalore  Royal Challengers Bangalore         field   \n",
      "632  Royal Challengers Bangalore  Royal Challengers Bangalore         field   \n",
      "633        Kolkata Knight Riders        Kolkata Knight Riders         field   \n",
      "634          Sunrisers Hyderabad          Sunrisers Hyderabad         field   \n",
      "635  Royal Challengers Bangalore          Sunrisers Hyderabad           bat   \n",
      "\n",
      "     result  dl_applied                       winner  win_by_runs  \\\n",
      "631  normal           0  Royal Challengers Bangalore            0   \n",
      "632  normal           0  Royal Challengers Bangalore            0   \n",
      "633  normal           0          Sunrisers Hyderabad           22   \n",
      "634  normal           0          Sunrisers Hyderabad            0   \n",
      "635  normal           0          Sunrisers Hyderabad            8   \n",
      "\n",
      "     win_by_wickets player_of_match  \\\n",
      "631               6         V Kohli   \n",
      "632               4  AB de Villiers   \n",
      "633               0    MC Henriques   \n",
      "634               4       DA Warner   \n",
      "635               0     BCJ Cutting   \n",
      "\n",
      "                                                venue          umpire1  \\\n",
      "631  Shaheed Veer Narayan Singh International Stadium   A Nand Kishore   \n",
      "632                             M Chinnaswamy Stadium     AK Chaudhary   \n",
      "633                                  Feroz Shah Kotla        M Erasmus   \n",
      "634                                  Feroz Shah Kotla        M Erasmus   \n",
      "635                             M Chinnaswamy Stadium  HDPK Dharmasena   \n",
      "\n",
      "             umpire2  umpire3  \n",
      "631     BNJ Oxenford      NaN  \n",
      "632  HDPK Dharmasena      NaN  \n",
      "633    C Shamshuddin      NaN  \n",
      "634        CK Nandan      NaN  \n",
      "635     BNJ Oxenford      NaN  \n"
     ]
    }
   ],
   "source": [
    "print ( df.tail() )"
   ]
  },
  {
   "cell_type": "code",
   "execution_count": 5,
   "id": "4647ab61",
   "metadata": {},
   "outputs": [
    {
     "name": "stdout",
     "output_type": "stream",
     "text": [
      "      id  season       city        date                team1  \\\n",
      "633  634    2016      Delhi  2016-05-25  Sunrisers Hyderabad   \n",
      "634  635    2016      Delhi  2016-05-27        Gujarat Lions   \n",
      "635  636    2016  Bangalore  2016-05-29  Sunrisers Hyderabad   \n",
      "\n",
      "                           team2            toss_winner toss_decision  result  \\\n",
      "633        Kolkata Knight Riders  Kolkata Knight Riders         field  normal   \n",
      "634          Sunrisers Hyderabad    Sunrisers Hyderabad         field  normal   \n",
      "635  Royal Challengers Bangalore    Sunrisers Hyderabad           bat  normal   \n",
      "\n",
      "     dl_applied               winner  win_by_runs  win_by_wickets  \\\n",
      "633           0  Sunrisers Hyderabad           22               0   \n",
      "634           0  Sunrisers Hyderabad            0               4   \n",
      "635           0  Sunrisers Hyderabad            8               0   \n",
      "\n",
      "    player_of_match                  venue          umpire1        umpire2  \\\n",
      "633    MC Henriques       Feroz Shah Kotla        M Erasmus  C Shamshuddin   \n",
      "634       DA Warner       Feroz Shah Kotla        M Erasmus      CK Nandan   \n",
      "635     BCJ Cutting  M Chinnaswamy Stadium  HDPK Dharmasena   BNJ Oxenford   \n",
      "\n",
      "     umpire3  \n",
      "633      NaN  \n",
      "634      NaN  \n",
      "635      NaN  \n"
     ]
    }
   ],
   "source": [
    "print ( df.tail(3) )"
   ]
  },
  {
   "cell_type": "code",
   "execution_count": 6,
   "id": "42a9439b",
   "metadata": {},
   "outputs": [
    {
     "name": "stdout",
     "output_type": "stream",
     "text": [
      "THE SHAPE OF DATAFRAME IS (636, 18)\n"
     ]
    }
   ],
   "source": [
    "print ( \"THE SHAPE OF DATAFRAME IS\" , df.shape )"
   ]
  },
  {
   "cell_type": "code",
   "execution_count": 7,
   "id": "d53a0d55",
   "metadata": {},
   "outputs": [
    {
     "name": "stdout",
     "output_type": "stream",
     "text": [
      "THE NUMBER OF ROWS IN DATAFRAME IS 636\n"
     ]
    }
   ],
   "source": [
    "print ( \"THE NUMBER OF ROWS IN DATAFRAME IS\" , df.shape[0] )"
   ]
  },
  {
   "cell_type": "code",
   "execution_count": 8,
   "id": "f11eae4c",
   "metadata": {},
   "outputs": [
    {
     "name": "stdout",
     "output_type": "stream",
     "text": [
      "THE NUMBER OF COLUMNS IN DATAFRAME IS 18\n"
     ]
    }
   ],
   "source": [
    "print ( \"THE NUMBER OF COLUMNS IN DATAFRAME IS\" , df.shape[1] )"
   ]
  },
  {
   "cell_type": "code",
   "execution_count": 9,
   "id": "40831c85",
   "metadata": {},
   "outputs": [
    {
     "name": "stdout",
     "output_type": "stream",
     "text": [
      "<class 'pandas.core.frame.DataFrame'>\n",
      "RangeIndex: 636 entries, 0 to 635\n",
      "Data columns (total 18 columns):\n",
      " #   Column           Non-Null Count  Dtype  \n",
      "---  ------           --------------  -----  \n",
      " 0   id               636 non-null    int64  \n",
      " 1   season           636 non-null    int64  \n",
      " 2   city             629 non-null    object \n",
      " 3   date             636 non-null    object \n",
      " 4   team1            636 non-null    object \n",
      " 5   team2            636 non-null    object \n",
      " 6   toss_winner      636 non-null    object \n",
      " 7   toss_decision    636 non-null    object \n",
      " 8   result           636 non-null    object \n",
      " 9   dl_applied       636 non-null    int64  \n",
      " 10  winner           633 non-null    object \n",
      " 11  win_by_runs      636 non-null    int64  \n",
      " 12  win_by_wickets   636 non-null    int64  \n",
      " 13  player_of_match  633 non-null    object \n",
      " 14  venue            636 non-null    object \n",
      " 15  umpire1          635 non-null    object \n",
      " 16  umpire2          635 non-null    object \n",
      " 17  umpire3          0 non-null      float64\n",
      "dtypes: float64(1), int64(5), object(12)\n",
      "memory usage: 89.6+ KB\n",
      "None\n"
     ]
    }
   ],
   "source": [
    "print ( df.info() )"
   ]
  },
  {
   "cell_type": "code",
   "execution_count": 10,
   "id": "5751d00e",
   "metadata": {},
   "outputs": [
    {
     "name": "stdout",
     "output_type": "stream",
     "text": [
      "               id       season  dl_applied  win_by_runs  win_by_wickets  \\\n",
      "count  636.000000   636.000000  636.000000   636.000000      636.000000   \n",
      "mean   318.500000  2012.490566    0.025157    13.682390        3.372642   \n",
      "std    183.741666     2.773026    0.156726    23.908877        3.420338   \n",
      "min      1.000000  2008.000000    0.000000     0.000000        0.000000   \n",
      "25%    159.750000  2010.000000    0.000000     0.000000        0.000000   \n",
      "50%    318.500000  2012.000000    0.000000     0.000000        4.000000   \n",
      "75%    477.250000  2015.000000    0.000000    20.000000        7.000000   \n",
      "max    636.000000  2017.000000    1.000000   146.000000       10.000000   \n",
      "\n",
      "       umpire3  \n",
      "count      0.0  \n",
      "mean       NaN  \n",
      "std        NaN  \n",
      "min        NaN  \n",
      "25%        NaN  \n",
      "50%        NaN  \n",
      "75%        NaN  \n",
      "max        NaN  \n"
     ]
    }
   ],
   "source": [
    "print ( df.describe() )"
   ]
  },
  {
   "cell_type": "code",
   "execution_count": 11,
   "id": "72846e97",
   "metadata": {},
   "outputs": [
    {
     "name": "stdout",
     "output_type": "stream",
     "text": [
      "Index(['id', 'season', 'city', 'date', 'team1', 'team2', 'toss_winner',\n",
      "       'toss_decision', 'result', 'dl_applied', 'winner', 'win_by_runs',\n",
      "       'win_by_wickets', 'player_of_match', 'venue', 'umpire1', 'umpire2',\n",
      "       'umpire3'],\n",
      "      dtype='object')\n"
     ]
    }
   ],
   "source": [
    "print ( df.columns )"
   ]
  },
  {
   "cell_type": "code",
   "execution_count": null,
   "id": "fa310e83",
   "metadata": {},
   "outputs": [],
   "source": []
  }
 ],
 "metadata": {
  "kernelspec": {
   "display_name": "Python 3 (ipykernel)",
   "language": "python",
   "name": "python3"
  },
  "language_info": {
   "codemirror_mode": {
    "name": "ipython",
    "version": 3
   },
   "file_extension": ".py",
   "mimetype": "text/x-python",
   "name": "python",
   "nbconvert_exporter": "python",
   "pygments_lexer": "ipython3",
   "version": "3.10.9"
  }
 },
 "nbformat": 4,
 "nbformat_minor": 5
}
