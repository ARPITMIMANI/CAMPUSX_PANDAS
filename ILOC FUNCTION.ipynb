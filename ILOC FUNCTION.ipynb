{
 "cells": [
  {
   "cell_type": "code",
   "execution_count": 1,
   "id": "510481b0",
   "metadata": {},
   "outputs": [
    {
     "name": "stdout",
     "output_type": "stream",
     "text": [
      "      id  season       city        date                        team1  \\\n",
      "0      1    2017  Hyderabad  2017-04-05          Sunrisers Hyderabad   \n",
      "1      2    2017       Pune  2017-04-06               Mumbai Indians   \n",
      "2      3    2017     Rajkot  2017-04-07                Gujarat Lions   \n",
      "3      4    2017     Indore  2017-04-08       Rising Pune Supergiant   \n",
      "4      5    2017  Bangalore  2017-04-08  Royal Challengers Bangalore   \n",
      "..   ...     ...        ...         ...                          ...   \n",
      "631  632    2016     Raipur  2016-05-22             Delhi Daredevils   \n",
      "632  633    2016  Bangalore  2016-05-24                Gujarat Lions   \n",
      "633  634    2016      Delhi  2016-05-25          Sunrisers Hyderabad   \n",
      "634  635    2016      Delhi  2016-05-27                Gujarat Lions   \n",
      "635  636    2016  Bangalore  2016-05-29          Sunrisers Hyderabad   \n",
      "\n",
      "                           team2                  toss_winner toss_decision  \\\n",
      "0    Royal Challengers Bangalore  Royal Challengers Bangalore         field   \n",
      "1         Rising Pune Supergiant       Rising Pune Supergiant         field   \n",
      "2          Kolkata Knight Riders        Kolkata Knight Riders         field   \n",
      "3                Kings XI Punjab              Kings XI Punjab         field   \n",
      "4               Delhi Daredevils  Royal Challengers Bangalore           bat   \n",
      "..                           ...                          ...           ...   \n",
      "631  Royal Challengers Bangalore  Royal Challengers Bangalore         field   \n",
      "632  Royal Challengers Bangalore  Royal Challengers Bangalore         field   \n",
      "633        Kolkata Knight Riders        Kolkata Knight Riders         field   \n",
      "634          Sunrisers Hyderabad          Sunrisers Hyderabad         field   \n",
      "635  Royal Challengers Bangalore          Sunrisers Hyderabad           bat   \n",
      "\n",
      "     result  dl_applied                       winner  win_by_runs  \\\n",
      "0    normal           0          Sunrisers Hyderabad           35   \n",
      "1    normal           0       Rising Pune Supergiant            0   \n",
      "2    normal           0        Kolkata Knight Riders            0   \n",
      "3    normal           0              Kings XI Punjab            0   \n",
      "4    normal           0  Royal Challengers Bangalore           15   \n",
      "..      ...         ...                          ...          ...   \n",
      "631  normal           0  Royal Challengers Bangalore            0   \n",
      "632  normal           0  Royal Challengers Bangalore            0   \n",
      "633  normal           0          Sunrisers Hyderabad           22   \n",
      "634  normal           0          Sunrisers Hyderabad            0   \n",
      "635  normal           0          Sunrisers Hyderabad            8   \n",
      "\n",
      "     win_by_wickets player_of_match  \\\n",
      "0                 0    Yuvraj Singh   \n",
      "1                 7       SPD Smith   \n",
      "2                10         CA Lynn   \n",
      "3                 6      GJ Maxwell   \n",
      "4                 0       KM Jadhav   \n",
      "..              ...             ...   \n",
      "631               6         V Kohli   \n",
      "632               4  AB de Villiers   \n",
      "633               0    MC Henriques   \n",
      "634               4       DA Warner   \n",
      "635               0     BCJ Cutting   \n",
      "\n",
      "                                                venue          umpire1  \\\n",
      "0           Rajiv Gandhi International Stadium, Uppal      AY Dandekar   \n",
      "1             Maharashtra Cricket Association Stadium   A Nand Kishore   \n",
      "2              Saurashtra Cricket Association Stadium      Nitin Menon   \n",
      "3                              Holkar Cricket Stadium     AK Chaudhary   \n",
      "4                               M Chinnaswamy Stadium              NaN   \n",
      "..                                                ...              ...   \n",
      "631  Shaheed Veer Narayan Singh International Stadium   A Nand Kishore   \n",
      "632                             M Chinnaswamy Stadium     AK Chaudhary   \n",
      "633                                  Feroz Shah Kotla        M Erasmus   \n",
      "634                                  Feroz Shah Kotla        M Erasmus   \n",
      "635                             M Chinnaswamy Stadium  HDPK Dharmasena   \n",
      "\n",
      "             umpire2  umpire3  \n",
      "0           NJ Llong      NaN  \n",
      "1             S Ravi      NaN  \n",
      "2          CK Nandan      NaN  \n",
      "3      C Shamshuddin      NaN  \n",
      "4                NaN      NaN  \n",
      "..               ...      ...  \n",
      "631     BNJ Oxenford      NaN  \n",
      "632  HDPK Dharmasena      NaN  \n",
      "633    C Shamshuddin      NaN  \n",
      "634        CK Nandan      NaN  \n",
      "635     BNJ Oxenford      NaN  \n",
      "\n",
      "[636 rows x 18 columns]\n"
     ]
    }
   ],
   "source": [
    "import pandas as pd\n",
    "df = pd.read_csv(\"MATCH_DATA.csv\")\n",
    "print(df)"
   ]
  },
  {
   "cell_type": "code",
   "execution_count": 2,
   "id": "5c9db78a",
   "metadata": {},
   "outputs": [
    {
     "name": "stdout",
     "output_type": "stream",
     "text": [
      "0              Sunrisers Hyderabad\n",
      "1           Rising Pune Supergiant\n",
      "2            Kolkata Knight Riders\n",
      "3                  Kings XI Punjab\n",
      "4      Royal Challengers Bangalore\n",
      "                  ...             \n",
      "631    Royal Challengers Bangalore\n",
      "632    Royal Challengers Bangalore\n",
      "633            Sunrisers Hyderabad\n",
      "634            Sunrisers Hyderabad\n",
      "635            Sunrisers Hyderabad\n",
      "Name: winner, Length: 636, dtype: object\n"
     ]
    }
   ],
   "source": [
    "df1 =  df[\"winner\"] \n",
    "print(df1)"
   ]
  },
  {
   "cell_type": "code",
   "execution_count": 3,
   "id": "cd10bfc0",
   "metadata": {},
   "outputs": [
    {
     "name": "stdout",
     "output_type": "stream",
     "text": [
      "<class 'pandas.core.series.Series'>\n"
     ]
    }
   ],
   "source": [
    "print ( type(df1) )"
   ]
  },
  {
   "cell_type": "code",
   "execution_count": 4,
   "id": "7600f90b",
   "metadata": {},
   "outputs": [
    {
     "name": "stdout",
     "output_type": "stream",
     "text": [
      "(636,)\n"
     ]
    }
   ],
   "source": [
    "print ( df1.shape )"
   ]
  },
  {
   "cell_type": "code",
   "execution_count": 5,
   "id": "0b93219a",
   "metadata": {},
   "outputs": [
    {
     "name": "stdout",
     "output_type": "stream",
     "text": [
      "                           team1                        team2  \\\n",
      "0            Sunrisers Hyderabad  Royal Challengers Bangalore   \n",
      "1                 Mumbai Indians       Rising Pune Supergiant   \n",
      "2                  Gujarat Lions        Kolkata Knight Riders   \n",
      "3         Rising Pune Supergiant              Kings XI Punjab   \n",
      "4    Royal Challengers Bangalore             Delhi Daredevils   \n",
      "..                           ...                          ...   \n",
      "631             Delhi Daredevils  Royal Challengers Bangalore   \n",
      "632                Gujarat Lions  Royal Challengers Bangalore   \n",
      "633          Sunrisers Hyderabad        Kolkata Knight Riders   \n",
      "634                Gujarat Lions          Sunrisers Hyderabad   \n",
      "635          Sunrisers Hyderabad  Royal Challengers Bangalore   \n",
      "\n",
      "                          winner  \n",
      "0            Sunrisers Hyderabad  \n",
      "1         Rising Pune Supergiant  \n",
      "2          Kolkata Knight Riders  \n",
      "3                Kings XI Punjab  \n",
      "4    Royal Challengers Bangalore  \n",
      "..                           ...  \n",
      "631  Royal Challengers Bangalore  \n",
      "632  Royal Challengers Bangalore  \n",
      "633          Sunrisers Hyderabad  \n",
      "634          Sunrisers Hyderabad  \n",
      "635          Sunrisers Hyderabad  \n",
      "\n",
      "[636 rows x 3 columns]\n"
     ]
    }
   ],
   "source": [
    "df2 =  df [[ \"team1\" , \"team2\" , \"winner\" ]]\n",
    "print(df2)"
   ]
  },
  {
   "cell_type": "code",
   "execution_count": 6,
   "id": "b6347ef7",
   "metadata": {},
   "outputs": [
    {
     "name": "stdout",
     "output_type": "stream",
     "text": [
      "<class 'pandas.core.frame.DataFrame'>\n"
     ]
    }
   ],
   "source": [
    "print ( type(df2) ) "
   ]
  },
  {
   "cell_type": "code",
   "execution_count": 7,
   "id": "2efdacfe",
   "metadata": {},
   "outputs": [
    {
     "name": "stdout",
     "output_type": "stream",
     "text": [
      "(636, 3)\n"
     ]
    }
   ],
   "source": [
    "print ( df2.shape )"
   ]
  },
  {
   "cell_type": "code",
   "execution_count": 8,
   "id": "47a01fff",
   "metadata": {},
   "outputs": [
    {
     "name": "stdout",
     "output_type": "stream",
     "text": [
      "id                                                         1\n",
      "season                                                  2017\n",
      "city                                               Hyderabad\n",
      "date                                              2017-04-05\n",
      "team1                                    Sunrisers Hyderabad\n",
      "team2                            Royal Challengers Bangalore\n",
      "toss_winner                      Royal Challengers Bangalore\n",
      "toss_decision                                          field\n",
      "result                                                normal\n",
      "dl_applied                                                 0\n",
      "winner                                   Sunrisers Hyderabad\n",
      "win_by_runs                                               35\n",
      "win_by_wickets                                             0\n",
      "player_of_match                                 Yuvraj Singh\n",
      "venue              Rajiv Gandhi International Stadium, Uppal\n",
      "umpire1                                          AY Dandekar\n",
      "umpire2                                             NJ Llong\n",
      "umpire3                                                  NaN\n",
      "Name: 0, dtype: object\n"
     ]
    }
   ],
   "source": [
    "print ( df.iloc[0] )"
   ]
  },
  {
   "cell_type": "code",
   "execution_count": 9,
   "id": "cb05efb4",
   "metadata": {},
   "outputs": [
    {
     "name": "stdout",
     "output_type": "stream",
     "text": [
      "id                                         636\n",
      "season                                    2016\n",
      "city                                 Bangalore\n",
      "date                                2016-05-29\n",
      "team1                      Sunrisers Hyderabad\n",
      "team2              Royal Challengers Bangalore\n",
      "toss_winner                Sunrisers Hyderabad\n",
      "toss_decision                              bat\n",
      "result                                  normal\n",
      "dl_applied                                   0\n",
      "winner                     Sunrisers Hyderabad\n",
      "win_by_runs                                  8\n",
      "win_by_wickets                               0\n",
      "player_of_match                    BCJ Cutting\n",
      "venue                    M Chinnaswamy Stadium\n",
      "umpire1                        HDPK Dharmasena\n",
      "umpire2                           BNJ Oxenford\n",
      "umpire3                                    NaN\n",
      "Name: 635, dtype: object\n"
     ]
    }
   ],
   "source": [
    "print ( df.iloc[635] )"
   ]
  },
  {
   "cell_type": "code",
   "execution_count": 10,
   "id": "02229c4e",
   "metadata": {},
   "outputs": [
    {
     "name": "stdout",
     "output_type": "stream",
     "text": [
      "    id  season       city        date                        team1  \\\n",
      "11  12    2017  Bangalore  2017-04-14  Royal Challengers Bangalore   \n",
      "12  13    2017     Rajkot  2017-04-14       Rising Pune Supergiant   \n",
      "13  14    2017    Kolkata  2017-04-15        Kolkata Knight Riders   \n",
      "14  15    2017      Delhi  2017-04-15             Delhi Daredevils   \n",
      "15  16    2017     Mumbai  2017-04-16                Gujarat Lions   \n",
      "16  17    2017  Bangalore  2017-04-16       Rising Pune Supergiant   \n",
      "17  18    2017      Delhi  2017-04-17             Delhi Daredevils   \n",
      "18  19    2017  Hyderabad  2017-04-17          Sunrisers Hyderabad   \n",
      "19  20    2017     Rajkot  2017-04-18  Royal Challengers Bangalore   \n",
      "20  21    2017  Hyderabad  2017-04-19          Sunrisers Hyderabad   \n",
      "\n",
      "                          team2                  toss_winner toss_decision  \\\n",
      "11               Mumbai Indians               Mumbai Indians         field   \n",
      "12                Gujarat Lions                Gujarat Lions         field   \n",
      "13          Sunrisers Hyderabad          Sunrisers Hyderabad         field   \n",
      "14              Kings XI Punjab             Delhi Daredevils           bat   \n",
      "15               Mumbai Indians               Mumbai Indians         field   \n",
      "16  Royal Challengers Bangalore  Royal Challengers Bangalore         field   \n",
      "17        Kolkata Knight Riders             Delhi Daredevils           bat   \n",
      "18              Kings XI Punjab              Kings XI Punjab         field   \n",
      "19                Gujarat Lions                Gujarat Lions         field   \n",
      "20             Delhi Daredevils          Sunrisers Hyderabad           bat   \n",
      "\n",
      "    result  dl_applied                       winner  win_by_runs  \\\n",
      "11  normal           0               Mumbai Indians            0   \n",
      "12  normal           0                Gujarat Lions            0   \n",
      "13  normal           0        Kolkata Knight Riders           17   \n",
      "14  normal           0             Delhi Daredevils           51   \n",
      "15  normal           0               Mumbai Indians            0   \n",
      "16  normal           0       Rising Pune Supergiant           27   \n",
      "17  normal           0        Kolkata Knight Riders            0   \n",
      "18  normal           0          Sunrisers Hyderabad            5   \n",
      "19  normal           0  Royal Challengers Bangalore           21   \n",
      "20  normal           0          Sunrisers Hyderabad           15   \n",
      "\n",
      "    win_by_wickets  player_of_match  \\\n",
      "11               4       KA Pollard   \n",
      "12               7           AJ Tye   \n",
      "13               0       RV Uthappa   \n",
      "14               0      CJ Anderson   \n",
      "15               6           N Rana   \n",
      "16               0        BA Stokes   \n",
      "17               4  NM Coulter-Nile   \n",
      "18               0          B Kumar   \n",
      "19               0         CH Gayle   \n",
      "20               0    KS Williamson   \n",
      "\n",
      "                                        venue                umpire1  \\\n",
      "11                      M Chinnaswamy Stadium  KN Ananthapadmanabhan   \n",
      "12     Saurashtra Cricket Association Stadium         A Nand Kishore   \n",
      "13                               Eden Gardens            AY Dandekar   \n",
      "14                           Feroz Shah Kotla               YC Barde   \n",
      "15                           Wankhede Stadium         A Nand Kishore   \n",
      "16                      M Chinnaswamy Stadium  KN Ananthapadmanabhan   \n",
      "17                           Feroz Shah Kotla            Nitin Menon   \n",
      "18  Rajiv Gandhi International Stadium, Uppal            AY Dandekar   \n",
      "19     Saurashtra Cricket Association Stadium                 S Ravi   \n",
      "20  Rajiv Gandhi International Stadium, Uppal            CB Gaffaney   \n",
      "\n",
      "          umpire2  umpire3  \n",
      "11   AK Chaudhary      NaN  \n",
      "12         S Ravi      NaN  \n",
      "13       NJ Llong      NaN  \n",
      "14    Nitin Menon      NaN  \n",
      "15         S Ravi      NaN  \n",
      "16  C Shamshuddin      NaN  \n",
      "17      CK Nandan      NaN  \n",
      "18     A Deshmukh      NaN  \n",
      "19      VK Sharma      NaN  \n",
      "20       NJ Llong      NaN  \n"
     ]
    }
   ],
   "source": [
    "print ( df.iloc[11:21] )"
   ]
  },
  {
   "cell_type": "code",
   "execution_count": 11,
   "id": "14ba6d46",
   "metadata": {},
   "outputs": [
    {
     "name": "stdout",
     "output_type": "stream",
     "text": [
      "    id  season       city        date                        team1  \\\n",
      "11  12    2017  Bangalore  2017-04-14  Royal Challengers Bangalore   \n",
      "13  14    2017    Kolkata  2017-04-15        Kolkata Knight Riders   \n",
      "15  16    2017     Mumbai  2017-04-16                Gujarat Lions   \n",
      "17  18    2017      Delhi  2017-04-17             Delhi Daredevils   \n",
      "19  20    2017     Rajkot  2017-04-18  Royal Challengers Bangalore   \n",
      "\n",
      "                    team2          toss_winner toss_decision  result  \\\n",
      "11         Mumbai Indians       Mumbai Indians         field  normal   \n",
      "13    Sunrisers Hyderabad  Sunrisers Hyderabad         field  normal   \n",
      "15         Mumbai Indians       Mumbai Indians         field  normal   \n",
      "17  Kolkata Knight Riders     Delhi Daredevils           bat  normal   \n",
      "19          Gujarat Lions        Gujarat Lions         field  normal   \n",
      "\n",
      "    dl_applied                       winner  win_by_runs  win_by_wickets  \\\n",
      "11           0               Mumbai Indians            0               4   \n",
      "13           0        Kolkata Knight Riders           17               0   \n",
      "15           0               Mumbai Indians            0               6   \n",
      "17           0        Kolkata Knight Riders            0               4   \n",
      "19           0  Royal Challengers Bangalore           21               0   \n",
      "\n",
      "    player_of_match                                   venue  \\\n",
      "11       KA Pollard                   M Chinnaswamy Stadium   \n",
      "13       RV Uthappa                            Eden Gardens   \n",
      "15           N Rana                        Wankhede Stadium   \n",
      "17  NM Coulter-Nile                        Feroz Shah Kotla   \n",
      "19         CH Gayle  Saurashtra Cricket Association Stadium   \n",
      "\n",
      "                  umpire1       umpire2  umpire3  \n",
      "11  KN Ananthapadmanabhan  AK Chaudhary      NaN  \n",
      "13            AY Dandekar      NJ Llong      NaN  \n",
      "15         A Nand Kishore        S Ravi      NaN  \n",
      "17            Nitin Menon     CK Nandan      NaN  \n",
      "19                 S Ravi     VK Sharma      NaN  \n"
     ]
    }
   ],
   "source": [
    "print ( df.iloc[11:21:2] )"
   ]
  },
  {
   "cell_type": "code",
   "execution_count": 12,
   "id": "d9ab25b9",
   "metadata": {},
   "outputs": [
    {
     "name": "stdout",
     "output_type": "stream",
     "text": [
      "    id  season       city        date                        team1  \\\n",
      "2    3    2017     Rajkot  2017-04-07                Gujarat Lions   \n",
      "3    4    2017     Indore  2017-04-08       Rising Pune Supergiant   \n",
      "5    6    2017  Hyderabad  2017-04-09                Gujarat Lions   \n",
      "7    8    2017     Indore  2017-04-10  Royal Challengers Bangalore   \n",
      "11  12    2017  Bangalore  2017-04-14  Royal Challengers Bangalore   \n",
      "13  14    2017    Kolkata  2017-04-15        Kolkata Knight Riders   \n",
      "17  18    2017      Delhi  2017-04-17             Delhi Daredevils   \n",
      "19  20    2017     Rajkot  2017-04-18  Royal Challengers Bangalore   \n",
      "\n",
      "                    team2                  toss_winner toss_decision  result  \\\n",
      "2   Kolkata Knight Riders        Kolkata Knight Riders         field  normal   \n",
      "3         Kings XI Punjab              Kings XI Punjab         field  normal   \n",
      "5     Sunrisers Hyderabad          Sunrisers Hyderabad         field  normal   \n",
      "7         Kings XI Punjab  Royal Challengers Bangalore           bat  normal   \n",
      "11         Mumbai Indians               Mumbai Indians         field  normal   \n",
      "13    Sunrisers Hyderabad          Sunrisers Hyderabad         field  normal   \n",
      "17  Kolkata Knight Riders             Delhi Daredevils           bat  normal   \n",
      "19          Gujarat Lions                Gujarat Lions         field  normal   \n",
      "\n",
      "    dl_applied                       winner  win_by_runs  win_by_wickets  \\\n",
      "2            0        Kolkata Knight Riders            0              10   \n",
      "3            0              Kings XI Punjab            0               6   \n",
      "5            0          Sunrisers Hyderabad            0               9   \n",
      "7            0              Kings XI Punjab            0               8   \n",
      "11           0               Mumbai Indians            0               4   \n",
      "13           0        Kolkata Knight Riders           17               0   \n",
      "17           0        Kolkata Knight Riders            0               4   \n",
      "19           0  Royal Challengers Bangalore           21               0   \n",
      "\n",
      "    player_of_match                                      venue  \\\n",
      "2           CA Lynn     Saurashtra Cricket Association Stadium   \n",
      "3        GJ Maxwell                     Holkar Cricket Stadium   \n",
      "5       Rashid Khan  Rajiv Gandhi International Stadium, Uppal   \n",
      "7          AR Patel                     Holkar Cricket Stadium   \n",
      "11       KA Pollard                      M Chinnaswamy Stadium   \n",
      "13       RV Uthappa                               Eden Gardens   \n",
      "17  NM Coulter-Nile                           Feroz Shah Kotla   \n",
      "19         CH Gayle     Saurashtra Cricket Association Stadium   \n",
      "\n",
      "                  umpire1        umpire2  umpire3  \n",
      "2             Nitin Menon      CK Nandan      NaN  \n",
      "3            AK Chaudhary  C Shamshuddin      NaN  \n",
      "5              A Deshmukh       NJ Llong      NaN  \n",
      "7            AK Chaudhary  C Shamshuddin      NaN  \n",
      "11  KN Ananthapadmanabhan   AK Chaudhary      NaN  \n",
      "13            AY Dandekar       NJ Llong      NaN  \n",
      "17            Nitin Menon      CK Nandan      NaN  \n",
      "19                 S Ravi      VK Sharma      NaN  \n"
     ]
    }
   ],
   "source": [
    "print ( df.iloc[[2,3,5,7,11,13,17,19]] )"
   ]
  },
  {
   "cell_type": "code",
   "execution_count": 13,
   "id": "6a0460d0",
   "metadata": {},
   "outputs": [
    {
     "name": "stdout",
     "output_type": "stream",
     "text": [
      "                           team1                        team2  \\\n",
      "0            Sunrisers Hyderabad  Royal Challengers Bangalore   \n",
      "1                 Mumbai Indians       Rising Pune Supergiant   \n",
      "2                  Gujarat Lions        Kolkata Knight Riders   \n",
      "3         Rising Pune Supergiant              Kings XI Punjab   \n",
      "4    Royal Challengers Bangalore             Delhi Daredevils   \n",
      "..                           ...                          ...   \n",
      "631             Delhi Daredevils  Royal Challengers Bangalore   \n",
      "632                Gujarat Lions  Royal Challengers Bangalore   \n",
      "633          Sunrisers Hyderabad        Kolkata Knight Riders   \n",
      "634                Gujarat Lions          Sunrisers Hyderabad   \n",
      "635          Sunrisers Hyderabad  Royal Challengers Bangalore   \n",
      "\n",
      "                          winner  \n",
      "0            Sunrisers Hyderabad  \n",
      "1         Rising Pune Supergiant  \n",
      "2          Kolkata Knight Riders  \n",
      "3                Kings XI Punjab  \n",
      "4    Royal Challengers Bangalore  \n",
      "..                           ...  \n",
      "631  Royal Challengers Bangalore  \n",
      "632  Royal Challengers Bangalore  \n",
      "633          Sunrisers Hyderabad  \n",
      "634          Sunrisers Hyderabad  \n",
      "635          Sunrisers Hyderabad  \n",
      "\n",
      "[636 rows x 3 columns]\n"
     ]
    }
   ],
   "source": [
    "print ( df.iloc [ : , [4,5,10] ] )"
   ]
  },
  {
   "cell_type": "code",
   "execution_count": null,
   "id": "fe553dd6",
   "metadata": {},
   "outputs": [],
   "source": []
  }
 ],
 "metadata": {
  "kernelspec": {
   "display_name": "Python 3 (ipykernel)",
   "language": "python",
   "name": "python3"
  },
  "language_info": {
   "codemirror_mode": {
    "name": "ipython",
    "version": 3
   },
   "file_extension": ".py",
   "mimetype": "text/x-python",
   "name": "python",
   "nbconvert_exporter": "python",
   "pygments_lexer": "ipython3",
   "version": "3.10.9"
  }
 },
 "nbformat": 4,
 "nbformat_minor": 5
}
