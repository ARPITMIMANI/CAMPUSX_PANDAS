{
 "cells": [
  {
   "cell_type": "code",
   "execution_count": 1,
   "id": "9d19953f",
   "metadata": {},
   "outputs": [
    {
     "name": "stdout",
     "output_type": "stream",
     "text": [
      "        match_id  inning                 batting_team  \\\n",
      "0              1       1          Sunrisers Hyderabad   \n",
      "1              1       1          Sunrisers Hyderabad   \n",
      "2              1       1          Sunrisers Hyderabad   \n",
      "3              1       1          Sunrisers Hyderabad   \n",
      "4              1       1          Sunrisers Hyderabad   \n",
      "...          ...     ...                          ...   \n",
      "150455       636       2  Royal Challengers Bangalore   \n",
      "150456       636       2  Royal Challengers Bangalore   \n",
      "150457       636       2  Royal Challengers Bangalore   \n",
      "150458       636       2  Royal Challengers Bangalore   \n",
      "150459       636       2  Royal Challengers Bangalore   \n",
      "\n",
      "                       bowling_team  over  ball        batsman    non_striker  \\\n",
      "0       Royal Challengers Bangalore     1     1      DA Warner       S Dhawan   \n",
      "1       Royal Challengers Bangalore     1     2      DA Warner       S Dhawan   \n",
      "2       Royal Challengers Bangalore     1     3      DA Warner       S Dhawan   \n",
      "3       Royal Challengers Bangalore     1     4      DA Warner       S Dhawan   \n",
      "4       Royal Challengers Bangalore     1     5      DA Warner       S Dhawan   \n",
      "...                             ...   ...   ...            ...            ...   \n",
      "150455          Sunrisers Hyderabad    20     2    Sachin Baby      CJ Jordan   \n",
      "150456          Sunrisers Hyderabad    20     3    Sachin Baby      CJ Jordan   \n",
      "150457          Sunrisers Hyderabad    20     4  Iqbal Abdulla    Sachin Baby   \n",
      "150458          Sunrisers Hyderabad    20     5    Sachin Baby  Iqbal Abdulla   \n",
      "150459          Sunrisers Hyderabad    20     6  Iqbal Abdulla    Sachin Baby   \n",
      "\n",
      "          bowler  is_super_over  ...  bye_runs  legbye_runs  noball_runs  \\\n",
      "0       TS Mills              0  ...         0            0            0   \n",
      "1       TS Mills              0  ...         0            0            0   \n",
      "2       TS Mills              0  ...         0            0            0   \n",
      "3       TS Mills              0  ...         0            0            0   \n",
      "4       TS Mills              0  ...         0            0            0   \n",
      "...          ...            ...  ...       ...          ...          ...   \n",
      "150455   B Kumar              0  ...         0            0            0   \n",
      "150456   B Kumar              0  ...         0            0            0   \n",
      "150457   B Kumar              0  ...         0            1            0   \n",
      "150458   B Kumar              0  ...         0            0            0   \n",
      "150459   B Kumar              0  ...         0            0            0   \n",
      "\n",
      "        penalty_runs  batsman_runs  extra_runs  total_runs  player_dismissed  \\\n",
      "0                  0             0           0           0               NaN   \n",
      "1                  0             0           0           0               NaN   \n",
      "2                  0             4           0           4               NaN   \n",
      "3                  0             0           0           0               NaN   \n",
      "4                  0             0           2           2               NaN   \n",
      "...              ...           ...         ...         ...               ...   \n",
      "150455             0             2           0           2               NaN   \n",
      "150456             0             0           0           0         CJ Jordan   \n",
      "150457             0             0           1           1               NaN   \n",
      "150458             0             1           0           1               NaN   \n",
      "150459             0             4           0           4               NaN   \n",
      "\n",
      "       dismissal_kind  fielder  \n",
      "0                 NaN      NaN  \n",
      "1                 NaN      NaN  \n",
      "2                 NaN      NaN  \n",
      "3                 NaN      NaN  \n",
      "4                 NaN      NaN  \n",
      "...               ...      ...  \n",
      "150455            NaN      NaN  \n",
      "150456        run out  NV Ojha  \n",
      "150457            NaN      NaN  \n",
      "150458            NaN      NaN  \n",
      "150459            NaN      NaN  \n",
      "\n",
      "[150460 rows x 21 columns]\n"
     ]
    }
   ],
   "source": [
    "import pandas as pd\n",
    "delivery = pd.read_csv(\"DELIVERIES_DATA.csv\")\n",
    "print(delivery)"
   ]
  },
  {
   "cell_type": "code",
   "execution_count": 2,
   "id": "09ad3f5f",
   "metadata": {},
   "outputs": [
    {
     "name": "stdout",
     "output_type": "stream",
     "text": [
      "      id  season       city        date                        team1  \\\n",
      "0      1    2017  Hyderabad  2017-04-05          Sunrisers Hyderabad   \n",
      "1      2    2017       Pune  2017-04-06               Mumbai Indians   \n",
      "2      3    2017     Rajkot  2017-04-07                Gujarat Lions   \n",
      "3      4    2017     Indore  2017-04-08       Rising Pune Supergiant   \n",
      "4      5    2017  Bangalore  2017-04-08  Royal Challengers Bangalore   \n",
      "..   ...     ...        ...         ...                          ...   \n",
      "631  632    2016     Raipur  2016-05-22             Delhi Daredevils   \n",
      "632  633    2016  Bangalore  2016-05-24                Gujarat Lions   \n",
      "633  634    2016      Delhi  2016-05-25          Sunrisers Hyderabad   \n",
      "634  635    2016      Delhi  2016-05-27                Gujarat Lions   \n",
      "635  636    2016  Bangalore  2016-05-29          Sunrisers Hyderabad   \n",
      "\n",
      "                           team2                  toss_winner toss_decision  \\\n",
      "0    Royal Challengers Bangalore  Royal Challengers Bangalore         field   \n",
      "1         Rising Pune Supergiant       Rising Pune Supergiant         field   \n",
      "2          Kolkata Knight Riders        Kolkata Knight Riders         field   \n",
      "3                Kings XI Punjab              Kings XI Punjab         field   \n",
      "4               Delhi Daredevils  Royal Challengers Bangalore           bat   \n",
      "..                           ...                          ...           ...   \n",
      "631  Royal Challengers Bangalore  Royal Challengers Bangalore         field   \n",
      "632  Royal Challengers Bangalore  Royal Challengers Bangalore         field   \n",
      "633        Kolkata Knight Riders        Kolkata Knight Riders         field   \n",
      "634          Sunrisers Hyderabad          Sunrisers Hyderabad         field   \n",
      "635  Royal Challengers Bangalore          Sunrisers Hyderabad           bat   \n",
      "\n",
      "     result  dl_applied                       winner  win_by_runs  \\\n",
      "0    normal           0          Sunrisers Hyderabad           35   \n",
      "1    normal           0       Rising Pune Supergiant            0   \n",
      "2    normal           0        Kolkata Knight Riders            0   \n",
      "3    normal           0              Kings XI Punjab            0   \n",
      "4    normal           0  Royal Challengers Bangalore           15   \n",
      "..      ...         ...                          ...          ...   \n",
      "631  normal           0  Royal Challengers Bangalore            0   \n",
      "632  normal           0  Royal Challengers Bangalore            0   \n",
      "633  normal           0          Sunrisers Hyderabad           22   \n",
      "634  normal           0          Sunrisers Hyderabad            0   \n",
      "635  normal           0          Sunrisers Hyderabad            8   \n",
      "\n",
      "     win_by_wickets player_of_match  \\\n",
      "0                 0    Yuvraj Singh   \n",
      "1                 7       SPD Smith   \n",
      "2                10         CA Lynn   \n",
      "3                 6      GJ Maxwell   \n",
      "4                 0       KM Jadhav   \n",
      "..              ...             ...   \n",
      "631               6         V Kohli   \n",
      "632               4  AB de Villiers   \n",
      "633               0    MC Henriques   \n",
      "634               4       DA Warner   \n",
      "635               0     BCJ Cutting   \n",
      "\n",
      "                                                venue          umpire1  \\\n",
      "0           Rajiv Gandhi International Stadium, Uppal      AY Dandekar   \n",
      "1             Maharashtra Cricket Association Stadium   A Nand Kishore   \n",
      "2              Saurashtra Cricket Association Stadium      Nitin Menon   \n",
      "3                              Holkar Cricket Stadium     AK Chaudhary   \n",
      "4                               M Chinnaswamy Stadium              NaN   \n",
      "..                                                ...              ...   \n",
      "631  Shaheed Veer Narayan Singh International Stadium   A Nand Kishore   \n",
      "632                             M Chinnaswamy Stadium     AK Chaudhary   \n",
      "633                                  Feroz Shah Kotla        M Erasmus   \n",
      "634                                  Feroz Shah Kotla        M Erasmus   \n",
      "635                             M Chinnaswamy Stadium  HDPK Dharmasena   \n",
      "\n",
      "             umpire2  umpire3  \n",
      "0           NJ Llong      NaN  \n",
      "1             S Ravi      NaN  \n",
      "2          CK Nandan      NaN  \n",
      "3      C Shamshuddin      NaN  \n",
      "4                NaN      NaN  \n",
      "..               ...      ...  \n",
      "631     BNJ Oxenford      NaN  \n",
      "632  HDPK Dharmasena      NaN  \n",
      "633    C Shamshuddin      NaN  \n",
      "634        CK Nandan      NaN  \n",
      "635     BNJ Oxenford      NaN  \n",
      "\n",
      "[636 rows x 18 columns]\n"
     ]
    }
   ],
   "source": [
    "import pandas as pd\n",
    "match = pd.read_csv(\"MATCH_DATA.csv\")\n",
    "print(match)"
   ]
  },
  {
   "cell_type": "code",
   "execution_count": 3,
   "id": "626910c0",
   "metadata": {},
   "outputs": [
    {
     "name": "stdout",
     "output_type": "stream",
     "text": [
      "        match_id  inning                 batting_team  \\\n",
      "0              1       1          Sunrisers Hyderabad   \n",
      "1              1       1          Sunrisers Hyderabad   \n",
      "2              1       1          Sunrisers Hyderabad   \n",
      "3              1       1          Sunrisers Hyderabad   \n",
      "4              1       1          Sunrisers Hyderabad   \n",
      "...          ...     ...                          ...   \n",
      "150455       636       2  Royal Challengers Bangalore   \n",
      "150456       636       2  Royal Challengers Bangalore   \n",
      "150457       636       2  Royal Challengers Bangalore   \n",
      "150458       636       2  Royal Challengers Bangalore   \n",
      "150459       636       2  Royal Challengers Bangalore   \n",
      "\n",
      "                       bowling_team  over  ball        batsman    non_striker  \\\n",
      "0       Royal Challengers Bangalore     1     1      DA Warner       S Dhawan   \n",
      "1       Royal Challengers Bangalore     1     2      DA Warner       S Dhawan   \n",
      "2       Royal Challengers Bangalore     1     3      DA Warner       S Dhawan   \n",
      "3       Royal Challengers Bangalore     1     4      DA Warner       S Dhawan   \n",
      "4       Royal Challengers Bangalore     1     5      DA Warner       S Dhawan   \n",
      "...                             ...   ...   ...            ...            ...   \n",
      "150455          Sunrisers Hyderabad    20     2    Sachin Baby      CJ Jordan   \n",
      "150456          Sunrisers Hyderabad    20     3    Sachin Baby      CJ Jordan   \n",
      "150457          Sunrisers Hyderabad    20     4  Iqbal Abdulla    Sachin Baby   \n",
      "150458          Sunrisers Hyderabad    20     5    Sachin Baby  Iqbal Abdulla   \n",
      "150459          Sunrisers Hyderabad    20     6  Iqbal Abdulla    Sachin Baby   \n",
      "\n",
      "          bowler  is_super_over  ...  result  dl_applied               winner  \\\n",
      "0       TS Mills              0  ...  normal           0  Sunrisers Hyderabad   \n",
      "1       TS Mills              0  ...  normal           0  Sunrisers Hyderabad   \n",
      "2       TS Mills              0  ...  normal           0  Sunrisers Hyderabad   \n",
      "3       TS Mills              0  ...  normal           0  Sunrisers Hyderabad   \n",
      "4       TS Mills              0  ...  normal           0  Sunrisers Hyderabad   \n",
      "...          ...            ...  ...     ...         ...                  ...   \n",
      "150455   B Kumar              0  ...  normal           0  Sunrisers Hyderabad   \n",
      "150456   B Kumar              0  ...  normal           0  Sunrisers Hyderabad   \n",
      "150457   B Kumar              0  ...  normal           0  Sunrisers Hyderabad   \n",
      "150458   B Kumar              0  ...  normal           0  Sunrisers Hyderabad   \n",
      "150459   B Kumar              0  ...  normal           0  Sunrisers Hyderabad   \n",
      "\n",
      "        win_by_runs  win_by_wickets  player_of_match  \\\n",
      "0                35               0     Yuvraj Singh   \n",
      "1                35               0     Yuvraj Singh   \n",
      "2                35               0     Yuvraj Singh   \n",
      "3                35               0     Yuvraj Singh   \n",
      "4                35               0     Yuvraj Singh   \n",
      "...             ...             ...              ...   \n",
      "150455            8               0      BCJ Cutting   \n",
      "150456            8               0      BCJ Cutting   \n",
      "150457            8               0      BCJ Cutting   \n",
      "150458            8               0      BCJ Cutting   \n",
      "150459            8               0      BCJ Cutting   \n",
      "\n",
      "                                            venue          umpire1  \\\n",
      "0       Rajiv Gandhi International Stadium, Uppal      AY Dandekar   \n",
      "1       Rajiv Gandhi International Stadium, Uppal      AY Dandekar   \n",
      "2       Rajiv Gandhi International Stadium, Uppal      AY Dandekar   \n",
      "3       Rajiv Gandhi International Stadium, Uppal      AY Dandekar   \n",
      "4       Rajiv Gandhi International Stadium, Uppal      AY Dandekar   \n",
      "...                                           ...              ...   \n",
      "150455                      M Chinnaswamy Stadium  HDPK Dharmasena   \n",
      "150456                      M Chinnaswamy Stadium  HDPK Dharmasena   \n",
      "150457                      M Chinnaswamy Stadium  HDPK Dharmasena   \n",
      "150458                      M Chinnaswamy Stadium  HDPK Dharmasena   \n",
      "150459                      M Chinnaswamy Stadium  HDPK Dharmasena   \n",
      "\n",
      "             umpire2 umpire3  \n",
      "0           NJ Llong     NaN  \n",
      "1           NJ Llong     NaN  \n",
      "2           NJ Llong     NaN  \n",
      "3           NJ Llong     NaN  \n",
      "4           NJ Llong     NaN  \n",
      "...              ...     ...  \n",
      "150455  BNJ Oxenford     NaN  \n",
      "150456  BNJ Oxenford     NaN  \n",
      "150457  BNJ Oxenford     NaN  \n",
      "150458  BNJ Oxenford     NaN  \n",
      "150459  BNJ Oxenford     NaN  \n",
      "\n",
      "[150460 rows x 39 columns]\n"
     ]
    }
   ],
   "source": [
    "new = delivery.merge ( match , how=\"inner\" , left_on=\"match_id\" , right_on=\"id\" )\n",
    "print(new)"
   ]
  },
  {
   "cell_type": "code",
   "execution_count": 4,
   "id": "7776fadb",
   "metadata": {},
   "outputs": [
    {
     "name": "stdout",
     "output_type": "stream",
     "text": [
      "THE SHAPE OF NEW IS (150460, 39)\n",
      "THE SHAPE OF DELIVERY IS (150460, 21)\n",
      "THE SHAPE OF MATCH IS (636, 18)\n"
     ]
    }
   ],
   "source": [
    "print ( \"THE SHAPE OF NEW IS\" , new.shape )\n",
    "print ( \"THE SHAPE OF DELIVERY IS\" , delivery.shape )\n",
    "print ( \"THE SHAPE OF MATCH IS\" , match.shape )"
   ]
  },
  {
   "cell_type": "code",
   "execution_count": 5,
   "id": "57940c0d",
   "metadata": {},
   "outputs": [
    {
     "name": "stdout",
     "output_type": "stream",
     "text": [
      "batsman\n",
      "A Ashish Reddy     280\n",
      "A Chandila           4\n",
      "A Chopra            53\n",
      "A Choudhary         25\n",
      "A Flintoff          62\n",
      "                  ... \n",
      "YV Takawale        192\n",
      "Yashpal Singh       47\n",
      "Younis Khan          3\n",
      "Yuvraj Singh      2591\n",
      "Z Khan             117\n",
      "Name: batsman_runs, Length: 461, dtype: int64\n"
     ]
    }
   ],
   "source": [
    "print ( new.groupby(\"batsman\") [\"batsman_runs\"] .sum() )"
   ]
  },
  {
   "cell_type": "code",
   "execution_count": 6,
   "id": "22ddb165",
   "metadata": {},
   "outputs": [
    {
     "name": "stdout",
     "output_type": "stream",
     "text": [
      "season  batsman          \n",
      "2008    A Chopra              42\n",
      "        A Kumble              13\n",
      "        A Mishra              37\n",
      "        A Mukund               0\n",
      "        A Nehra                3\n",
      "                            ... \n",
      "2017    Washington Sundar      9\n",
      "        YK Pathan            143\n",
      "        YS Chahal             13\n",
      "        Yuvraj Singh         252\n",
      "        Z Khan                 4\n",
      "Name: batsman_runs, Length: 1531, dtype: int64\n"
     ]
    }
   ],
   "source": [
    "print ( new.groupby ([ \"season\",\"batsman\" ]) [\"batsman_runs\"] .sum() )"
   ]
  },
  {
   "cell_type": "code",
   "execution_count": 7,
   "id": "166ebdbd",
   "metadata": {},
   "outputs": [
    {
     "name": "stdout",
     "output_type": "stream",
     "text": [
      "(1531,)\n"
     ]
    }
   ],
   "source": [
    "print ( new.groupby ([ \"season\",\"batsman\" ]) [\"batsman_runs\"] .sum() .shape )"
   ]
  },
  {
   "cell_type": "code",
   "execution_count": 8,
   "id": "040bef54",
   "metadata": {},
   "outputs": [
    {
     "name": "stdout",
     "output_type": "stream",
     "text": [
      "<class 'pandas.core.series.Series'>\n"
     ]
    }
   ],
   "source": [
    "print ( type ( new.groupby ([ \"season\",\"batsman\" ]) [\"batsman_runs\"] .sum()  ) )"
   ]
  },
  {
   "cell_type": "code",
   "execution_count": 9,
   "id": "c69501bc",
   "metadata": {},
   "outputs": [
    {
     "name": "stdout",
     "output_type": "stream",
     "text": [
      "      season            batsman  batsman_runs\n",
      "0       2008           A Chopra            42\n",
      "1       2008           A Kumble            13\n",
      "2       2008           A Mishra            37\n",
      "3       2008           A Mukund             0\n",
      "4       2008            A Nehra             3\n",
      "...      ...                ...           ...\n",
      "1526    2017  Washington Sundar             9\n",
      "1527    2017          YK Pathan           143\n",
      "1528    2017          YS Chahal            13\n",
      "1529    2017       Yuvraj Singh           252\n",
      "1530    2017             Z Khan             4\n",
      "\n",
      "[1531 rows x 3 columns]\n"
     ]
    }
   ],
   "source": [
    "print ( new.groupby ([ \"season\",\"batsman\" ]) [\"batsman_runs\"] .sum() .reset_index() )"
   ]
  },
  {
   "cell_type": "code",
   "execution_count": 10,
   "id": "22b695ce",
   "metadata": {},
   "outputs": [
    {
     "name": "stdout",
     "output_type": "stream",
     "text": [
      "season  batsman    \n",
      "2016    V Kohli        973\n",
      "        DA Warner      848\n",
      "2013    MEK Hussey     733\n",
      "2012    CH Gayle       733\n",
      "2013    CH Gayle       720\n",
      "                      ... \n",
      "2017    MM Patel         0\n",
      "2012    AC Blizzard      0\n",
      "2011    AB Dinda         0\n",
      "2017    AD Nath          0\n",
      "2008    L Balaji         0\n",
      "Name: batsman_runs, Length: 1531, dtype: int64\n"
     ]
    }
   ],
   "source": [
    "print ( new.groupby ([ \"season\",\"batsman\" ]) [\"batsman_runs\"] .sum() .sort_values(ascending=False) )"
   ]
  },
  {
   "cell_type": "code",
   "execution_count": 11,
   "id": "9b95eb5f",
   "metadata": {},
   "outputs": [
    {
     "name": "stdout",
     "output_type": "stream",
     "text": [
      "      season      batsman  batsman_runs\n",
      "0       2016      V Kohli           973\n",
      "1       2016    DA Warner           848\n",
      "2       2013   MEK Hussey           733\n",
      "3       2012     CH Gayle           733\n",
      "4       2013     CH Gayle           720\n",
      "...      ...          ...           ...\n",
      "1526    2017     MM Patel             0\n",
      "1527    2012  AC Blizzard             0\n",
      "1528    2011     AB Dinda             0\n",
      "1529    2017      AD Nath             0\n",
      "1530    2008     L Balaji             0\n",
      "\n",
      "[1531 rows x 3 columns]\n"
     ]
    }
   ],
   "source": [
    "print ( new.groupby ([ \"season\",\"batsman\" ]) [\"batsman_runs\"] .sum() .sort_values(ascending=False) .reset_index() )"
   ]
  },
  {
   "cell_type": "code",
   "execution_count": 12,
   "id": "7329a384",
   "metadata": {},
   "outputs": [
    {
     "name": "stdout",
     "output_type": "stream",
     "text": [
      "      season      batsman  batsman_runs\n",
      "0       2016      V Kohli           973\n",
      "1       2016    DA Warner           848\n",
      "2       2013   MEK Hussey           733\n",
      "3       2012     CH Gayle           733\n",
      "4       2013     CH Gayle           720\n",
      "...      ...          ...           ...\n",
      "1526    2017     MM Patel             0\n",
      "1527    2012  AC Blizzard             0\n",
      "1528    2011     AB Dinda             0\n",
      "1529    2017      AD Nath             0\n",
      "1530    2008     L Balaji             0\n",
      "\n",
      "[1531 rows x 3 columns]\n"
     ]
    }
   ],
   "source": [
    "print ( new.groupby ([ \"season\",\"batsman\" ]) [\"batsman_runs\"] .sum() .sort_values(ascending=False) \n",
    "       .reset_index() .drop_duplicates(keep=\"first\") )"
   ]
  },
  {
   "cell_type": "code",
   "execution_count": 13,
   "id": "524016ee",
   "metadata": {},
   "outputs": [
    {
     "name": "stdout",
     "output_type": "stream",
     "text": [
      "    season       batsman  batsman_runs\n",
      "0     2016       V Kohli           973\n",
      "2     2013    MEK Hussey           733\n",
      "3     2012      CH Gayle           733\n",
      "6     2014    RV Uthappa           660\n",
      "7     2017     DA Warner           641\n",
      "9     2010  SR Tendulkar           618\n",
      "10    2008      SE Marsh           616\n",
      "11    2011      CH Gayle           608\n",
      "14    2009     ML Hayden           572\n",
      "17    2015     DA Warner           562\n"
     ]
    }
   ],
   "source": [
    "print ( new.groupby ([ \"season\",\"batsman\" ]) [\"batsman_runs\"] .sum() .sort_values(ascending=False) \n",
    "       .reset_index() .drop_duplicates ( subset=\"season\" , keep=\"first\" ) )"
   ]
  },
  {
   "cell_type": "code",
   "execution_count": 14,
   "id": "e54e3cb4",
   "metadata": {},
   "outputs": [
    {
     "name": "stdout",
     "output_type": "stream",
     "text": [
      "    season       batsman  batsman_runs\n",
      "10    2008      SE Marsh           616\n",
      "14    2009     ML Hayden           572\n",
      "9     2010  SR Tendulkar           618\n",
      "11    2011      CH Gayle           608\n",
      "3     2012      CH Gayle           733\n",
      "2     2013    MEK Hussey           733\n",
      "6     2014    RV Uthappa           660\n",
      "17    2015     DA Warner           562\n",
      "0     2016       V Kohli           973\n",
      "7     2017     DA Warner           641\n"
     ]
    }
   ],
   "source": [
    "print ( new.groupby ([ \"season\",\"batsman\" ]) [\"batsman_runs\"] .sum() .sort_values(ascending=False) \n",
    "       .reset_index() .drop_duplicates ( subset=\"season\" , keep=\"first\" ) .sort_values(\"season\") )"
   ]
  },
  {
   "cell_type": "code",
   "execution_count": 15,
   "id": "0e22c408",
   "metadata": {},
   "outputs": [
    {
     "name": "stdout",
     "output_type": "stream",
     "text": [
      "    season       batsman\n",
      "10    2008      SE Marsh\n",
      "14    2009     ML Hayden\n",
      "9     2010  SR Tendulkar\n",
      "11    2011      CH Gayle\n",
      "3     2012      CH Gayle\n",
      "2     2013    MEK Hussey\n",
      "6     2014    RV Uthappa\n",
      "17    2015     DA Warner\n",
      "0     2016       V Kohli\n",
      "7     2017     DA Warner\n"
     ]
    }
   ],
   "source": [
    "print ( new.groupby ([ \"season\",\"batsman\" ]) [\"batsman_runs\"] .sum() .sort_values(ascending=False) .reset_index() \n",
    "       .drop_duplicates ( subset=\"season\" , keep=\"first\" ) .sort_values(\"season\") [[ \"season\" , \"batsman\" ]] )"
   ]
  },
  {
   "cell_type": "code",
   "execution_count": null,
   "id": "99f8d0d5",
   "metadata": {},
   "outputs": [],
   "source": []
  }
 ],
 "metadata": {
  "kernelspec": {
   "display_name": "Python 3 (ipykernel)",
   "language": "python",
   "name": "python3"
  },
  "language_info": {
   "codemirror_mode": {
    "name": "ipython",
    "version": 3
   },
   "file_extension": ".py",
   "mimetype": "text/x-python",
   "name": "python",
   "nbconvert_exporter": "python",
   "pygments_lexer": "ipython3",
   "version": "3.10.9"
  }
 },
 "nbformat": 4,
 "nbformat_minor": 5
}
