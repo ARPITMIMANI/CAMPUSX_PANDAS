{
 "cells": [
  {
   "cell_type": "code",
   "execution_count": 1,
   "id": "1fb69a74",
   "metadata": {},
   "outputs": [
    {
     "name": "stdout",
     "output_type": "stream",
     "text": [
      "        match_id  inning                 batting_team  \\\n",
      "0              1       1          Sunrisers Hyderabad   \n",
      "1              1       1          Sunrisers Hyderabad   \n",
      "2              1       1          Sunrisers Hyderabad   \n",
      "3              1       1          Sunrisers Hyderabad   \n",
      "4              1       1          Sunrisers Hyderabad   \n",
      "...          ...     ...                          ...   \n",
      "150455       636       2  Royal Challengers Bangalore   \n",
      "150456       636       2  Royal Challengers Bangalore   \n",
      "150457       636       2  Royal Challengers Bangalore   \n",
      "150458       636       2  Royal Challengers Bangalore   \n",
      "150459       636       2  Royal Challengers Bangalore   \n",
      "\n",
      "                       bowling_team  over  ball        batsman    non_striker  \\\n",
      "0       Royal Challengers Bangalore     1     1      DA Warner       S Dhawan   \n",
      "1       Royal Challengers Bangalore     1     2      DA Warner       S Dhawan   \n",
      "2       Royal Challengers Bangalore     1     3      DA Warner       S Dhawan   \n",
      "3       Royal Challengers Bangalore     1     4      DA Warner       S Dhawan   \n",
      "4       Royal Challengers Bangalore     1     5      DA Warner       S Dhawan   \n",
      "...                             ...   ...   ...            ...            ...   \n",
      "150455          Sunrisers Hyderabad    20     2    Sachin Baby      CJ Jordan   \n",
      "150456          Sunrisers Hyderabad    20     3    Sachin Baby      CJ Jordan   \n",
      "150457          Sunrisers Hyderabad    20     4  Iqbal Abdulla    Sachin Baby   \n",
      "150458          Sunrisers Hyderabad    20     5    Sachin Baby  Iqbal Abdulla   \n",
      "150459          Sunrisers Hyderabad    20     6  Iqbal Abdulla    Sachin Baby   \n",
      "\n",
      "          bowler  is_super_over  ...  bye_runs  legbye_runs  noball_runs  \\\n",
      "0       TS Mills              0  ...         0            0            0   \n",
      "1       TS Mills              0  ...         0            0            0   \n",
      "2       TS Mills              0  ...         0            0            0   \n",
      "3       TS Mills              0  ...         0            0            0   \n",
      "4       TS Mills              0  ...         0            0            0   \n",
      "...          ...            ...  ...       ...          ...          ...   \n",
      "150455   B Kumar              0  ...         0            0            0   \n",
      "150456   B Kumar              0  ...         0            0            0   \n",
      "150457   B Kumar              0  ...         0            1            0   \n",
      "150458   B Kumar              0  ...         0            0            0   \n",
      "150459   B Kumar              0  ...         0            0            0   \n",
      "\n",
      "        penalty_runs  batsman_runs  extra_runs  total_runs  player_dismissed  \\\n",
      "0                  0             0           0           0               NaN   \n",
      "1                  0             0           0           0               NaN   \n",
      "2                  0             4           0           4               NaN   \n",
      "3                  0             0           0           0               NaN   \n",
      "4                  0             0           2           2               NaN   \n",
      "...              ...           ...         ...         ...               ...   \n",
      "150455             0             2           0           2               NaN   \n",
      "150456             0             0           0           0         CJ Jordan   \n",
      "150457             0             0           1           1               NaN   \n",
      "150458             0             1           0           1               NaN   \n",
      "150459             0             4           0           4               NaN   \n",
      "\n",
      "       dismissal_kind  fielder  \n",
      "0                 NaN      NaN  \n",
      "1                 NaN      NaN  \n",
      "2                 NaN      NaN  \n",
      "3                 NaN      NaN  \n",
      "4                 NaN      NaN  \n",
      "...               ...      ...  \n",
      "150455            NaN      NaN  \n",
      "150456        run out  NV Ojha  \n",
      "150457            NaN      NaN  \n",
      "150458            NaN      NaN  \n",
      "150459            NaN      NaN  \n",
      "\n",
      "[150460 rows x 21 columns]\n"
     ]
    }
   ],
   "source": [
    "import pandas as pd\n",
    "df = pd.read_csv(\"DELIVERIES_DATA.csv\")\n",
    "print(df)"
   ]
  },
  {
   "cell_type": "code",
   "execution_count": 2,
   "id": "d1ab5f42",
   "metadata": {},
   "outputs": [
    {
     "name": "stdout",
     "output_type": "stream",
     "text": [
      "batsman\n",
      "A Ashish Reddy     196\n",
      "A Chandila           7\n",
      "A Chopra            75\n",
      "A Choudhary         20\n",
      "A Flintoff          57\n",
      "                  ... \n",
      "YV Takawale        183\n",
      "Yashpal Singh       67\n",
      "Younis Khan          7\n",
      "Yuvraj Singh      2050\n",
      "Z Khan             141\n",
      "Name: batsman_runs, Length: 461, dtype: int64\n"
     ]
    }
   ],
   "source": [
    "print ( df.groupby(\"batsman\") [\"batsman_runs\"] .count() )"
   ]
  },
  {
   "cell_type": "code",
   "execution_count": 3,
   "id": "37b48bd2",
   "metadata": {},
   "outputs": [
    {
     "name": "stdout",
     "output_type": "stream",
     "text": [
      "0         False\n",
      "1         False\n",
      "2         False\n",
      "3         False\n",
      "4         False\n",
      "          ...  \n",
      "150455     True\n",
      "150456     True\n",
      "150457     True\n",
      "150458     True\n",
      "150459     True\n",
      "Name: over, Length: 150460, dtype: bool\n"
     ]
    }
   ],
   "source": [
    "print ( df[\"over\"]>15 )"
   ]
  },
  {
   "cell_type": "code",
   "execution_count": 4,
   "id": "9ae720f9",
   "metadata": {},
   "outputs": [
    {
     "name": "stdout",
     "output_type": "stream",
     "text": [
      "        match_id  inning                 batting_team  \\\n",
      "93             1       1          Sunrisers Hyderabad   \n",
      "94             1       1          Sunrisers Hyderabad   \n",
      "95             1       1          Sunrisers Hyderabad   \n",
      "96             1       1          Sunrisers Hyderabad   \n",
      "97             1       1          Sunrisers Hyderabad   \n",
      "...          ...     ...                          ...   \n",
      "150455       636       2  Royal Challengers Bangalore   \n",
      "150456       636       2  Royal Challengers Bangalore   \n",
      "150457       636       2  Royal Challengers Bangalore   \n",
      "150458       636       2  Royal Challengers Bangalore   \n",
      "150459       636       2  Royal Challengers Bangalore   \n",
      "\n",
      "                       bowling_team  over  ball        batsman    non_striker  \\\n",
      "93      Royal Challengers Bangalore    16     1   MC Henriques   Yuvraj Singh   \n",
      "94      Royal Challengers Bangalore    16     2   MC Henriques   Yuvraj Singh   \n",
      "95      Royal Challengers Bangalore    16     3   Yuvraj Singh       DJ Hooda   \n",
      "96      Royal Challengers Bangalore    16     4       DJ Hooda   Yuvraj Singh   \n",
      "97      Royal Challengers Bangalore    16     5   Yuvraj Singh       DJ Hooda   \n",
      "...                             ...   ...   ...            ...            ...   \n",
      "150455          Sunrisers Hyderabad    20     2    Sachin Baby      CJ Jordan   \n",
      "150456          Sunrisers Hyderabad    20     3    Sachin Baby      CJ Jordan   \n",
      "150457          Sunrisers Hyderabad    20     4  Iqbal Abdulla    Sachin Baby   \n",
      "150458          Sunrisers Hyderabad    20     5    Sachin Baby  Iqbal Abdulla   \n",
      "150459          Sunrisers Hyderabad    20     6  Iqbal Abdulla    Sachin Baby   \n",
      "\n",
      "           bowler  is_super_over  ...  bye_runs  legbye_runs  noball_runs  \\\n",
      "93      YS Chahal              0  ...         0            0            0   \n",
      "94      YS Chahal              0  ...         0            0            0   \n",
      "95      YS Chahal              0  ...         0            0            0   \n",
      "96      YS Chahal              0  ...         0            0            0   \n",
      "97      YS Chahal              0  ...         0            0            0   \n",
      "...           ...            ...  ...       ...          ...          ...   \n",
      "150455    B Kumar              0  ...         0            0            0   \n",
      "150456    B Kumar              0  ...         0            0            0   \n",
      "150457    B Kumar              0  ...         0            1            0   \n",
      "150458    B Kumar              0  ...         0            0            0   \n",
      "150459    B Kumar              0  ...         0            0            0   \n",
      "\n",
      "        penalty_runs  batsman_runs  extra_runs  total_runs  player_dismissed  \\\n",
      "93                 0             0           0           0               NaN   \n",
      "94                 0             0           0           0      MC Henriques   \n",
      "95                 0             1           0           1               NaN   \n",
      "96                 0             1           0           1               NaN   \n",
      "97                 0             1           0           1               NaN   \n",
      "...              ...           ...         ...         ...               ...   \n",
      "150455             0             2           0           2               NaN   \n",
      "150456             0             0           0           0         CJ Jordan   \n",
      "150457             0             0           1           1               NaN   \n",
      "150458             0             1           0           1               NaN   \n",
      "150459             0             4           0           4               NaN   \n",
      "\n",
      "       dismissal_kind      fielder  \n",
      "93                NaN          NaN  \n",
      "94             caught  Sachin Baby  \n",
      "95                NaN          NaN  \n",
      "96                NaN          NaN  \n",
      "97                NaN          NaN  \n",
      "...               ...          ...  \n",
      "150455            NaN          NaN  \n",
      "150456        run out      NV Ojha  \n",
      "150457            NaN          NaN  \n",
      "150458            NaN          NaN  \n",
      "150459            NaN          NaN  \n",
      "\n",
      "[33737 rows x 21 columns]\n"
     ]
    }
   ],
   "source": [
    "print ( df [ df[\"over\"]>15 ] )"
   ]
  },
  {
   "cell_type": "code",
   "execution_count": 5,
   "id": "406a0f79",
   "metadata": {},
   "outputs": [
    {
     "name": "stdout",
     "output_type": "stream",
     "text": [
      "        match_id  inning                 batting_team  \\\n",
      "93             1       1          Sunrisers Hyderabad   \n",
      "94             1       1          Sunrisers Hyderabad   \n",
      "95             1       1          Sunrisers Hyderabad   \n",
      "96             1       1          Sunrisers Hyderabad   \n",
      "97             1       1          Sunrisers Hyderabad   \n",
      "...          ...     ...                          ...   \n",
      "150455       636       2  Royal Challengers Bangalore   \n",
      "150456       636       2  Royal Challengers Bangalore   \n",
      "150457       636       2  Royal Challengers Bangalore   \n",
      "150458       636       2  Royal Challengers Bangalore   \n",
      "150459       636       2  Royal Challengers Bangalore   \n",
      "\n",
      "                       bowling_team  over  ball        batsman    non_striker  \\\n",
      "93      Royal Challengers Bangalore    16     1   MC Henriques   Yuvraj Singh   \n",
      "94      Royal Challengers Bangalore    16     2   MC Henriques   Yuvraj Singh   \n",
      "95      Royal Challengers Bangalore    16     3   Yuvraj Singh       DJ Hooda   \n",
      "96      Royal Challengers Bangalore    16     4       DJ Hooda   Yuvraj Singh   \n",
      "97      Royal Challengers Bangalore    16     5   Yuvraj Singh       DJ Hooda   \n",
      "...                             ...   ...   ...            ...            ...   \n",
      "150455          Sunrisers Hyderabad    20     2    Sachin Baby      CJ Jordan   \n",
      "150456          Sunrisers Hyderabad    20     3    Sachin Baby      CJ Jordan   \n",
      "150457          Sunrisers Hyderabad    20     4  Iqbal Abdulla    Sachin Baby   \n",
      "150458          Sunrisers Hyderabad    20     5    Sachin Baby  Iqbal Abdulla   \n",
      "150459          Sunrisers Hyderabad    20     6  Iqbal Abdulla    Sachin Baby   \n",
      "\n",
      "           bowler  is_super_over  ...  bye_runs  legbye_runs  noball_runs  \\\n",
      "93      YS Chahal              0  ...         0            0            0   \n",
      "94      YS Chahal              0  ...         0            0            0   \n",
      "95      YS Chahal              0  ...         0            0            0   \n",
      "96      YS Chahal              0  ...         0            0            0   \n",
      "97      YS Chahal              0  ...         0            0            0   \n",
      "...           ...            ...  ...       ...          ...          ...   \n",
      "150455    B Kumar              0  ...         0            0            0   \n",
      "150456    B Kumar              0  ...         0            0            0   \n",
      "150457    B Kumar              0  ...         0            1            0   \n",
      "150458    B Kumar              0  ...         0            0            0   \n",
      "150459    B Kumar              0  ...         0            0            0   \n",
      "\n",
      "        penalty_runs  batsman_runs  extra_runs  total_runs  player_dismissed  \\\n",
      "93                 0             0           0           0               NaN   \n",
      "94                 0             0           0           0      MC Henriques   \n",
      "95                 0             1           0           1               NaN   \n",
      "96                 0             1           0           1               NaN   \n",
      "97                 0             1           0           1               NaN   \n",
      "...              ...           ...         ...         ...               ...   \n",
      "150455             0             2           0           2               NaN   \n",
      "150456             0             0           0           0         CJ Jordan   \n",
      "150457             0             0           1           1               NaN   \n",
      "150458             0             1           0           1               NaN   \n",
      "150459             0             4           0           4               NaN   \n",
      "\n",
      "       dismissal_kind      fielder  \n",
      "93                NaN          NaN  \n",
      "94             caught  Sachin Baby  \n",
      "95                NaN          NaN  \n",
      "96                NaN          NaN  \n",
      "97                NaN          NaN  \n",
      "...               ...          ...  \n",
      "150455            NaN          NaN  \n",
      "150456        run out      NV Ojha  \n",
      "150457            NaN          NaN  \n",
      "150458            NaN          NaN  \n",
      "150459            NaN          NaN  \n",
      "\n",
      "[33737 rows x 21 columns]\n"
     ]
    }
   ],
   "source": [
    "death_over = df [ df[\"over\"]>15 ]\n",
    "print(death_over)"
   ]
  },
  {
   "cell_type": "code",
   "execution_count": 6,
   "id": "31ae4ced",
   "metadata": {},
   "outputs": [
    {
     "name": "stdout",
     "output_type": "stream",
     "text": [
      "batsman\n",
      "A Ashish Reddy    148\n",
      "A Chandila          7\n",
      "A Chopra            2\n",
      "A Choudhary        20\n",
      "A Flintoff         18\n",
      "                 ... \n",
      "YS Chahal          27\n",
      "YV Takawale        13\n",
      "Yashpal Singh      13\n",
      "Yuvraj Singh      516\n",
      "Z Khan            109\n",
      "Name: batsman_runs, Length: 416, dtype: int64\n"
     ]
    }
   ],
   "source": [
    "print ( death_over.groupby(\"batsman\") [\"batsman_runs\"] .count() )"
   ]
  },
  {
   "cell_type": "code",
   "execution_count": 7,
   "id": "897034ea",
   "metadata": {},
   "outputs": [
    {
     "name": "stdout",
     "output_type": "stream",
     "text": [
      "batsman\n",
      "A Ashish Reddy    False\n",
      "A Chandila        False\n",
      "A Chopra          False\n",
      "A Choudhary       False\n",
      "A Flintoff        False\n",
      "                  ...  \n",
      "YS Chahal         False\n",
      "YV Takawale       False\n",
      "Yashpal Singh     False\n",
      "Yuvraj Singh       True\n",
      "Z Khan            False\n",
      "Name: batsman_runs, Length: 416, dtype: bool\n"
     ]
    }
   ],
   "source": [
    "print ( death_over.groupby(\"batsman\") [\"batsman_runs\"] .count() > 200 )"
   ]
  },
  {
   "cell_type": "code",
   "execution_count": 8,
   "id": "a64be4fb",
   "metadata": {},
   "outputs": [
    {
     "name": "stdout",
     "output_type": "stream",
     "text": [
      "batsman\n",
      "A Ashish Reddy    148\n",
      "A Chandila          7\n",
      "A Chopra            2\n",
      "A Choudhary        20\n",
      "A Flintoff         18\n",
      "                 ... \n",
      "YS Chahal          27\n",
      "YV Takawale        13\n",
      "Yashpal Singh      13\n",
      "Yuvraj Singh      516\n",
      "Z Khan            109\n",
      "Name: batsman_runs, Length: 416, dtype: int64\n"
     ]
    }
   ],
   "source": [
    "all_batsman =  death_over.groupby(\"batsman\") [\"batsman_runs\"] .count() \n",
    "print(all_batsman)"
   ]
  },
  {
   "cell_type": "code",
   "execution_count": 9,
   "id": "a9cce83e",
   "metadata": {},
   "outputs": [
    {
     "name": "stdout",
     "output_type": "stream",
     "text": [
      "batsman\n",
      "A Ashish Reddy    False\n",
      "A Chandila        False\n",
      "A Chopra          False\n",
      "A Choudhary       False\n",
      "A Flintoff        False\n",
      "                  ...  \n",
      "YS Chahal         False\n",
      "YV Takawale       False\n",
      "Yashpal Singh     False\n",
      "Yuvraj Singh       True\n",
      "Z Khan            False\n",
      "Name: batsman_runs, Length: 416, dtype: bool\n"
     ]
    }
   ],
   "source": [
    "print ( all_batsman > 200 )"
   ]
  },
  {
   "cell_type": "code",
   "execution_count": 10,
   "id": "1dd5184a",
   "metadata": {},
   "outputs": [
    {
     "name": "stdout",
     "output_type": "stream",
     "text": [
      "batsman\n",
      "A Mishra             225\n",
      "AB de Villiers       570\n",
      "AD Mathews           289\n",
      "AM Rahane            268\n",
      "AR Patel             229\n",
      "AT Rayudu            425\n",
      "BJ Hodge             385\n",
      "DA Miller            360\n",
      "DA Warner            228\n",
      "DJ Bravo             409\n",
      "DJ Hussey            234\n",
      "DPMD Jayawardene     246\n",
      "Harbhajan Singh      418\n",
      "IK Pathan            465\n",
      "JA Morkel            425\n",
      "JH Kallis            231\n",
      "JP Duminy            518\n",
      "JP Faulkner          294\n",
      "KA Pollard           838\n",
      "KD Karthik           463\n",
      "KM Jadhav            338\n",
      "LRPL Taylor          204\n",
      "MK Pandey            224\n",
      "MK Tiwary            423\n",
      "MS Dhoni            1224\n",
      "NV Ojha              304\n",
      "P Kumar              268\n",
      "PP Chawla            311\n",
      "R Vinay Kumar        235\n",
      "RA Jadeja            576\n",
      "RG Sharma            748\n",
      "RV Uthappa           275\n",
      "S Badrinath          283\n",
      "S Dhawan             243\n",
      "SK Raina             458\n",
      "SPD Smith            316\n",
      "SS Tiwary            300\n",
      "STR Binny            218\n",
      "V Kohli              546\n",
      "WP Saha              295\n",
      "Y Venugopal Rao      260\n",
      "YK Pathan            584\n",
      "Yuvraj Singh         516\n",
      "Name: batsman_runs, dtype: int64\n"
     ]
    }
   ],
   "source": [
    "print ( all_batsman [ all_batsman > 200 ] )"
   ]
  },
  {
   "cell_type": "code",
   "execution_count": 11,
   "id": "1ed7a956",
   "metadata": {},
   "outputs": [
    {
     "name": "stdout",
     "output_type": "stream",
     "text": [
      "(43,)\n"
     ]
    }
   ],
   "source": [
    "print ( all_batsman [ all_batsman > 200 ] .shape )"
   ]
  },
  {
   "cell_type": "code",
   "execution_count": 12,
   "id": "d81f1bf0",
   "metadata": {},
   "outputs": [
    {
     "name": "stdout",
     "output_type": "stream",
     "text": [
      "Index(['A Mishra', 'AB de Villiers', 'AD Mathews', 'AM Rahane', 'AR Patel',\n",
      "       'AT Rayudu', 'BJ Hodge', 'DA Miller', 'DA Warner', 'DJ Bravo',\n",
      "       'DJ Hussey', 'DPMD Jayawardene', 'Harbhajan Singh', 'IK Pathan',\n",
      "       'JA Morkel', 'JH Kallis', 'JP Duminy', 'JP Faulkner', 'KA Pollard',\n",
      "       'KD Karthik', 'KM Jadhav', 'LRPL Taylor', 'MK Pandey', 'MK Tiwary',\n",
      "       'MS Dhoni', 'NV Ojha', 'P Kumar', 'PP Chawla', 'R Vinay Kumar',\n",
      "       'RA Jadeja', 'RG Sharma', 'RV Uthappa', 'S Badrinath', 'S Dhawan',\n",
      "       'SK Raina', 'SPD Smith', 'SS Tiwary', 'STR Binny', 'V Kohli', 'WP Saha',\n",
      "       'Y Venugopal Rao', 'YK Pathan', 'Yuvraj Singh'],\n",
      "      dtype='object', name='batsman')\n"
     ]
    }
   ],
   "source": [
    "print ( all_batsman [ all_batsman > 200 ] .index )"
   ]
  },
  {
   "cell_type": "code",
   "execution_count": 13,
   "id": "d5aa08ca",
   "metadata": {},
   "outputs": [
    {
     "name": "stdout",
     "output_type": "stream",
     "text": [
      "[ 225  570  289  268  229  425  385  360  228  409  234  246  418  465\n",
      "  425  231  518  294  838  463  338  204  224  423 1224  304  268  311\n",
      "  235  576  748  275  283  243  458  316  300  218  546  295  260  584\n",
      "  516]\n"
     ]
    }
   ],
   "source": [
    "print ( all_batsman [ all_batsman > 200 ] .values )"
   ]
  },
  {
   "cell_type": "code",
   "execution_count": 14,
   "id": "5f3ebf09",
   "metadata": {},
   "outputs": [
    {
     "name": "stdout",
     "output_type": "stream",
     "text": [
      "['A Mishra', 'AB de Villiers', 'AD Mathews', 'AM Rahane', 'AR Patel', 'AT Rayudu', 'BJ Hodge', 'DA Miller', 'DA Warner', 'DJ Bravo', 'DJ Hussey', 'DPMD Jayawardene', 'Harbhajan Singh', 'IK Pathan', 'JA Morkel', 'JH Kallis', 'JP Duminy', 'JP Faulkner', 'KA Pollard', 'KD Karthik', 'KM Jadhav', 'LRPL Taylor', 'MK Pandey', 'MK Tiwary', 'MS Dhoni', 'NV Ojha', 'P Kumar', 'PP Chawla', 'R Vinay Kumar', 'RA Jadeja', 'RG Sharma', 'RV Uthappa', 'S Badrinath', 'S Dhawan', 'SK Raina', 'SPD Smith', 'SS Tiwary', 'STR Binny', 'V Kohli', 'WP Saha', 'Y Venugopal Rao', 'YK Pathan', 'Yuvraj Singh']\n"
     ]
    }
   ],
   "source": [
    "batsman_list = all_batsman [ all_batsman > 200 ] .index .tolist()\n",
    "print(batsman_list)"
   ]
  },
  {
   "cell_type": "code",
   "execution_count": 15,
   "id": "39d489d8",
   "metadata": {},
   "outputs": [
    {
     "name": "stdout",
     "output_type": "stream",
     "text": [
      "0             DA Warner\n",
      "1             DA Warner\n",
      "2             DA Warner\n",
      "3             DA Warner\n",
      "4             DA Warner\n",
      "              ...      \n",
      "150455      Sachin Baby\n",
      "150456      Sachin Baby\n",
      "150457    Iqbal Abdulla\n",
      "150458      Sachin Baby\n",
      "150459    Iqbal Abdulla\n",
      "Name: batsman, Length: 150460, dtype: object\n"
     ]
    }
   ],
   "source": [
    "print ( df[\"batsman\"] )"
   ]
  },
  {
   "cell_type": "code",
   "execution_count": 16,
   "id": "44247c68",
   "metadata": {},
   "outputs": [
    {
     "name": "stdout",
     "output_type": "stream",
     "text": [
      "0          True\n",
      "1          True\n",
      "2          True\n",
      "3          True\n",
      "4          True\n",
      "          ...  \n",
      "150455    False\n",
      "150456    False\n",
      "150457    False\n",
      "150458    False\n",
      "150459    False\n",
      "Name: batsman, Length: 150460, dtype: bool\n"
     ]
    }
   ],
   "source": [
    "print ( df[\"batsman\"]. isin(batsman_list) )"
   ]
  },
  {
   "cell_type": "code",
   "execution_count": 17,
   "id": "f4144993",
   "metadata": {},
   "outputs": [
    {
     "name": "stdout",
     "output_type": "stream",
     "text": [
      "        match_id  inning                 batting_team  \\\n",
      "0              1       1          Sunrisers Hyderabad   \n",
      "1              1       1          Sunrisers Hyderabad   \n",
      "2              1       1          Sunrisers Hyderabad   \n",
      "3              1       1          Sunrisers Hyderabad   \n",
      "4              1       1          Sunrisers Hyderabad   \n",
      "...          ...     ...                          ...   \n",
      "150442       636       2  Royal Challengers Bangalore   \n",
      "150443       636       2  Royal Challengers Bangalore   \n",
      "150445       636       2  Royal Challengers Bangalore   \n",
      "150446       636       2  Royal Challengers Bangalore   \n",
      "150448       636       2  Royal Challengers Bangalore   \n",
      "\n",
      "                       bowling_team  over  ball    batsman  non_striker  \\\n",
      "0       Royal Challengers Bangalore     1     1  DA Warner     S Dhawan   \n",
      "1       Royal Challengers Bangalore     1     2  DA Warner     S Dhawan   \n",
      "2       Royal Challengers Bangalore     1     3  DA Warner     S Dhawan   \n",
      "3       Royal Challengers Bangalore     1     4  DA Warner     S Dhawan   \n",
      "4       Royal Challengers Bangalore     1     5  DA Warner     S Dhawan   \n",
      "...                             ...   ...   ...        ...          ...   \n",
      "150442          Sunrisers Hyderabad    18     1  STR Binny  Sachin Baby   \n",
      "150443          Sunrisers Hyderabad    18     2  STR Binny  Sachin Baby   \n",
      "150445          Sunrisers Hyderabad    18     4  STR Binny  Sachin Baby   \n",
      "150446          Sunrisers Hyderabad    18     5  STR Binny  Sachin Baby   \n",
      "150448          Sunrisers Hyderabad    19     1  STR Binny  Sachin Baby   \n",
      "\n",
      "                   bowler  is_super_over  ...  bye_runs  legbye_runs  \\\n",
      "0                TS Mills              0  ...         0            0   \n",
      "1                TS Mills              0  ...         0            0   \n",
      "2                TS Mills              0  ...         0            0   \n",
      "3                TS Mills              0  ...         0            0   \n",
      "4                TS Mills              0  ...         0            0   \n",
      "...                   ...            ...  ...       ...          ...   \n",
      "150442            B Kumar              0  ...         0            0   \n",
      "150443            B Kumar              0  ...         0            0   \n",
      "150445            B Kumar              0  ...         0            0   \n",
      "150446            B Kumar              0  ...         0            1   \n",
      "150448  Mustafizur Rahman              0  ...         0            0   \n",
      "\n",
      "        noball_runs  penalty_runs  batsman_runs  extra_runs  total_runs  \\\n",
      "0                 0             0             0           0           0   \n",
      "1                 0             0             0           0           0   \n",
      "2                 0             0             4           0           4   \n",
      "3                 0             0             0           0           0   \n",
      "4                 0             0             0           2           2   \n",
      "...             ...           ...           ...         ...         ...   \n",
      "150442            0             0             0           0           0   \n",
      "150443            0             0             1           0           1   \n",
      "150445            0             0             0           0           0   \n",
      "150446            0             0             0           1           1   \n",
      "150448            0             0             1           0           1   \n",
      "\n",
      "        player_dismissed dismissal_kind   fielder  \n",
      "0                    NaN            NaN       NaN  \n",
      "1                    NaN            NaN       NaN  \n",
      "2                    NaN            NaN       NaN  \n",
      "3                    NaN            NaN       NaN  \n",
      "4                    NaN            NaN       NaN  \n",
      "...                  ...            ...       ...  \n",
      "150442               NaN            NaN       NaN  \n",
      "150443               NaN            NaN       NaN  \n",
      "150445               NaN            NaN       NaN  \n",
      "150446               NaN            NaN       NaN  \n",
      "150448         STR Binny        run out  DJ Hooda  \n",
      "\n",
      "[66006 rows x 21 columns]\n"
     ]
    }
   ],
   "source": [
    "print ( df [ df[\"batsman\"]. isin(batsman_list) ] )"
   ]
  },
  {
   "cell_type": "code",
   "execution_count": 18,
   "id": "05b27d06",
   "metadata": {},
   "outputs": [
    {
     "name": "stdout",
     "output_type": "stream",
     "text": [
      "(66006, 21)\n"
     ]
    }
   ],
   "source": [
    "print ( df [ df[\"batsman\"]. isin(batsman_list) ] .shape )"
   ]
  },
  {
   "cell_type": "code",
   "execution_count": 19,
   "id": "238b6445",
   "metadata": {},
   "outputs": [
    {
     "name": "stdout",
     "output_type": "stream",
     "text": [
      "        match_id  inning                 batting_team  \\\n",
      "0              1       1          Sunrisers Hyderabad   \n",
      "1              1       1          Sunrisers Hyderabad   \n",
      "2              1       1          Sunrisers Hyderabad   \n",
      "3              1       1          Sunrisers Hyderabad   \n",
      "4              1       1          Sunrisers Hyderabad   \n",
      "...          ...     ...                          ...   \n",
      "150442       636       2  Royal Challengers Bangalore   \n",
      "150443       636       2  Royal Challengers Bangalore   \n",
      "150445       636       2  Royal Challengers Bangalore   \n",
      "150446       636       2  Royal Challengers Bangalore   \n",
      "150448       636       2  Royal Challengers Bangalore   \n",
      "\n",
      "                       bowling_team  over  ball    batsman  non_striker  \\\n",
      "0       Royal Challengers Bangalore     1     1  DA Warner     S Dhawan   \n",
      "1       Royal Challengers Bangalore     1     2  DA Warner     S Dhawan   \n",
      "2       Royal Challengers Bangalore     1     3  DA Warner     S Dhawan   \n",
      "3       Royal Challengers Bangalore     1     4  DA Warner     S Dhawan   \n",
      "4       Royal Challengers Bangalore     1     5  DA Warner     S Dhawan   \n",
      "...                             ...   ...   ...        ...          ...   \n",
      "150442          Sunrisers Hyderabad    18     1  STR Binny  Sachin Baby   \n",
      "150443          Sunrisers Hyderabad    18     2  STR Binny  Sachin Baby   \n",
      "150445          Sunrisers Hyderabad    18     4  STR Binny  Sachin Baby   \n",
      "150446          Sunrisers Hyderabad    18     5  STR Binny  Sachin Baby   \n",
      "150448          Sunrisers Hyderabad    19     1  STR Binny  Sachin Baby   \n",
      "\n",
      "                   bowler  is_super_over  ...  bye_runs  legbye_runs  \\\n",
      "0                TS Mills              0  ...         0            0   \n",
      "1                TS Mills              0  ...         0            0   \n",
      "2                TS Mills              0  ...         0            0   \n",
      "3                TS Mills              0  ...         0            0   \n",
      "4                TS Mills              0  ...         0            0   \n",
      "...                   ...            ...  ...       ...          ...   \n",
      "150442            B Kumar              0  ...         0            0   \n",
      "150443            B Kumar              0  ...         0            0   \n",
      "150445            B Kumar              0  ...         0            0   \n",
      "150446            B Kumar              0  ...         0            1   \n",
      "150448  Mustafizur Rahman              0  ...         0            0   \n",
      "\n",
      "        noball_runs  penalty_runs  batsman_runs  extra_runs  total_runs  \\\n",
      "0                 0             0             0           0           0   \n",
      "1                 0             0             0           0           0   \n",
      "2                 0             0             4           0           4   \n",
      "3                 0             0             0           0           0   \n",
      "4                 0             0             0           2           2   \n",
      "...             ...           ...           ...         ...         ...   \n",
      "150442            0             0             0           0           0   \n",
      "150443            0             0             1           0           1   \n",
      "150445            0             0             0           0           0   \n",
      "150446            0             0             0           1           1   \n",
      "150448            0             0             1           0           1   \n",
      "\n",
      "        player_dismissed dismissal_kind   fielder  \n",
      "0                    NaN            NaN       NaN  \n",
      "1                    NaN            NaN       NaN  \n",
      "2                    NaN            NaN       NaN  \n",
      "3                    NaN            NaN       NaN  \n",
      "4                    NaN            NaN       NaN  \n",
      "...                  ...            ...       ...  \n",
      "150442               NaN            NaN       NaN  \n",
      "150443               NaN            NaN       NaN  \n",
      "150445               NaN            NaN       NaN  \n",
      "150446               NaN            NaN       NaN  \n",
      "150448         STR Binny        run out  DJ Hooda  \n",
      "\n",
      "[66006 rows x 21 columns]\n"
     ]
    }
   ],
   "source": [
    "final = df [ df[\"batsman\"]. isin(batsman_list) ] \n",
    "print(final)"
   ]
  },
  {
   "cell_type": "code",
   "execution_count": 20,
   "id": "1973491d",
   "metadata": {},
   "outputs": [
    {
     "name": "stdout",
     "output_type": "stream",
     "text": [
      "batsman\n",
      "A Mishra             340\n",
      "AB de Villiers      3486\n",
      "AD Mathews           724\n",
      "AM Rahane           3057\n",
      "AR Patel             606\n",
      "AT Rayudu           2416\n",
      "BJ Hodge            1400\n",
      "DA Miller           1563\n",
      "DA Warner           4014\n",
      "DJ Bravo            1262\n",
      "DJ Hussey           1322\n",
      "DPMD Jayawardene    1808\n",
      "Harbhajan Singh      799\n",
      "IK Pathan           1150\n",
      "JA Morkel            975\n",
      "JH Kallis           2427\n",
      "JP Duminy           1993\n",
      "JP Faulkner          527\n",
      "KA Pollard          2354\n",
      "KD Karthik          2903\n",
      "KM Jadhav            893\n",
      "LRPL Taylor         1017\n",
      "MK Pandey           2223\n",
      "MK Tiwary           1648\n",
      "MS Dhoni            3560\n",
      "NV Ojha             1553\n",
      "P Kumar              340\n",
      "PP Chawla            515\n",
      "R Vinay Kumar        304\n",
      "RA Jadeja           1732\n",
      "RG Sharma           4207\n",
      "RV Uthappa          3778\n",
      "S Badrinath         1441\n",
      "S Dhawan            3561\n",
      "SK Raina            4548\n",
      "SPD Smith           1713\n",
      "SS Tiwary           1276\n",
      "STR Binny            766\n",
      "V Kohli             4423\n",
      "WP Saha             1557\n",
      "Y Venugopal Rao      985\n",
      "YK Pathan           2922\n",
      "Yuvraj Singh        2591\n",
      "Name: batsman_runs, dtype: int64\n"
     ]
    }
   ],
   "source": [
    "print ( final.groupby(\"batsman\") [\"batsman_runs\"] . sum() )"
   ]
  },
  {
   "cell_type": "code",
   "execution_count": 21,
   "id": "d79f3929",
   "metadata": {},
   "outputs": [
    {
     "name": "stdout",
     "output_type": "stream",
     "text": [
      "batsman\n",
      "A Mishra             340\n",
      "AB de Villiers      3486\n",
      "AD Mathews           724\n",
      "AM Rahane           3057\n",
      "AR Patel             606\n",
      "AT Rayudu           2416\n",
      "BJ Hodge            1400\n",
      "DA Miller           1563\n",
      "DA Warner           4014\n",
      "DJ Bravo            1262\n",
      "DJ Hussey           1322\n",
      "DPMD Jayawardene    1808\n",
      "Harbhajan Singh      799\n",
      "IK Pathan           1150\n",
      "JA Morkel            975\n",
      "JH Kallis           2427\n",
      "JP Duminy           1993\n",
      "JP Faulkner          527\n",
      "KA Pollard          2354\n",
      "KD Karthik          2903\n",
      "KM Jadhav            893\n",
      "LRPL Taylor         1017\n",
      "MK Pandey           2223\n",
      "MK Tiwary           1648\n",
      "MS Dhoni            3560\n",
      "NV Ojha             1553\n",
      "P Kumar              340\n",
      "PP Chawla            515\n",
      "R Vinay Kumar        304\n",
      "RA Jadeja           1732\n",
      "RG Sharma           4207\n",
      "RV Uthappa          3778\n",
      "S Badrinath         1441\n",
      "S Dhawan            3561\n",
      "SK Raina            4548\n",
      "SPD Smith           1713\n",
      "SS Tiwary           1276\n",
      "STR Binny            766\n",
      "V Kohli             4423\n",
      "WP Saha             1557\n",
      "Y Venugopal Rao      985\n",
      "YK Pathan           2922\n",
      "Yuvraj Singh        2591\n",
      "Name: batsman_runs, dtype: int64\n"
     ]
    }
   ],
   "source": [
    "runs = final.groupby(\"batsman\") [\"batsman_runs\"] . sum() \n",
    "print(runs)"
   ]
  },
  {
   "cell_type": "code",
   "execution_count": 22,
   "id": "e9bb1165",
   "metadata": {},
   "outputs": [
    {
     "name": "stdout",
     "output_type": "stream",
     "text": [
      "batsman\n",
      "A Mishra             382\n",
      "AB de Villiers      2402\n",
      "AD Mathews           599\n",
      "AM Rahane           2602\n",
      "AR Patel             494\n",
      "AT Rayudu           1964\n",
      "BJ Hodge            1153\n",
      "DA Miller           1135\n",
      "DA Warner           2902\n",
      "DJ Bravo            1032\n",
      "DJ Hussey           1101\n",
      "DPMD Jayawardene    1522\n",
      "Harbhajan Singh      591\n",
      "IK Pathan            985\n",
      "JA Morkel            712\n",
      "JH Kallis           2291\n",
      "JP Duminy           1634\n",
      "JP Faulkner          406\n",
      "KA Pollard          1674\n",
      "KD Karthik          2360\n",
      "KM Jadhav            684\n",
      "LRPL Taylor          847\n",
      "MK Pandey           1901\n",
      "MK Tiwary           1444\n",
      "MS Dhoni            2680\n",
      "NV Ojha             1356\n",
      "P Kumar              323\n",
      "PP Chawla            467\n",
      "R Vinay Kumar        285\n",
      "RA Jadeja           1458\n",
      "RG Sharma           3274\n",
      "RV Uthappa          2960\n",
      "S Badrinath         1245\n",
      "S Dhawan            3005\n",
      "SK Raina            3369\n",
      "SPD Smith           1333\n",
      "SS Tiwary           1111\n",
      "STR Binny            619\n",
      "V Kohli             3494\n",
      "WP Saha             1219\n",
      "Y Venugopal Rao      865\n",
      "YK Pathan           2076\n",
      "Yuvraj Singh        2050\n",
      "Name: batsman_runs, dtype: int64\n"
     ]
    }
   ],
   "source": [
    "balls = final.groupby(\"batsman\") [\"batsman_runs\"] . count() \n",
    "print(balls)"
   ]
  },
  {
   "cell_type": "code",
   "execution_count": 23,
   "id": "a51a1525",
   "metadata": {},
   "outputs": [
    {
     "name": "stdout",
     "output_type": "stream",
     "text": [
      "batsman\n",
      "A Mishra             89.005236\n",
      "AB de Villiers      145.129059\n",
      "AD Mathews          120.868114\n",
      "AM Rahane           117.486549\n",
      "AR Patel            122.672065\n",
      "AT Rayudu           123.014257\n",
      "BJ Hodge            121.422376\n",
      "DA Miller           137.709251\n",
      "DA Warner           138.318401\n",
      "DJ Bravo            122.286822\n",
      "DJ Hussey           120.072661\n",
      "DPMD Jayawardene    118.791064\n",
      "Harbhajan Singh     135.194585\n",
      "IK Pathan           116.751269\n",
      "JA Morkel           136.938202\n",
      "JH Kallis           105.936272\n",
      "JP Duminy           121.970624\n",
      "JP Faulkner         129.802956\n",
      "KA Pollard          140.621266\n",
      "KD Karthik          123.008475\n",
      "KM Jadhav           130.555556\n",
      "LRPL Taylor         120.070838\n",
      "MK Pandey           116.938453\n",
      "MK Tiwary           114.127424\n",
      "MS Dhoni            132.835821\n",
      "NV Ojha             114.528024\n",
      "P Kumar             105.263158\n",
      "PP Chawla           110.278373\n",
      "R Vinay Kumar       106.666667\n",
      "RA Jadeja           118.792867\n",
      "RG Sharma           128.497251\n",
      "RV Uthappa          127.635135\n",
      "S Badrinath         115.742972\n",
      "S Dhawan            118.502496\n",
      "SK Raina            134.995548\n",
      "SPD Smith           128.507127\n",
      "SS Tiwary           114.851485\n",
      "STR Binny           123.747981\n",
      "V Kohli             126.588437\n",
      "WP Saha             127.727646\n",
      "Y Venugopal Rao     113.872832\n",
      "YK Pathan           140.751445\n",
      "Yuvraj Singh        126.390244\n",
      "Name: batsman_runs, dtype: float64\n"
     ]
    }
   ],
   "source": [
    "strike_rate = runs / balls * 100\n",
    "print(strike_rate)"
   ]
  },
  {
   "cell_type": "code",
   "execution_count": null,
   "id": "dd2890dc",
   "metadata": {},
   "outputs": [],
   "source": []
  }
 ],
 "metadata": {
  "kernelspec": {
   "display_name": "Python 3 (ipykernel)",
   "language": "python",
   "name": "python3"
  },
  "language_info": {
   "codemirror_mode": {
    "name": "ipython",
    "version": 3
   },
   "file_extension": ".py",
   "mimetype": "text/x-python",
   "name": "python",
   "nbconvert_exporter": "python",
   "pygments_lexer": "ipython3",
   "version": "3.10.9"
  }
 },
 "nbformat": 4,
 "nbformat_minor": 5
}
