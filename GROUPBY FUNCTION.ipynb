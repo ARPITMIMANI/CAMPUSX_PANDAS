{
 "cells": [
  {
   "cell_type": "code",
   "execution_count": 1,
   "id": "7cf194fe",
   "metadata": {},
   "outputs": [
    {
     "name": "stdout",
     "output_type": "stream",
     "text": [
      "        match_id  inning                 batting_team  \\\n",
      "0              1       1          Sunrisers Hyderabad   \n",
      "1              1       1          Sunrisers Hyderabad   \n",
      "2              1       1          Sunrisers Hyderabad   \n",
      "3              1       1          Sunrisers Hyderabad   \n",
      "4              1       1          Sunrisers Hyderabad   \n",
      "...          ...     ...                          ...   \n",
      "150455       636       2  Royal Challengers Bangalore   \n",
      "150456       636       2  Royal Challengers Bangalore   \n",
      "150457       636       2  Royal Challengers Bangalore   \n",
      "150458       636       2  Royal Challengers Bangalore   \n",
      "150459       636       2  Royal Challengers Bangalore   \n",
      "\n",
      "                       bowling_team  over  ball        batsman    non_striker  \\\n",
      "0       Royal Challengers Bangalore     1     1      DA Warner       S Dhawan   \n",
      "1       Royal Challengers Bangalore     1     2      DA Warner       S Dhawan   \n",
      "2       Royal Challengers Bangalore     1     3      DA Warner       S Dhawan   \n",
      "3       Royal Challengers Bangalore     1     4      DA Warner       S Dhawan   \n",
      "4       Royal Challengers Bangalore     1     5      DA Warner       S Dhawan   \n",
      "...                             ...   ...   ...            ...            ...   \n",
      "150455          Sunrisers Hyderabad    20     2    Sachin Baby      CJ Jordan   \n",
      "150456          Sunrisers Hyderabad    20     3    Sachin Baby      CJ Jordan   \n",
      "150457          Sunrisers Hyderabad    20     4  Iqbal Abdulla    Sachin Baby   \n",
      "150458          Sunrisers Hyderabad    20     5    Sachin Baby  Iqbal Abdulla   \n",
      "150459          Sunrisers Hyderabad    20     6  Iqbal Abdulla    Sachin Baby   \n",
      "\n",
      "          bowler  is_super_over  ...  bye_runs  legbye_runs  noball_runs  \\\n",
      "0       TS Mills              0  ...         0            0            0   \n",
      "1       TS Mills              0  ...         0            0            0   \n",
      "2       TS Mills              0  ...         0            0            0   \n",
      "3       TS Mills              0  ...         0            0            0   \n",
      "4       TS Mills              0  ...         0            0            0   \n",
      "...          ...            ...  ...       ...          ...          ...   \n",
      "150455   B Kumar              0  ...         0            0            0   \n",
      "150456   B Kumar              0  ...         0            0            0   \n",
      "150457   B Kumar              0  ...         0            1            0   \n",
      "150458   B Kumar              0  ...         0            0            0   \n",
      "150459   B Kumar              0  ...         0            0            0   \n",
      "\n",
      "        penalty_runs  batsman_runs  extra_runs  total_runs  player_dismissed  \\\n",
      "0                  0             0           0           0               NaN   \n",
      "1                  0             0           0           0               NaN   \n",
      "2                  0             4           0           4               NaN   \n",
      "3                  0             0           0           0               NaN   \n",
      "4                  0             0           2           2               NaN   \n",
      "...              ...           ...         ...         ...               ...   \n",
      "150455             0             2           0           2               NaN   \n",
      "150456             0             0           0           0         CJ Jordan   \n",
      "150457             0             0           1           1               NaN   \n",
      "150458             0             1           0           1               NaN   \n",
      "150459             0             4           0           4               NaN   \n",
      "\n",
      "       dismissal_kind  fielder  \n",
      "0                 NaN      NaN  \n",
      "1                 NaN      NaN  \n",
      "2                 NaN      NaN  \n",
      "3                 NaN      NaN  \n",
      "4                 NaN      NaN  \n",
      "...               ...      ...  \n",
      "150455            NaN      NaN  \n",
      "150456        run out  NV Ojha  \n",
      "150457            NaN      NaN  \n",
      "150458            NaN      NaN  \n",
      "150459            NaN      NaN  \n",
      "\n",
      "[150460 rows x 21 columns]\n"
     ]
    }
   ],
   "source": [
    "import pandas as pd\n",
    "df = pd.read_csv(\"DELIVERIES_DATA.csv\")\n",
    "print(df)"
   ]
  },
  {
   "cell_type": "code",
   "execution_count": 2,
   "id": "97df83cb",
   "metadata": {},
   "outputs": [
    {
     "name": "stdout",
     "output_type": "stream",
     "text": [
      "150460\n"
     ]
    }
   ],
   "source": [
    "print ( len(df) )"
   ]
  },
  {
   "cell_type": "code",
   "execution_count": 3,
   "id": "f343add4",
   "metadata": {},
   "outputs": [
    {
     "name": "stdout",
     "output_type": "stream",
     "text": [
      "3159660\n"
     ]
    }
   ],
   "source": [
    "print ( df.size )"
   ]
  },
  {
   "cell_type": "code",
   "execution_count": 4,
   "id": "e57f75a9",
   "metadata": {},
   "outputs": [
    {
     "name": "stdout",
     "output_type": "stream",
     "text": [
      "<pandas.core.groupby.generic.DataFrameGroupBy object at 0x0000023632F24BE0>\n"
     ]
    }
   ],
   "source": [
    "runs = df.groupby(\"batsman\")\n",
    "print(runs)"
   ]
  },
  {
   "cell_type": "code",
   "execution_count": 5,
   "id": "d359bd2c",
   "metadata": {},
   "outputs": [
    {
     "name": "stdout",
     "output_type": "stream",
     "text": [
      "        match_id  inning                 batting_team         bowling_team  \\\n",
      "2590          12       1  Royal Challengers Bangalore       Mumbai Indians   \n",
      "2591          12       1  Royal Challengers Bangalore       Mumbai Indians   \n",
      "2593          12       1  Royal Challengers Bangalore       Mumbai Indians   \n",
      "2594          12       1  Royal Challengers Bangalore       Mumbai Indians   \n",
      "2597          12       1  Royal Challengers Bangalore       Mumbai Indians   \n",
      "...          ...     ...                          ...                  ...   \n",
      "150410       636       2  Royal Challengers Bangalore  Sunrisers Hyderabad   \n",
      "150413       636       2  Royal Challengers Bangalore  Sunrisers Hyderabad   \n",
      "150414       636       2  Royal Challengers Bangalore  Sunrisers Hyderabad   \n",
      "150415       636       2  Royal Challengers Bangalore  Sunrisers Hyderabad   \n",
      "150416       636       2  Royal Challengers Bangalore  Sunrisers Hyderabad   \n",
      "\n",
      "        over  ball  batsman     non_striker           bowler  is_super_over  \\\n",
      "2590       1     2  V Kohli        CH Gayle       TG Southee              0   \n",
      "2591       1     3  V Kohli        CH Gayle       TG Southee              0   \n",
      "2593       1     5  V Kohli        CH Gayle       TG Southee              0   \n",
      "2594       1     6  V Kohli        CH Gayle       TG Southee              0   \n",
      "2597       2     1  V Kohli        CH Gayle  Harbhajan Singh              0   \n",
      "...      ...   ...      ...             ...              ...            ...   \n",
      "150410    12     5  V Kohli  AB de Villiers     Bipul Sharma              0   \n",
      "150413    13     2  V Kohli  AB de Villiers          BB Sran              0   \n",
      "150414    13     3  V Kohli  AB de Villiers          BB Sran              0   \n",
      "150415    13     4  V Kohli  AB de Villiers          BB Sran              0   \n",
      "150416    13     5  V Kohli  AB de Villiers          BB Sran              0   \n",
      "\n",
      "        ...  bye_runs  legbye_runs  noball_runs  penalty_runs  batsman_runs  \\\n",
      "2590    ...         0            0            0             0             0   \n",
      "2591    ...         0            0            0             0             1   \n",
      "2593    ...         0            0            0             0             0   \n",
      "2594    ...         0            0            0             0             1   \n",
      "2597    ...         0            0            0             0             0   \n",
      "...     ...       ...          ...          ...           ...           ...   \n",
      "150410  ...         0            0            0             0             1   \n",
      "150413  ...         0            0            0             0             6   \n",
      "150414  ...         0            0            0             0             2   \n",
      "150415  ...         0            0            0             0             2   \n",
      "150416  ...         0            0            0             0             0   \n",
      "\n",
      "        extra_runs  total_runs  player_dismissed dismissal_kind fielder  \n",
      "2590             1           1               NaN            NaN     NaN  \n",
      "2591             0           1               NaN            NaN     NaN  \n",
      "2593             0           0               NaN            NaN     NaN  \n",
      "2594             0           1               NaN            NaN     NaN  \n",
      "2597             0           0               NaN            NaN     NaN  \n",
      "...            ...         ...               ...            ...     ...  \n",
      "150410           0           1               NaN            NaN     NaN  \n",
      "150413           0           6               NaN            NaN     NaN  \n",
      "150414           0           2               NaN            NaN     NaN  \n",
      "150415           0           2               NaN            NaN     NaN  \n",
      "150416           0           0           V Kohli         bowled     NaN  \n",
      "\n",
      "[3494 rows x 21 columns]\n"
     ]
    }
   ],
   "source": [
    "print ( runs.get_group(\"V Kohli\") )"
   ]
  },
  {
   "cell_type": "code",
   "execution_count": 6,
   "id": "2289558d",
   "metadata": {},
   "outputs": [
    {
     "name": "stdout",
     "output_type": "stream",
     "text": [
      "(3494, 21)\n"
     ]
    }
   ],
   "source": [
    "print ( runs.get_group(\"V Kohli\") .shape )"
   ]
  },
  {
   "cell_type": "code",
   "execution_count": 7,
   "id": "89ee285a",
   "metadata": {},
   "outputs": [
    {
     "name": "stdout",
     "output_type": "stream",
     "text": [
      "batsman\n",
      "A Ashish Reddy     280\n",
      "A Chandila           4\n",
      "A Chopra            53\n",
      "A Choudhary         25\n",
      "A Flintoff          62\n",
      "                  ... \n",
      "YV Takawale        192\n",
      "Yashpal Singh       47\n",
      "Younis Khan          3\n",
      "Yuvraj Singh      2591\n",
      "Z Khan             117\n",
      "Name: batsman_runs, Length: 461, dtype: int64\n"
     ]
    }
   ],
   "source": [
    "print ( runs[\"batsman_runs\"] .sum() )"
   ]
  },
  {
   "cell_type": "code",
   "execution_count": 8,
   "id": "a8fc7d95",
   "metadata": {},
   "outputs": [
    {
     "name": "stdout",
     "output_type": "stream",
     "text": [
      "batsman\n",
      "SK Raina        4548\n",
      "V Kohli         4423\n",
      "RG Sharma       4207\n",
      "G Gambhir       4132\n",
      "DA Warner       4014\n",
      "                ... \n",
      "Abdur Razzak       0\n",
      "S Kaushik          0\n",
      "S Ladda            0\n",
      "U Kaul             0\n",
      "RR Bhatkal         0\n",
      "Name: batsman_runs, Length: 461, dtype: int64\n"
     ]
    }
   ],
   "source": [
    "print ( runs[\"batsman_runs\"] .sum() .sort_values(ascending=False) )"
   ]
  },
  {
   "cell_type": "code",
   "execution_count": 9,
   "id": "7d8c3ff7",
   "metadata": {},
   "outputs": [
    {
     "name": "stdout",
     "output_type": "stream",
     "text": [
      "batsman\n",
      "SK Raina          4548\n",
      "V Kohli           4423\n",
      "RG Sharma         4207\n",
      "G Gambhir         4132\n",
      "DA Warner         4014\n",
      "RV Uthappa        3778\n",
      "CH Gayle          3651\n",
      "S Dhawan          3561\n",
      "MS Dhoni          3560\n",
      "AB de Villiers    3486\n",
      "Name: batsman_runs, dtype: int64\n"
     ]
    }
   ],
   "source": [
    "print ( runs[\"batsman_runs\"] .sum() .sort_values(ascending=False). head(10) )"
   ]
  },
  {
   "cell_type": "code",
   "execution_count": 10,
   "id": "6834c27f",
   "metadata": {},
   "outputs": [
    {
     "name": "stdout",
     "output_type": "stream",
     "text": [
      "        match_id  inning                 batting_team  \\\n",
      "2              1       1          Sunrisers Hyderabad   \n",
      "8              1       1          Sunrisers Hyderabad   \n",
      "13             1       1          Sunrisers Hyderabad   \n",
      "30             1       1          Sunrisers Hyderabad   \n",
      "32             1       1          Sunrisers Hyderabad   \n",
      "...          ...     ...                          ...   \n",
      "150403       636       2  Royal Challengers Bangalore   \n",
      "150407       636       2  Royal Challengers Bangalore   \n",
      "150418       636       2  Royal Challengers Bangalore   \n",
      "150447       636       2  Royal Challengers Bangalore   \n",
      "150459       636       2  Royal Challengers Bangalore   \n",
      "\n",
      "                       bowling_team  over  ball        batsman  \\\n",
      "2       Royal Challengers Bangalore     1     3      DA Warner   \n",
      "8       Royal Challengers Bangalore     2     2      DA Warner   \n",
      "13      Royal Challengers Bangalore     2     7   MC Henriques   \n",
      "30      Royal Challengers Bangalore     5     5   MC Henriques   \n",
      "32      Royal Challengers Bangalore     6     1       S Dhawan   \n",
      "...                             ...   ...   ...            ...   \n",
      "150403          Sunrisers Hyderabad    11     4        V Kohli   \n",
      "150407          Sunrisers Hyderabad    12     2        V Kohli   \n",
      "150418          Sunrisers Hyderabad    14     1       KL Rahul   \n",
      "150447          Sunrisers Hyderabad    18     6    Sachin Baby   \n",
      "150459          Sunrisers Hyderabad    20     6  Iqbal Abdulla   \n",
      "\n",
      "           non_striker        bowler  is_super_over  ...  bye_runs  \\\n",
      "2             S Dhawan      TS Mills              0  ...         0   \n",
      "8             S Dhawan   A Choudhary              0  ...         0   \n",
      "13            S Dhawan   A Choudhary              0  ...         0   \n",
      "30            S Dhawan     S Aravind              0  ...         0   \n",
      "32        MC Henriques     SR Watson              0  ...         0   \n",
      "...                ...           ...            ...  ...       ...   \n",
      "150403  AB de Villiers   BCJ Cutting              0  ...         0   \n",
      "150407  AB de Villiers  Bipul Sharma              0  ...         0   \n",
      "150418  AB de Villiers  Bipul Sharma              0  ...         0   \n",
      "150447       STR Binny       B Kumar              0  ...         0   \n",
      "150459     Sachin Baby       B Kumar              0  ...         0   \n",
      "\n",
      "        legbye_runs  noball_runs  penalty_runs  batsman_runs  extra_runs  \\\n",
      "2                 0            0             0             4           0   \n",
      "8                 0            0             0             4           0   \n",
      "13                0            0             0             4           0   \n",
      "30                0            0             0             4           0   \n",
      "32                0            0             0             4           0   \n",
      "...             ...          ...           ...           ...         ...   \n",
      "150403            0            0             0             4           0   \n",
      "150407            0            0             0             4           0   \n",
      "150418            0            0             0             4           0   \n",
      "150447            0            0             0             4           0   \n",
      "150459            0            0             0             4           0   \n",
      "\n",
      "        total_runs  player_dismissed dismissal_kind fielder  \n",
      "2                4               NaN            NaN     NaN  \n",
      "8                4               NaN            NaN     NaN  \n",
      "13               4               NaN            NaN     NaN  \n",
      "30               4               NaN            NaN     NaN  \n",
      "32               4               NaN            NaN     NaN  \n",
      "...            ...               ...            ...     ...  \n",
      "150403           4               NaN            NaN     NaN  \n",
      "150407           4               NaN            NaN     NaN  \n",
      "150418           4               NaN            NaN     NaN  \n",
      "150447           4               NaN            NaN     NaN  \n",
      "150459           4               NaN            NaN     NaN  \n",
      "\n",
      "[17033 rows x 21 columns]\n"
     ]
    }
   ],
   "source": [
    "mask_four = df[\"batsman_runs\"] == 4\n",
    "four_delivery = df[mask_four]\n",
    "\n",
    "print ( four_delivery )"
   ]
  },
  {
   "cell_type": "code",
   "execution_count": 11,
   "id": "9c1e02b3",
   "metadata": {},
   "outputs": [
    {
     "name": "stdout",
     "output_type": "stream",
     "text": [
      "(17033, 21)\n"
     ]
    }
   ],
   "source": [
    "print ( four_delivery.shape )"
   ]
  },
  {
   "cell_type": "code",
   "execution_count": 12,
   "id": "c12c7456",
   "metadata": {},
   "outputs": [
    {
     "name": "stdout",
     "output_type": "stream",
     "text": [
      "(6523, 21)\n"
     ]
    }
   ],
   "source": [
    "mask_six = df[\"batsman_runs\"] == 6 \n",
    "six_delivery = df[mask_six]\n",
    "\n",
    "print ( six_delivery.shape )"
   ]
  },
  {
   "cell_type": "code",
   "execution_count": 13,
   "id": "dd0c7e7f",
   "metadata": {},
   "outputs": [
    {
     "name": "stdout",
     "output_type": "stream",
     "text": [
      "6523\n"
     ]
    }
   ],
   "source": [
    "mask_six = df[\"batsman_runs\"] == 6 \n",
    "six_delivery = df[mask_six]\n",
    "\n",
    "print ( six_delivery.shape[0] )"
   ]
  },
  {
   "cell_type": "code",
   "execution_count": 14,
   "id": "e766ed7d",
   "metadata": {},
   "outputs": [
    {
     "name": "stdout",
     "output_type": "stream",
     "text": [
      "<pandas.core.groupby.generic.SeriesGroupBy object at 0x0000023632F27CA0>\n"
     ]
    }
   ],
   "source": [
    "print ( six_delivery. groupby(\"batsman\") [\"batsman_runs\"] )"
   ]
  },
  {
   "cell_type": "code",
   "execution_count": 15,
   "id": "dd19fd68",
   "metadata": {},
   "outputs": [
    {
     "name": "stdout",
     "output_type": "stream",
     "text": [
      "batsman\n",
      "CH Gayle         266\n",
      "SK Raina         174\n",
      "RG Sharma        173\n",
      "V Kohli          160\n",
      "DA Warner        160\n",
      "                ... \n",
      "CK Langeveldt      1\n",
      "CR Woakes          1\n",
      "P Sahu             1\n",
      "DE Bollinger       1\n",
      "Basil Thampi       1\n",
      "Name: batsman_runs, Length: 301, dtype: int64\n"
     ]
    }
   ],
   "source": [
    "print ( six_delivery. groupby(\"batsman\") [\"batsman_runs\"] .count() .sort_values(ascending=False) )"
   ]
  },
  {
   "cell_type": "code",
   "execution_count": 16,
   "id": "e830b93b",
   "metadata": {},
   "outputs": [
    {
     "name": "stdout",
     "output_type": "stream",
     "text": [
      "batsman\n",
      "CH Gayle          266\n",
      "SK Raina          174\n",
      "RG Sharma         173\n",
      "V Kohli           160\n",
      "DA Warner         160\n",
      "AB de Villiers    158\n",
      "MS Dhoni          156\n",
      "YK Pathan         149\n",
      "KA Pollard        148\n",
      "Yuvraj Singh      141\n",
      "Name: batsman_runs, dtype: int64\n"
     ]
    }
   ],
   "source": [
    "print ( six_delivery. groupby(\"batsman\") [\"batsman_runs\"] .count() .sort_values(ascending=False) .head(10) )"
   ]
  },
  {
   "cell_type": "code",
   "execution_count": 17,
   "id": "7c8c0cc5",
   "metadata": {},
   "outputs": [
    {
     "name": "stdout",
     "output_type": "stream",
     "text": [
      "(509, 21)\n"
     ]
    }
   ],
   "source": [
    "mask_three = df[\"batsman_runs\"] == 3\n",
    "three_delivery = df[mask_three]\n",
    "\n",
    "print ( three_delivery.shape )"
   ]
  },
  {
   "cell_type": "code",
   "execution_count": 18,
   "id": "ee738934",
   "metadata": {},
   "outputs": [
    {
     "name": "stdout",
     "output_type": "stream",
     "text": [
      "batsman\n",
      "M Vijay           17\n",
      "S Dhawan          16\n",
      "G Gambhir         15\n",
      "AM Rahane         14\n",
      "DA Warner         13\n",
      "                  ..\n",
      "LA Pomersbach      1\n",
      "L Balaji           1\n",
      "KV Sharma          1\n",
      "KS Williamson      1\n",
      "M Muralitharan     1\n",
      "Name: batsman_runs, Length: 158, dtype: int64\n"
     ]
    }
   ],
   "source": [
    "print ( three_delivery. groupby(\"batsman\") [\"batsman_runs\"] .count() .sort_values(ascending=False) )"
   ]
  },
  {
   "cell_type": "code",
   "execution_count": 19,
   "id": "7a154045",
   "metadata": {},
   "outputs": [
    {
     "name": "stdout",
     "output_type": "stream",
     "text": [
      "batsman\n",
      "M Vijay           17\n",
      "S Dhawan          16\n",
      "G Gambhir         15\n",
      "AM Rahane         14\n",
      "DA Warner         13\n",
      "AB de Villiers    12\n",
      "RV Uthappa        12\n",
      "MEK Hussey        11\n",
      "MS Dhoni          11\n",
      "V Kohli           11\n",
      "Name: batsman_runs, dtype: int64\n"
     ]
    }
   ],
   "source": [
    "print ( three_delivery. groupby(\"batsman\") [\"batsman_runs\"] .count() .sort_values(ascending=False) .head(10) )"
   ]
  },
  {
   "cell_type": "code",
   "execution_count": 20,
   "id": "5ff4d043",
   "metadata": {},
   "outputs": [
    {
     "name": "stdout",
     "output_type": "stream",
     "text": [
      "bowling_team\n",
      "Chennai Super Kings      706\n",
      "Delhi Daredevils         661\n",
      "Kings XI Punjab          483\n",
      "Mumbai Indians           447\n",
      "Sunrisers Hyderabad      439\n",
      "Kolkata Knight Riders    391\n",
      "Name: batsman_runs, dtype: int64\n"
     ]
    }
   ],
   "source": [
    "vk_delivery = df [ df[\"batsman\"]==\"V Kohli\" ]\n",
    "print ( vk_delivery. groupby(\"bowling_team\") [\"batsman_runs\"] .sum() .sort_values(ascending=False) .head(6) )"
   ]
  },
  {
   "cell_type": "code",
   "execution_count": 21,
   "id": "d5b3554c",
   "metadata": {},
   "outputs": [
    {
     "name": "stdout",
     "output_type": "stream",
     "text": [
      "bowling_team\n",
      "Chennai Super Kings      706\n",
      "Delhi Daredevils         661\n",
      "Kings XI Punjab          483\n",
      "Mumbai Indians           447\n",
      "Sunrisers Hyderabad      439\n",
      "Kolkata Knight Riders    391\n",
      "Name: batsman_runs, dtype: int64\n"
     ]
    }
   ],
   "source": [
    "def runs_scored (batsman_name) :\n",
    "    \n",
    "    bat_delivery = df [ df[\"batsman\"]==batsman_name ]\n",
    "    \n",
    "    return bat_delivery. groupby(\"bowling_team\") [\"batsman_runs\"] .sum() .sort_values(ascending=False) .head(6)\n",
    "\n",
    "print ( runs_scored(\"V Kohli\") )"
   ]
  },
  {
   "cell_type": "code",
   "execution_count": 22,
   "id": "0baea69a",
   "metadata": {},
   "outputs": [
    {
     "name": "stdout",
     "output_type": "stream",
     "text": [
      "bowling_team\n",
      "Kolkata Knight Riders          677\n",
      "Kings XI Punjab                668\n",
      "Royal Challengers Bangalore    569\n",
      "Mumbai Indians                 465\n",
      "Chennai Super Kings            338\n",
      "Gujarat Lions                  336\n",
      "Name: batsman_runs, dtype: int64\n"
     ]
    }
   ],
   "source": [
    "print ( runs_scored(\"DA Warner\") )"
   ]
  },
  {
   "cell_type": "code",
   "execution_count": 23,
   "id": "5abd41ab",
   "metadata": {},
   "outputs": [
    {
     "name": "stdout",
     "output_type": "stream",
     "text": [
      "bowling_team\n",
      "Kings XI Punjab                671\n",
      "Royal Challengers Bangalore    644\n",
      "Mumbai Indians                 452\n",
      "Chennai Super Kings            429\n",
      "Rajasthan Royals               423\n",
      "Delhi Daredevils               413\n",
      "Name: batsman_runs, dtype: int64\n"
     ]
    }
   ],
   "source": [
    "print ( runs_scored(\"G Gambhir\") )"
   ]
  },
  {
   "cell_type": "code",
   "execution_count": 24,
   "id": "6acb6586",
   "metadata": {},
   "outputs": [
    {
     "name": "stdout",
     "output_type": "stream",
     "text": [
      "bowling_team\n",
      "Royal Challengers Bangalore    608\n",
      "Mumbai Indians                 581\n",
      "Kings XI Punjab                453\n",
      "Delhi Daredevils               419\n",
      "Kolkata Knight Riders          387\n",
      "Sunrisers Hyderabad            341\n",
      "Name: batsman_runs, dtype: int64\n"
     ]
    }
   ],
   "source": [
    "print ( runs_scored(\"MS Dhoni\") )"
   ]
  },
  {
   "cell_type": "code",
   "execution_count": 25,
   "id": "d9b2bfaf",
   "metadata": {},
   "outputs": [
    {
     "name": "stdout",
     "output_type": "stream",
     "text": [
      "      id  season       city        date                        team1  \\\n",
      "0      1    2017  Hyderabad  2017-04-05          Sunrisers Hyderabad   \n",
      "1      2    2017       Pune  2017-04-06               Mumbai Indians   \n",
      "2      3    2017     Rajkot  2017-04-07                Gujarat Lions   \n",
      "3      4    2017     Indore  2017-04-08       Rising Pune Supergiant   \n",
      "4      5    2017  Bangalore  2017-04-08  Royal Challengers Bangalore   \n",
      "..   ...     ...        ...         ...                          ...   \n",
      "631  632    2016     Raipur  2016-05-22             Delhi Daredevils   \n",
      "632  633    2016  Bangalore  2016-05-24                Gujarat Lions   \n",
      "633  634    2016      Delhi  2016-05-25          Sunrisers Hyderabad   \n",
      "634  635    2016      Delhi  2016-05-27                Gujarat Lions   \n",
      "635  636    2016  Bangalore  2016-05-29          Sunrisers Hyderabad   \n",
      "\n",
      "                           team2                  toss_winner toss_decision  \\\n",
      "0    Royal Challengers Bangalore  Royal Challengers Bangalore         field   \n",
      "1         Rising Pune Supergiant       Rising Pune Supergiant         field   \n",
      "2          Kolkata Knight Riders        Kolkata Knight Riders         field   \n",
      "3                Kings XI Punjab              Kings XI Punjab         field   \n",
      "4               Delhi Daredevils  Royal Challengers Bangalore           bat   \n",
      "..                           ...                          ...           ...   \n",
      "631  Royal Challengers Bangalore  Royal Challengers Bangalore         field   \n",
      "632  Royal Challengers Bangalore  Royal Challengers Bangalore         field   \n",
      "633        Kolkata Knight Riders        Kolkata Knight Riders         field   \n",
      "634          Sunrisers Hyderabad          Sunrisers Hyderabad         field   \n",
      "635  Royal Challengers Bangalore          Sunrisers Hyderabad           bat   \n",
      "\n",
      "     result  dl_applied                       winner  win_by_runs  \\\n",
      "0    normal           0          Sunrisers Hyderabad           35   \n",
      "1    normal           0       Rising Pune Supergiant            0   \n",
      "2    normal           0        Kolkata Knight Riders            0   \n",
      "3    normal           0              Kings XI Punjab            0   \n",
      "4    normal           0  Royal Challengers Bangalore           15   \n",
      "..      ...         ...                          ...          ...   \n",
      "631  normal           0  Royal Challengers Bangalore            0   \n",
      "632  normal           0  Royal Challengers Bangalore            0   \n",
      "633  normal           0          Sunrisers Hyderabad           22   \n",
      "634  normal           0          Sunrisers Hyderabad            0   \n",
      "635  normal           0          Sunrisers Hyderabad            8   \n",
      "\n",
      "     win_by_wickets player_of_match  \\\n",
      "0                 0    Yuvraj Singh   \n",
      "1                 7       SPD Smith   \n",
      "2                10         CA Lynn   \n",
      "3                 6      GJ Maxwell   \n",
      "4                 0       KM Jadhav   \n",
      "..              ...             ...   \n",
      "631               6         V Kohli   \n",
      "632               4  AB de Villiers   \n",
      "633               0    MC Henriques   \n",
      "634               4       DA Warner   \n",
      "635               0     BCJ Cutting   \n",
      "\n",
      "                                                venue          umpire1  \\\n",
      "0           Rajiv Gandhi International Stadium, Uppal      AY Dandekar   \n",
      "1             Maharashtra Cricket Association Stadium   A Nand Kishore   \n",
      "2              Saurashtra Cricket Association Stadium      Nitin Menon   \n",
      "3                              Holkar Cricket Stadium     AK Chaudhary   \n",
      "4                               M Chinnaswamy Stadium              NaN   \n",
      "..                                                ...              ...   \n",
      "631  Shaheed Veer Narayan Singh International Stadium   A Nand Kishore   \n",
      "632                             M Chinnaswamy Stadium     AK Chaudhary   \n",
      "633                                  Feroz Shah Kotla        M Erasmus   \n",
      "634                                  Feroz Shah Kotla        M Erasmus   \n",
      "635                             M Chinnaswamy Stadium  HDPK Dharmasena   \n",
      "\n",
      "             umpire2  umpire3  \n",
      "0           NJ Llong      NaN  \n",
      "1             S Ravi      NaN  \n",
      "2          CK Nandan      NaN  \n",
      "3      C Shamshuddin      NaN  \n",
      "4                NaN      NaN  \n",
      "..               ...      ...  \n",
      "631     BNJ Oxenford      NaN  \n",
      "632  HDPK Dharmasena      NaN  \n",
      "633    C Shamshuddin      NaN  \n",
      "634        CK Nandan      NaN  \n",
      "635     BNJ Oxenford      NaN  \n",
      "\n",
      "[636 rows x 18 columns]\n"
     ]
    }
   ],
   "source": [
    "import pandas as pd\n",
    "match = pd.read_csv(\"MATCH_DATA.csv\")\n",
    "print(match)"
   ]
  },
  {
   "cell_type": "code",
   "execution_count": 26,
   "id": "98c20e3b",
   "metadata": {},
   "outputs": [
    {
     "name": "stdout",
     "output_type": "stream",
     "text": [
      "<pandas.core.groupby.generic.DataFrameGroupBy object at 0x00000236334348B0>\n"
     ]
    }
   ],
   "source": [
    "place = match.groupby(\"city\")\n",
    "print(place)"
   ]
  },
  {
   "cell_type": "code",
   "execution_count": 27,
   "id": "5bbf9319",
   "metadata": {},
   "outputs": [
    {
     "name": "stdout",
     "output_type": "stream",
     "text": [
      "30\n"
     ]
    }
   ],
   "source": [
    "print ( len(place) )"
   ]
  },
  {
   "cell_type": "code",
   "execution_count": 28,
   "id": "378ab7e7",
   "metadata": {},
   "outputs": [
    {
     "name": "stdout",
     "output_type": "stream",
     "text": [
      "636\n"
     ]
    }
   ],
   "source": [
    "print ( len(match) )"
   ]
  },
  {
   "cell_type": "code",
   "execution_count": 29,
   "id": "bf005fc7",
   "metadata": {},
   "outputs": [
    {
     "name": "stdout",
     "output_type": "stream",
     "text": [
      "city\n",
      "Abu Dhabi          7\n",
      "Ahmedabad         12\n",
      "Bangalore         66\n",
      "Bloemfontein       2\n",
      "Cape Town          7\n",
      "Centurion         12\n",
      "Chandigarh        46\n",
      "Chennai           48\n",
      "Cuttack            7\n",
      "Delhi             60\n",
      "Dharamsala         9\n",
      "Durban            15\n",
      "East London        3\n",
      "Hyderabad         49\n",
      "Indore             5\n",
      "Jaipur            33\n",
      "Johannesburg       8\n",
      "Kanpur             4\n",
      "Kimberley          3\n",
      "Kochi              5\n",
      "Kolkata           61\n",
      "Mumbai            85\n",
      "Nagpur             3\n",
      "Port Elizabeth     7\n",
      "Pune              32\n",
      "Raipur             6\n",
      "Rajkot            10\n",
      "Ranchi             7\n",
      "Sharjah            6\n",
      "Visakhapatnam     11\n",
      "dtype: int64\n"
     ]
    }
   ],
   "source": [
    "print ( place.size() )"
   ]
  },
  {
   "cell_type": "code",
   "execution_count": 30,
   "id": "ac2c5b0a",
   "metadata": {},
   "outputs": [
    {
     "name": "stdout",
     "output_type": "stream",
     "text": [
      "city\n",
      "Mumbai            85\n",
      "Bangalore         66\n",
      "Kolkata           61\n",
      "Delhi             60\n",
      "Hyderabad         49\n",
      "Chennai           48\n",
      "Chandigarh        46\n",
      "Jaipur            33\n",
      "Pune              32\n",
      "Durban            15\n",
      "Centurion         12\n",
      "Ahmedabad         12\n",
      "Visakhapatnam     11\n",
      "Rajkot            10\n",
      "Dharamsala         9\n",
      "Johannesburg       8\n",
      "Cape Town          7\n",
      "Cuttack            7\n",
      "Ranchi             7\n",
      "Port Elizabeth     7\n",
      "Abu Dhabi          7\n",
      "Raipur             6\n",
      "Sharjah            6\n",
      "Indore             5\n",
      "Kochi              5\n",
      "Kanpur             4\n",
      "Nagpur             3\n",
      "Kimberley          3\n",
      "East London        3\n",
      "Bloemfontein       2\n",
      "dtype: int64\n"
     ]
    }
   ],
   "source": [
    "print ( place.size(). sort_values(ascending=False) )"
   ]
  },
  {
   "cell_type": "code",
   "execution_count": 31,
   "id": "6cc46c1a",
   "metadata": {},
   "outputs": [
    {
     "name": "stdout",
     "output_type": "stream",
     "text": [
      "                 id  season        date                        team1  \\\n",
      "city                                                                   \n",
      "Abu Dhabi       458    2014  2014-04-16        Kolkata Knight Riders   \n",
      "Ahmedabad       180    2010  2010-03-15             Rajasthan Royals   \n",
      "Bangalore         5    2017  2017-04-08  Royal Challengers Bangalore   \n",
      "Bloemfontein    161    2009  2009-05-15             Delhi Daredevils   \n",
      "Cape Town       118    2009  2009-04-18               Mumbai Indians   \n",
      "Centurion       133    2009  2009-04-28             Delhi Daredevils   \n",
      "Chandigarh       32    2017  2017-04-28          Sunrisers Hyderabad   \n",
      "Chennai          67    2008  2008-04-23          Chennai Super Kings   \n",
      "Cuttack         186    2010  2010-03-19              Deccan Chargers   \n",
      "Delhi            15    2017  2017-04-15             Delhi Daredevils   \n",
      "Dharamsala      225    2010  2010-04-16              Kings XI Punjab   \n",
      "Durban          123    2009  2009-04-21              Kings XI Punjab   \n",
      "East London     138    2009  2009-05-01               Mumbai Indians   \n",
      "Hyderabad         1    2017  2017-04-05          Sunrisers Hyderabad   \n",
      "Indore            4    2017  2017-04-08       Rising Pune Supergiant   \n",
      "Jaipur           65    2008  2008-04-21              Kings XI Punjab   \n",
      "Johannesburg    141    2009  2009-05-02          Chennai Super Kings   \n",
      "Kanpur           49    2017  2017-05-10                Gujarat Lions   \n",
      "Kimberley       151    2009  2009-05-09              Deccan Chargers   \n",
      "Kochi           237    2011  2011-04-09         Kochi Tuskers Kerala   \n",
      "Kolkata          11    2017  2017-04-13              Kings XI Punjab   \n",
      "Mumbai            7    2017  2017-04-09        Kolkata Knight Riders   \n",
      "Nagpur          210    2010  2010-04-05             Rajasthan Royals   \n",
      "Port Elizabeth  122    2009  2009-04-20          Chennai Super Kings   \n",
      "Pune              2    2017  2017-04-06               Mumbai Indians   \n",
      "Raipur          419    2013  2013-04-28             Delhi Daredevils   \n",
      "Rajkot            3    2017  2017-04-07                Gujarat Lions   \n",
      "Ranchi          441    2013  2013-05-12  Royal Challengers Bangalore   \n",
      "Sharjah         459    2014  2014-04-17             Delhi Daredevils   \n",
      "Visakhapatnam   313    2012  2012-04-07          Chennai Super Kings   \n",
      "\n",
      "                                      team2                  toss_winner  \\\n",
      "city                                                                       \n",
      "Abu Dhabi                    Mumbai Indians        Kolkata Knight Riders   \n",
      "Ahmedabad                  Delhi Daredevils             Delhi Daredevils   \n",
      "Bangalore                  Delhi Daredevils  Royal Challengers Bangalore   \n",
      "Bloemfontein                Kings XI Punjab              Kings XI Punjab   \n",
      "Cape Town               Chennai Super Kings          Chennai Super Kings   \n",
      "Centurion                  Rajasthan Royals             Delhi Daredevils   \n",
      "Chandigarh                  Kings XI Punjab              Kings XI Punjab   \n",
      "Chennai                      Mumbai Indians               Mumbai Indians   \n",
      "Cuttack                     Kings XI Punjab              Kings XI Punjab   \n",
      "Delhi                       Kings XI Punjab             Delhi Daredevils   \n",
      "Dharamsala                  Deccan Chargers              Deccan Chargers   \n",
      "Durban                Kolkata Knight Riders        Kolkata Knight Riders   \n",
      "East London           Kolkata Knight Riders               Mumbai Indians   \n",
      "Hyderabad       Royal Challengers Bangalore  Royal Challengers Bangalore   \n",
      "Indore                      Kings XI Punjab              Kings XI Punjab   \n",
      "Jaipur                     Rajasthan Royals              Kings XI Punjab   \n",
      "Johannesburg               Delhi Daredevils             Delhi Daredevils   \n",
      "Kanpur                     Delhi Daredevils             Delhi Daredevils   \n",
      "Kimberley                   Kings XI Punjab              Kings XI Punjab   \n",
      "Kochi           Royal Challengers Bangalore         Kochi Tuskers Kerala   \n",
      "Kolkata               Kolkata Knight Riders        Kolkata Knight Riders   \n",
      "Mumbai                       Mumbai Indians               Mumbai Indians   \n",
      "Nagpur                      Deccan Chargers             Rajasthan Royals   \n",
      "Port Elizabeth  Royal Challengers Bangalore          Chennai Super Kings   \n",
      "Pune                 Rising Pune Supergiant       Rising Pune Supergiant   \n",
      "Raipur                        Pune Warriors                Pune Warriors   \n",
      "Rajkot                Kolkata Knight Riders        Kolkata Knight Riders   \n",
      "Ranchi                Kolkata Knight Riders        Kolkata Knight Riders   \n",
      "Sharjah         Royal Challengers Bangalore  Royal Challengers Bangalore   \n",
      "Visakhapatnam               Deccan Chargers              Deccan Chargers   \n",
      "\n",
      "               toss_decision  result  dl_applied                       winner  \\\n",
      "city                                                                            \n",
      "Abu Dhabi                bat  normal           0        Kolkata Knight Riders   \n",
      "Ahmedabad              field  normal           0             Delhi Daredevils   \n",
      "Bangalore                bat  normal           0  Royal Challengers Bangalore   \n",
      "Bloemfontein           field  normal           0              Kings XI Punjab   \n",
      "Cape Town              field  normal           0               Mumbai Indians   \n",
      "Centurion                bat  normal           0             Rajasthan Royals   \n",
      "Chandigarh             field  normal           0          Sunrisers Hyderabad   \n",
      "Chennai                field  normal           0          Chennai Super Kings   \n",
      "Cuttack                field  normal           0              Deccan Chargers   \n",
      "Delhi                    bat  normal           0             Delhi Daredevils   \n",
      "Dharamsala             field  normal           0              Deccan Chargers   \n",
      "Durban                 field  normal           1        Kolkata Knight Riders   \n",
      "East London              bat  normal           0               Mumbai Indians   \n",
      "Hyderabad              field  normal           0          Sunrisers Hyderabad   \n",
      "Indore                 field  normal           0              Kings XI Punjab   \n",
      "Jaipur                   bat  normal           0             Rajasthan Royals   \n",
      "Johannesburg           field  normal           0          Chennai Super Kings   \n",
      "Kanpur                 field  normal           0             Delhi Daredevils   \n",
      "Kimberley              field  normal           0              Kings XI Punjab   \n",
      "Kochi                    bat  normal           0  Royal Challengers Bangalore   \n",
      "Kolkata                field  normal           0        Kolkata Knight Riders   \n",
      "Mumbai                 field  normal           0               Mumbai Indians   \n",
      "Nagpur                   bat  normal           0             Rajasthan Royals   \n",
      "Port Elizabeth           bat  normal           0          Chennai Super Kings   \n",
      "Pune                   field  normal           0       Rising Pune Supergiant   \n",
      "Raipur                 field  normal           0             Delhi Daredevils   \n",
      "Rajkot                 field  normal           0        Kolkata Knight Riders   \n",
      "Ranchi                 field  normal           0        Kolkata Knight Riders   \n",
      "Sharjah                field  normal           0  Royal Challengers Bangalore   \n",
      "Visakhapatnam          field  normal           0          Chennai Super Kings   \n",
      "\n",
      "                win_by_runs  win_by_wickets   player_of_match  \\\n",
      "city                                                            \n",
      "Abu Dhabi                41               0         JH Kallis   \n",
      "Ahmedabad                 0               6          V Sehwag   \n",
      "Bangalore                15               0         KM Jadhav   \n",
      "Bloemfontein              0               6             B Lee   \n",
      "Cape Town                19               0      SR Tendulkar   \n",
      "Centurion                 0               5         YK Pathan   \n",
      "Chandigarh               26               0       Rashid Khan   \n",
      "Chennai                   6               0         ML Hayden   \n",
      "Cuttack                   6               0         A Symonds   \n",
      "Delhi                    51               0       CJ Anderson   \n",
      "Dharamsala                0               5         RG Sharma   \n",
      "Durban                   11               0          CH Gayle   \n",
      "East London               9               0         JP Duminy   \n",
      "Hyderabad                35               0      Yuvraj Singh   \n",
      "Indore                    0               6        GJ Maxwell   \n",
      "Jaipur                    0               6         SR Watson   \n",
      "Johannesburg             18               0         SB Jakati   \n",
      "Kanpur                    0               2           SS Iyer   \n",
      "Kimberley                 0               3  DPMD Jayawardene   \n",
      "Kochi                     0               6    AB de Villiers   \n",
      "Kolkata                   0               8         SP Narine   \n",
      "Mumbai                    0               4            N Rana   \n",
      "Nagpur                    2               0          SK Warne   \n",
      "Port Elizabeth           92               0    M Muralitharan   \n",
      "Pune                      0               7         SPD Smith   \n",
      "Raipur                   15               0         DA Warner   \n",
      "Rajkot                    0              10           CA Lynn   \n",
      "Ranchi                    0               5         JH Kallis   \n",
      "Sharjah                   0               8         YS Chahal   \n",
      "Visakhapatnam            74               0         RA Jadeja   \n",
      "\n",
      "                                                            venue  \\\n",
      "city                                                                \n",
      "Abu Dhabi                                    Sheikh Zayed Stadium   \n",
      "Ahmedabad                            Sardar Patel Stadium, Motera   \n",
      "Bangalore                                   M Chinnaswamy Stadium   \n",
      "Bloemfontein                                      OUTsurance Oval   \n",
      "Cape Town                                                Newlands   \n",
      "Centurion                                         SuperSport Park   \n",
      "Chandigarh      Punjab Cricket Association IS Bindra Stadium, ...   \n",
      "Chennai                           MA Chidambaram Stadium, Chepauk   \n",
      "Cuttack                                          Barabati Stadium   \n",
      "Delhi                                            Feroz Shah Kotla   \n",
      "Dharamsala           Himachal Pradesh Cricket Association Stadium   \n",
      "Durban                                                  Kingsmead   \n",
      "East London                                          Buffalo Park   \n",
      "Hyderabad               Rajiv Gandhi International Stadium, Uppal   \n",
      "Indore                                     Holkar Cricket Stadium   \n",
      "Jaipur                                     Sawai Mansingh Stadium   \n",
      "Johannesburg                                New Wanderers Stadium   \n",
      "Kanpur                                                 Green Park   \n",
      "Kimberley                                   De Beers Diamond Oval   \n",
      "Kochi                                               Nehru Stadium   \n",
      "Kolkata                                              Eden Gardens   \n",
      "Mumbai                                           Wankhede Stadium   \n",
      "Nagpur               Vidarbha Cricket Association Stadium, Jamtha   \n",
      "Port Elizabeth                                   St George's Park   \n",
      "Pune                      Maharashtra Cricket Association Stadium   \n",
      "Raipur           Shaheed Veer Narayan Singh International Stadium   \n",
      "Rajkot                     Saurashtra Cricket Association Stadium   \n",
      "Ranchi                         JSCA International Stadium Complex   \n",
      "Sharjah                                   Sharjah Cricket Stadium   \n",
      "Visakhapatnam   Dr. Y.S. Rajasekhara Reddy ACA-VDCA Cricket St...   \n",
      "\n",
      "                              umpire1          umpire2  umpire3  \n",
      "city                                                             \n",
      "Abu Dhabi                   M Erasmus   RK Illingworth      NaN  \n",
      "Ahmedabad                  BG Jerling      RE Koertzen      NaN  \n",
      "Bangalore       KN Ananthapadmanabhan     AK Chaudhary      NaN  \n",
      "Bloemfontein          HDPK Dharmasena        IL Howell      NaN  \n",
      "Cape Town                 BR Doctrove      K Hariharan      NaN  \n",
      "Centurion                  GAV Baxter      RE Koertzen      NaN  \n",
      "Chandigarh                Nitin Menon        CK Nandan      NaN  \n",
      "Chennai                     DJ Harper   GA Pratapkumar      NaN  \n",
      "Cuttack                     BF Bowden        M Erasmus      NaN  \n",
      "Delhi                        YC Barde      Nitin Menon      NaN  \n",
      "Dharamsala                  M Erasmus        AM Saheba      NaN  \n",
      "Durban                      DJ Harper        SD Ranade      NaN  \n",
      "East London                 M Erasmus      SK Tarapore      NaN  \n",
      "Hyderabad                 AY Dandekar         NJ Llong      NaN  \n",
      "Indore                   AK Chaudhary    C Shamshuddin      NaN  \n",
      "Jaipur                      Aleem Dar        RB Tiffin      NaN  \n",
      "Johannesburg                DJ Harper      RE Koertzen      NaN  \n",
      "Kanpur                       YC Barde     AK Chaudhary      NaN  \n",
      "Kimberley                  GAV Baxter        AM Saheba      NaN  \n",
      "Kochi                 HDPK Dharmasena      K Hariharan      NaN  \n",
      "Kolkata                    A Deshmukh         NJ Llong      NaN  \n",
      "Mumbai                    Nitin Menon        CK Nandan      NaN  \n",
      "Nagpur                HDPK Dharmasena       SJA Taufel      NaN  \n",
      "Port Elizabeth             BG Jerling       SJA Taufel      NaN  \n",
      "Pune                   A Nand Kishore           S Ravi      NaN  \n",
      "Raipur                      CK Nandan           S Ravi      NaN  \n",
      "Rajkot                    Nitin Menon        CK Nandan      NaN  \n",
      "Ranchi                       NJ Llong        K Srinath      NaN  \n",
      "Sharjah                     Aleem Dar           S Ravi      NaN  \n"
     ]
    },
    {
     "name": "stdout",
     "output_type": "stream",
     "text": [
      "Visakhapatnam               JD Cloete  HDPK Dharmasena      NaN  \n"
     ]
    }
   ],
   "source": [
    "print ( place.first() )"
   ]
  },
  {
   "cell_type": "code",
   "execution_count": 32,
   "id": "494d3df0",
   "metadata": {},
   "outputs": [
    {
     "name": "stdout",
     "output_type": "stream",
     "text": [
      "                 id  season        date                        team1  \\\n",
      "city                                                                   \n",
      "Abu Dhabi       476    2014  2014-04-29             Rajasthan Royals   \n",
      "Ahmedabad       540    2015  2015-04-24             Rajasthan Royals   \n",
      "Bangalore       636    2016  2016-05-29          Sunrisers Hyderabad   \n",
      "Bloemfontein    165    2009  2009-05-17             Delhi Daredevils   \n",
      "Cape Town       130    2009  2009-04-26              Kings XI Punjab   \n",
      "Centurion       172    2009  2009-05-22             Delhi Daredevils   \n",
      "Chandigarh      622    2016  2016-05-15              Kings XI Punjab   \n",
      "Chennai         563    2015  2015-05-10          Chennai Super Kings   \n",
      "Cuttack         497    2014  2014-05-14               Mumbai Indians   \n",
      "Delhi           635    2016  2016-05-27                Gujarat Lions   \n",
      "Dharamsala      450    2013  2013-05-18              Kings XI Punjab   \n",
      "Durban          169    2009  2009-05-20          Chennai Super Kings   \n",
      "East London     150    2009  2009-05-08               Mumbai Indians   \n",
      "Hyderabad       618    2016  2016-05-12          Sunrisers Hyderabad   \n",
      "Indore          294    2011  2011-05-15             Rajasthan Royals   \n",
      "Jaipur          442    2013  2013-05-12          Chennai Super Kings   \n",
      "Johannesburg    174    2009  2009-05-24              Deccan Chargers   \n",
      "Kanpur          630    2016  2016-05-21               Mumbai Indians   \n",
      "Kimberley       155    2009  2009-05-11              Deccan Chargers   \n",
      "Kochi           278    2011  2011-05-05         Kochi Tuskers Kerala   \n",
      "Kolkata         631    2016  2016-05-22        Kolkata Knight Riders   \n",
      "Mumbai          600    2016  2016-04-28        Kolkata Knight Riders   \n",
      "Nagpur          220    2010  2010-04-12              Deccan Chargers   \n",
      "Port Elizabeth  162    2009  2009-05-16               Mumbai Indians   \n",
      "Pune            605    2016  2016-05-01      Rising Pune Supergiants   \n",
      "Raipur          632    2016  2016-05-22             Delhi Daredevils   \n",
      "Rajkot          607    2016  2016-05-03                Gujarat Lions   \n",
      "Ranchi          575    2015  2015-05-22  Royal Challengers Bangalore   \n",
      "Sharjah         474    2014  2014-04-27          Sunrisers Hyderabad   \n",
      "Visakhapatnam   629    2016  2016-05-21              Kings XI Punjab   \n",
      "\n",
      "                                      team2                  toss_winner  \\\n",
      "city                                                                       \n",
      "Abu Dhabi             Kolkata Knight Riders             Rajasthan Royals   \n",
      "Ahmedabad       Royal Challengers Bangalore  Royal Challengers Bangalore   \n",
      "Bangalore       Royal Challengers Bangalore          Sunrisers Hyderabad   \n",
      "Bloemfontein               Rajasthan Royals             Delhi Daredevils   \n",
      "Cape Town                  Rajasthan Royals              Kings XI Punjab   \n",
      "Centurion                   Deccan Chargers              Deccan Chargers   \n",
      "Chandigarh              Sunrisers Hyderabad              Kings XI Punjab   \n",
      "Chennai                    Rajasthan Royals          Chennai Super Kings   \n",
      "Cuttack               Kolkata Knight Riders        Kolkata Knight Riders   \n",
      "Delhi                   Sunrisers Hyderabad          Sunrisers Hyderabad   \n",
      "Dharamsala                   Mumbai Indians               Mumbai Indians   \n",
      "Durban                      Kings XI Punjab          Chennai Super Kings   \n",
      "East London                Delhi Daredevils               Mumbai Indians   \n",
      "Hyderabad                  Delhi Daredevils             Delhi Daredevils   \n",
      "Indore                 Kochi Tuskers Kerala         Kochi Tuskers Kerala   \n",
      "Jaipur                     Rajasthan Royals             Rajasthan Royals   \n",
      "Johannesburg    Royal Challengers Bangalore  Royal Challengers Bangalore   \n",
      "Kanpur                        Gujarat Lions                Gujarat Lions   \n",
      "Kimberley                  Rajasthan Royals              Deccan Chargers   \n",
      "Kochi                 Kolkata Knight Riders        Kolkata Knight Riders   \n",
      "Kolkata                 Sunrisers Hyderabad          Sunrisers Hyderabad   \n",
      "Mumbai                       Mumbai Indians               Mumbai Indians   \n",
      "Nagpur          Royal Challengers Bangalore  Royal Challengers Bangalore   \n",
      "Port Elizabeth          Chennai Super Kings               Mumbai Indians   \n",
      "Pune                         Mumbai Indians               Mumbai Indians   \n",
      "Raipur          Royal Challengers Bangalore  Royal Challengers Bangalore   \n",
      "Rajkot                     Delhi Daredevils             Delhi Daredevils   \n",
      "Ranchi                  Chennai Super Kings          Chennai Super Kings   \n",
      "Sharjah                 Chennai Super Kings          Sunrisers Hyderabad   \n",
      "Visakhapatnam       Rising Pune Supergiants              Kings XI Punjab   \n",
      "\n",
      "               toss_decision  result  dl_applied                       winner  \\\n",
      "city                                                                            \n",
      "Abu Dhabi                bat     tie           0             Rajasthan Royals   \n",
      "Ahmedabad              field  normal           0  Royal Challengers Bangalore   \n",
      "Bangalore                bat  normal           0          Sunrisers Hyderabad   \n",
      "Bloemfontein             bat  normal           0             Delhi Daredevils   \n",
      "Cape Town                bat  normal           0              Kings XI Punjab   \n",
      "Centurion              field  normal           0              Deccan Chargers   \n",
      "Chandigarh               bat  normal           0          Sunrisers Hyderabad   \n",
      "Chennai                  bat  normal           0          Chennai Super Kings   \n",
      "Cuttack                field  normal           0        Kolkata Knight Riders   \n",
      "Delhi                  field  normal           0          Sunrisers Hyderabad   \n",
      "Dharamsala             field  normal           0              Kings XI Punjab   \n",
      "Durban                   bat  normal           0          Chennai Super Kings   \n",
      "East London              bat  normal           0             Delhi Daredevils   \n",
      "Hyderabad              field  normal           0             Delhi Daredevils   \n",
      "Indore                 field  normal           0         Kochi Tuskers Kerala   \n",
      "Jaipur                 field  normal           0             Rajasthan Royals   \n",
      "Johannesburg           field  normal           0              Deccan Chargers   \n",
      "Kanpur                 field  normal           0                Gujarat Lions   \n",
      "Kimberley                bat  normal           0              Deccan Chargers   \n",
      "Kochi                  field  normal           0         Kochi Tuskers Kerala   \n",
      "Kolkata                field  normal           0        Kolkata Knight Riders   \n",
      "Mumbai                 field  normal           0               Mumbai Indians   \n",
      "Nagpur                 field  normal           0              Deccan Chargers   \n",
      "Port Elizabeth           bat  normal           0          Chennai Super Kings   \n",
      "Pune                   field  normal           0               Mumbai Indians   \n",
      "Raipur                 field  normal           0  Royal Challengers Bangalore   \n",
      "Rajkot                 field  normal           0             Delhi Daredevils   \n",
      "Ranchi                 field  normal           0          Chennai Super Kings   \n",
      "Sharjah                  bat  normal           0          Chennai Super Kings   \n",
      "Visakhapatnam            bat  normal           0      Rising Pune Supergiants   \n",
      "\n",
      "                win_by_runs  win_by_wickets player_of_match  \\\n",
      "city                                                          \n",
      "Abu Dhabi                 0               0     JP Faulkner   \n",
      "Ahmedabad                 0               9        MA Starc   \n",
      "Bangalore                 8               0     BCJ Cutting   \n",
      "Bloemfontein             14               0  AB de Villiers   \n",
      "Cape Town                27               0   KC Sangakkara   \n",
      "Centurion                 0               6    AC Gilchrist   \n",
      "Chandigarh                0               7         HM Amla   \n",
      "Chennai                  12               0       RA Jadeja   \n",
      "Cuttack                   0               6      RV Uthappa   \n",
      "Delhi                     0               4       DA Warner   \n",
      "Dharamsala               50               0   Azhar Mahmood   \n",
      "Durban                   24               0  M Muralitharan   \n",
      "East London               0               7         A Nehra   \n",
      "Hyderabad                 0               7       CH Morris   \n",
      "Indore                    0               8        BJ Hodge   \n",
      "Jaipur                    0               5       SR Watson   \n",
      "Johannesburg              6               0        A Kumble   \n",
      "Kanpur                    0               6        SK Raina   \n",
      "Kimberley                53               0        DR Smith   \n",
      "Kochi                    17               0        BJ Hodge   \n",
      "Kolkata                  22               0       YK Pathan   \n",
      "Mumbai                    0               6       RG Sharma   \n",
      "Nagpur                   13               0   Harmeet Singh   \n",
      "Port Elizabeth            0               7       ML Hayden   \n",
      "Pune                      0               8       RG Sharma   \n",
      "Raipur                    0               6         V Kohli   \n",
      "Rajkot                    0               8         RR Pant   \n",
      "Ranchi                    0               3         A Nehra   \n",
      "Sharjah                   0               5        DR Smith   \n",
      "Visakhapatnam             0               4        MS Dhoni   \n",
      "\n",
      "                                                            venue  \\\n",
      "city                                                                \n",
      "Abu Dhabi                                    Sheikh Zayed Stadium   \n",
      "Ahmedabad                            Sardar Patel Stadium, Motera   \n",
      "Bangalore                                   M Chinnaswamy Stadium   \n",
      "Bloemfontein                                      OUTsurance Oval   \n",
      "Cape Town                                                Newlands   \n",
      "Centurion                                         SuperSport Park   \n",
      "Chandigarh      Punjab Cricket Association IS Bindra Stadium, ...   \n",
      "Chennai                           MA Chidambaram Stadium, Chepauk   \n",
      "Cuttack                                          Barabati Stadium   \n",
      "Delhi                                            Feroz Shah Kotla   \n",
      "Dharamsala           Himachal Pradesh Cricket Association Stadium   \n",
      "Durban                                                  Kingsmead   \n",
      "East London                                          Buffalo Park   \n",
      "Hyderabad               Rajiv Gandhi International Stadium, Uppal   \n",
      "Indore                                     Holkar Cricket Stadium   \n",
      "Jaipur                                     Sawai Mansingh Stadium   \n",
      "Johannesburg                                New Wanderers Stadium   \n",
      "Kanpur                                                 Green Park   \n",
      "Kimberley                                   De Beers Diamond Oval   \n",
      "Kochi                                               Nehru Stadium   \n",
      "Kolkata                                              Eden Gardens   \n",
      "Mumbai                                           Wankhede Stadium   \n",
      "Nagpur               Vidarbha Cricket Association Stadium, Jamtha   \n",
      "Port Elizabeth                                   St George's Park   \n",
      "Pune                      Maharashtra Cricket Association Stadium   \n",
      "Raipur           Shaheed Veer Narayan Singh International Stadium   \n",
      "Rajkot                     Saurashtra Cricket Association Stadium   \n",
      "Ranchi                         JSCA International Stadium Complex   \n",
      "Sharjah                                   Sharjah Cricket Stadium   \n",
      "Visakhapatnam   Dr. Y.S. Rajasekhara Reddy ACA-VDCA Cricket St...   \n",
      "\n",
      "                              umpire1          umpire2  umpire3  \n",
      "city                                                             \n",
      "Abu Dhabi                   Aleem Dar     AK Chaudhary      NaN  \n",
      "Ahmedabad                   M Erasmus           S Ravi      NaN  \n",
      "Bangalore             HDPK Dharmasena     BNJ Oxenford      NaN  \n",
      "Bloemfontein                SS Hazare        IL Howell      NaN  \n",
      "Cape Town                   M Erasmus      K Hariharan      NaN  \n",
      "Centurion                 BR Doctrove        DJ Harper      NaN  \n",
      "Chandigarh      KN Ananthapadmanabhan        M Erasmus      NaN  \n",
      "Chennai                     M Erasmus        CK Nandan      NaN  \n",
      "Cuttack                  AK Chaudhary         NJ Llong      NaN  \n",
      "Delhi                       M Erasmus        CK Nandan      NaN  \n",
      "Dharamsala            HDPK Dharmasena        CK Nandan      NaN  \n",
      "Durban                     BG Jerling       SJA Taufel      NaN  \n",
      "East London                 M Erasmus      SK Tarapore      NaN  \n",
      "Hyderabad                  K Bharatan        M Erasmus      NaN  \n",
      "Indore                     PR Reiffel        RJ Tucker      NaN  \n",
      "Jaipur                HDPK Dharmasena        CK Nandan      NaN  \n",
      "Johannesburg              RE Koertzen       SJA Taufel      NaN  \n",
      "Kanpur                   AK Chaudhary        CK Nandan      NaN  \n",
      "Kimberley                  GAV Baxter  HDPK Dharmasena      NaN  \n",
      "Kochi                          S Ravi        RJ Tucker      NaN  \n",
      "Kolkata         KN Ananthapadmanabhan        M Erasmus      NaN  \n",
      "Mumbai                    Nitin Menon        RJ Tucker      NaN  \n",
      "Nagpur                    RE Koertzen        RB Tiffin      NaN  \n",
      "Port Elizabeth            SK Tarapore       SJA Taufel      NaN  \n",
      "Pune                      AY Dandekar        RJ Tucker      NaN  \n",
      "Raipur                 A Nand Kishore     BNJ Oxenford      NaN  \n",
      "Rajkot                    CB Gaffaney     BNJ Oxenford      NaN  \n",
      "Ranchi                   AK Chaudhary      CB Gaffaney      NaN  \n",
      "Sharjah                  AK Chaudhary      VA Kulkarni      NaN  \n",
      "Visakhapatnam         HDPK Dharmasena      Nitin Menon      NaN  \n"
     ]
    }
   ],
   "source": [
    "print ( place.last() )"
   ]
  },
  {
   "cell_type": "code",
   "execution_count": 33,
   "id": "190d37a8",
   "metadata": {},
   "outputs": [
    {
     "name": "stdout",
     "output_type": "stream",
     "text": [
      "{'Abu Dhabi': [457, 459, 460, 464, 470, 471, 475], 'Ahmedabad': [179, 186, 194, 197, 481, 486, 497, 500, 525, 532, 535, 539], 'Bangalore': [4, 11, 16, 29, 41, 44, 56, 57, 59, 69, 73, 83, 89, 103, 110, 180, 183, 191, 196, 213, 216, 225, 241, 267, 279, 282, 290, 301, 311, 316, 325, 328, 349, 355, 366, 378, 382, 391, 400, 406, 410, 428, 431, 451, 480, 487, 491, 494, 509, 516, 524, 533, 537, 545, 549, 556, 570, 579, 586, 605, 610, 616, 619, 625, 632, 635], 'Bloemfontein': [160, 164], 'Cape Town': [117, 118, 119, 120, 123, 125, 129], 'Centurion': [132, 135, 136, 146, 147, 148, 155, 156, 165, 169, 170, 171], 'Chandigarh': [31, 34, 45, 47, 60, 68, 72, 80, 93, 96, 107, 176, 192, 195, 204, 214, 242, 255, 283, 286, 320, 329, 332, 339, 353, 365, 390, 399, 408, 435, 439, 447, 504, 508, 511, 543, 551, 565, 568, 578, 585, 588, 596, 611, 614, 621], 'Chennai': [66, 70, 78, 84, 90, 106, 109, 178, 189, 201, 205, 210, 221, 223, 234, 247, 261, 271, 275, 288, 296, 305, 306, 307, 319, 331, 333, 342, 346, 351, 363, 379, 380, 385, 395, 398, 409, 413, 417, 424, 445, 518, 520, 541, 546, 553, 558, 562], 'Cuttack': [185, 188, 336, 347, 485, 490, 496], 'Delhi': [14, 17, 38, 40, 43, 50, 54, 61, 75, 86, 97, 99, 108, 182, 184, 199, 202, 208, 217, 228, 237, 252, 258, 262, 265, 273, 300, 317, 322, 334, 341, 344, 356, 368, 371, 384, 393, 403, 407, 437, 442, 453, 454, 479, 482, 484, 488, 501, 522, 534, 538, 542, 547, 582, 592, 598, 601, 608, 633, 634], 'Dharamsala': [224, 227, 292, 295, 299, 370, 373, 411, 449], 'Durban': [122, 124, 126, 127, 130, 133, 134, 138, 144, 145, 157, 158, 159, 167, 168], 'East London': [137, 143, 149], 'Hyderabad': [0, 5, 18, 20, 35, 42, 46, 58, 65, 67, 76, 79, 91, 101, 113, 235, 244, 248, 259, 274, 278, 285, 330, 358, 372, 375, 383, 387, 404, 422, 427, 434, 448, 452, 492, 495, 499, 502, 550, 563, 567, 571, 583, 587, 593, 597, 602, 609, 617], 'Indore': [3, 7, 21, 289, 293], 'Jaipur': [64, 77, 82, 88, 92, 100, 112, 211, 218, 222, 240, 245, 260, 266, 270, 284, 287, 310, 313, 327, 337, 348, 360, 364, 376, 388, 397, 402, 415, 419, 430, 432, 441], 'Johannesburg': [140, 142, 153, 162, 163, 166, 172, 173], 'Kanpur': [48, 51, 626, 629], 'Kimberley': [150, 151, 154], 'Kochi': [236, 251, 264, 268, 277], 'Kolkata': [10, 13, 22, 26, 30, 39, 52, 63, 74, 87, 94, 102, 104, 111, 177, 181, 203, 207, 212, 226, 229, 239, 250, 254, 257, 269, 280, 302, 308, 321, 324, 343, 352, 362, 367, 381, 396, 405, 412, 414, 426, 455, 456, 503, 505, 510, 513, 517, 521, 526, 544, 554, 559, 575, 577, 580, 607, 613, 620, 623, 630], 'Mumbai': [6, 9, 15, 23, 27, 36, 49, 55, 62, 71, 81, 85, 95, 98, 105, 114, 115, 116, 174, 175, 187, 190, 193, 198, 200, 206, 220, 230, 231, 232, 233, 238, 243, 246, 249, 253, 256, 263, 272, 276, 281, 291, 294, 297, 298, 303, 304, 309, 318, 326, 335, 345, 354, 359, 369, 389, 394, 416, 420, 429, 433, 443, 446, 478, 483, 489, 507, 512, 514, 515, 523, 529, 540, 548, 552, 555, 557, 561, 566, 569, 572, 576, 584, 589, 599], 'Nagpur': [209, 215, 219], 'Port Elizabeth': [121, 128, 131, 139, 141, 152, 161], 'Pune': [1, 8, 24, 28, 32, 37, 53, 314, 323, 338, 340, 350, 357, 361, 374, 377, 386, 392, 401, 421, 425, 436, 438, 450, 519, 527, 531, 573, 591, 595, 600, 604], 'Raipur': [418, 423, 560, 564, 627, 631], 'Rajkot': [2, 12, 19, 25, 33, 581, 590, 594, 603, 606], 'Ranchi': [440, 444, 477, 493, 498, 506, 574], 'Sharjah': [458, 463, 465, 467, 472, 473], 'Visakhapatnam': [312, 315, 528, 530, 536, 612, 615, 618, 622, 624, 628]}\n"
     ]
    }
   ],
   "source": [
    "print ( place.groups )"
   ]
  },
  {
   "cell_type": "code",
   "execution_count": 34,
   "id": "19cfc9b0",
   "metadata": {},
   "outputs": [
    {
     "name": "stdout",
     "output_type": "stream",
     "text": [
      "id                                   458\n",
      "season                              2014\n",
      "city                           Abu Dhabi\n",
      "date                          2014-04-16\n",
      "team1              Kolkata Knight Riders\n",
      "team2                     Mumbai Indians\n",
      "toss_winner        Kolkata Knight Riders\n",
      "toss_decision                        bat\n",
      "result                            normal\n",
      "dl_applied                             0\n",
      "winner             Kolkata Knight Riders\n",
      "win_by_runs                           41\n",
      "win_by_wickets                         0\n",
      "player_of_match                JH Kallis\n",
      "venue               Sheikh Zayed Stadium\n",
      "umpire1                        M Erasmus\n",
      "umpire2                   RK Illingworth\n",
      "umpire3                              NaN\n",
      "Name: 457, dtype: object\n"
     ]
    }
   ],
   "source": [
    "print ( match.iloc[457] )"
   ]
  },
  {
   "cell_type": "code",
   "execution_count": 35,
   "id": "15ca3d21",
   "metadata": {},
   "outputs": [
    {
     "name": "stdout",
     "output_type": "stream",
     "text": [
      "id                                   458\n",
      "season                              2014\n",
      "city                           Abu Dhabi\n",
      "date                          2014-04-16\n",
      "team1              Kolkata Knight Riders\n",
      "team2                     Mumbai Indians\n",
      "toss_winner        Kolkata Knight Riders\n",
      "toss_decision                        bat\n",
      "result                            normal\n",
      "dl_applied                             0\n",
      "winner             Kolkata Knight Riders\n",
      "win_by_runs                           41\n",
      "win_by_wickets                         0\n",
      "player_of_match                JH Kallis\n",
      "venue               Sheikh Zayed Stadium\n",
      "umpire1                        M Erasmus\n",
      "umpire2                   RK Illingworth\n",
      "umpire3                              NaN\n",
      "Name: 457, dtype: object\n"
     ]
    }
   ],
   "source": [
    "print ( match.iloc [457,:] )"
   ]
  },
  {
   "cell_type": "code",
   "execution_count": 36,
   "id": "53903811",
   "metadata": {},
   "outputs": [
    {
     "name": "stdout",
     "output_type": "stream",
     "text": [
      "      id  season     city        date                    team1  \\\n",
      "10    11    2017  Kolkata  2017-04-13          Kings XI Punjab   \n",
      "13    14    2017  Kolkata  2017-04-15    Kolkata Knight Riders   \n",
      "22    23    2017  Kolkata  2017-04-21    Kolkata Knight Riders   \n",
      "26    27    2017  Kolkata  2017-04-23    Kolkata Knight Riders   \n",
      "30    31    2017  Kolkata  2017-04-28         Delhi Daredevils   \n",
      "..   ...     ...      ...         ...                      ...   \n",
      "607  608    2016  Kolkata  2016-05-04    Kolkata Knight Riders   \n",
      "613  614    2016  Kolkata  2016-05-08    Kolkata Knight Riders   \n",
      "620  621    2016  Kolkata  2016-05-14  Rising Pune Supergiants   \n",
      "623  624    2016  Kolkata  2016-05-16    Kolkata Knight Riders   \n",
      "630  631    2016  Kolkata  2016-05-22    Kolkata Knight Riders   \n",
      "\n",
      "                           team2                  toss_winner toss_decision  \\\n",
      "10         Kolkata Knight Riders        Kolkata Knight Riders         field   \n",
      "13           Sunrisers Hyderabad          Sunrisers Hyderabad         field   \n",
      "22                 Gujarat Lions                Gujarat Lions         field   \n",
      "26   Royal Challengers Bangalore  Royal Challengers Bangalore         field   \n",
      "30         Kolkata Knight Riders        Kolkata Knight Riders         field   \n",
      "..                           ...                          ...           ...   \n",
      "607              Kings XI Punjab              Kings XI Punjab         field   \n",
      "613                Gujarat Lions                Gujarat Lions         field   \n",
      "620        Kolkata Knight Riders      Rising Pune Supergiants           bat   \n",
      "623  Royal Challengers Bangalore  Royal Challengers Bangalore         field   \n",
      "630          Sunrisers Hyderabad          Sunrisers Hyderabad         field   \n",
      "\n",
      "     result  dl_applied                       winner  win_by_runs  \\\n",
      "10   normal           0        Kolkata Knight Riders            0   \n",
      "13   normal           0        Kolkata Knight Riders           17   \n",
      "22   normal           0                Gujarat Lions            0   \n",
      "26   normal           0        Kolkata Knight Riders           82   \n",
      "30   normal           0        Kolkata Knight Riders            0   \n",
      "..      ...         ...                          ...          ...   \n",
      "607  normal           0        Kolkata Knight Riders            7   \n",
      "613  normal           0                Gujarat Lions            0   \n",
      "620  normal           1        Kolkata Knight Riders            0   \n",
      "623  normal           0  Royal Challengers Bangalore            0   \n",
      "630  normal           0        Kolkata Knight Riders           22   \n",
      "\n",
      "     win_by_wickets  player_of_match         venue                umpire1  \\\n",
      "10                8        SP Narine  Eden Gardens             A Deshmukh   \n",
      "13                0       RV Uthappa  Eden Gardens            AY Dandekar   \n",
      "22                4         SK Raina  Eden Gardens            CB Gaffaney   \n",
      "26                0  NM Coulter-Nile  Eden Gardens            CB Gaffaney   \n",
      "30                7        G Gambhir  Eden Gardens               NJ Llong   \n",
      "..              ...              ...           ...                    ...   \n",
      "607               0       AD Russell  Eden Gardens           AK Chaudhary   \n",
      "613               5          P Kumar  Eden Gardens              M Erasmus   \n",
      "620               8        YK Pathan  Eden Gardens         A Nand Kishore   \n",
      "623               9          V Kohli  Eden Gardens            CB Gaffaney   \n",
      "630               0        YK Pathan  Eden Gardens  KN Ananthapadmanabhan   \n",
      "\n",
      "             umpire2  umpire3  \n",
      "10          NJ Llong      NaN  \n",
      "13          NJ Llong      NaN  \n",
      "22       Nitin Menon      NaN  \n",
      "26         CK Nandan      NaN  \n",
      "30            S Ravi      NaN  \n",
      "..               ...      ...  \n",
      "607  HDPK Dharmasena      NaN  \n",
      "613        RJ Tucker      NaN  \n",
      "620     BNJ Oxenford      NaN  \n",
      "623   A Nand Kishore      NaN  \n",
      "630        M Erasmus      NaN  \n",
      "\n",
      "[61 rows x 18 columns]\n"
     ]
    }
   ],
   "source": [
    "print ( place.get_group(\"Kolkata\") )"
   ]
  },
  {
   "cell_type": "code",
   "execution_count": 37,
   "id": "34970b4e",
   "metadata": {},
   "outputs": [
    {
     "name": "stdout",
     "output_type": "stream",
     "text": [
      "      id  season    city        date                        team1  \\\n",
      "2      3    2017  Rajkot  2017-04-07                Gujarat Lions   \n",
      "12    13    2017  Rajkot  2017-04-14       Rising Pune Supergiant   \n",
      "19    20    2017  Rajkot  2017-04-18  Royal Challengers Bangalore   \n",
      "25    26    2017  Rajkot  2017-04-23              Kings XI Punjab   \n",
      "33    34    2017  Rajkot  2017-04-29                Gujarat Lions   \n",
      "581  582    2016  Rajkot  2016-04-14      Rising Pune Supergiants   \n",
      "590  591    2016  Rajkot  2016-04-21                Gujarat Lions   \n",
      "594  595    2016  Rajkot  2016-04-24  Royal Challengers Bangalore   \n",
      "603  604    2016  Rajkot  2016-05-01              Kings XI Punjab   \n",
      "606  607    2016  Rajkot  2016-05-03                Gujarat Lions   \n",
      "\n",
      "                     team2                  toss_winner toss_decision  result  \\\n",
      "2    Kolkata Knight Riders        Kolkata Knight Riders         field  normal   \n",
      "12           Gujarat Lions                Gujarat Lions         field  normal   \n",
      "19           Gujarat Lions                Gujarat Lions         field  normal   \n",
      "25           Gujarat Lions                Gujarat Lions         field  normal   \n",
      "33          Mumbai Indians                Gujarat Lions           bat     tie   \n",
      "581          Gujarat Lions      Rising Pune Supergiants           bat  normal   \n",
      "590    Sunrisers Hyderabad          Sunrisers Hyderabad         field  normal   \n",
      "594          Gujarat Lions  Royal Challengers Bangalore           bat  normal   \n",
      "603          Gujarat Lions                Gujarat Lions         field  normal   \n",
      "606       Delhi Daredevils             Delhi Daredevils         field  normal   \n",
      "\n",
      "     dl_applied                       winner  win_by_runs  win_by_wickets  \\\n",
      "2             0        Kolkata Knight Riders            0              10   \n",
      "12            0                Gujarat Lions            0               7   \n",
      "19            0  Royal Challengers Bangalore           21               0   \n",
      "25            0              Kings XI Punjab           26               0   \n",
      "33            0               Mumbai Indians            0               0   \n",
      "581           0                Gujarat Lions            0               7   \n",
      "590           0          Sunrisers Hyderabad            0              10   \n",
      "594           0                Gujarat Lions            0               6   \n",
      "603           0              Kings XI Punjab           23               0   \n",
      "606           0             Delhi Daredevils            0               8   \n",
      "\n",
      "    player_of_match                                   venue         umpire1  \\\n",
      "2           CA Lynn  Saurashtra Cricket Association Stadium     Nitin Menon   \n",
      "12           AJ Tye  Saurashtra Cricket Association Stadium  A Nand Kishore   \n",
      "19         CH Gayle  Saurashtra Cricket Association Stadium          S Ravi   \n",
      "25          HM Amla  Saurashtra Cricket Association Stadium    AK Chaudhary   \n",
      "33        KH Pandya  Saurashtra Cricket Association Stadium    AK Chaudhary   \n",
      "581        AJ Finch  Saurashtra Cricket Association Stadium     VA Kulkarni   \n",
      "590         B Kumar  Saurashtra Cricket Association Stadium      K Bharatan   \n",
      "594         V Kohli  Saurashtra Cricket Association Stadium      K Bharatan   \n",
      "603        AR Patel  Saurashtra Cricket Association Stadium    BNJ Oxenford   \n",
      "606         RR Pant  Saurashtra Cricket Association Stadium     CB Gaffaney   \n",
      "\n",
      "             umpire2  umpire3  \n",
      "2          CK Nandan      NaN  \n",
      "12            S Ravi      NaN  \n",
      "19         VK Sharma      NaN  \n",
      "25         M Erasmus      NaN  \n",
      "33       CB Gaffaney      NaN  \n",
      "581        CK Nandan      NaN  \n",
      "590  HDPK Dharmasena      NaN  \n",
      "594     BNJ Oxenford      NaN  \n",
      "603        VK Sharma      NaN  \n",
      "606     BNJ Oxenford      NaN  \n"
     ]
    }
   ],
   "source": [
    "print ( place.get_group(\"Rajkot\") )"
   ]
  },
  {
   "cell_type": "code",
   "execution_count": 38,
   "id": "7d43b65b",
   "metadata": {},
   "outputs": [
    {
     "name": "stdout",
     "output_type": "stream",
     "text": [
      "(10, 18)\n"
     ]
    }
   ],
   "source": [
    "print ( place .get_group(\"Rajkot\") .shape )"
   ]
  },
  {
   "cell_type": "code",
   "execution_count": 39,
   "id": "7b7d5d8e",
   "metadata": {},
   "outputs": [
    {
     "name": "stdout",
     "output_type": "stream",
     "text": [
      "                   id  season  dl_applied  win_by_runs  win_by_wickets  \\\n",
      "city                                                                     \n",
      "Abu Dhabi        3263   14098           0          157              16   \n",
      "Ahmedabad        4863   24156           0          180              38   \n",
      "Bangalore       22299  132861           3         1263             232   \n",
      "Bloemfontein      326    4018           0           14               6   \n",
      "Cape Town         858   14063           1          145              18   \n",
      "Centurion        1842   24108           1           81              49   \n",
      "Chandigarh      15325   92582           0          576             167   \n",
      "Chennai         15096   96554           0          715             111   \n",
      "Cuttack          2534   14086           0           73              20   \n",
      "Delhi           19600  120771           2          876             192   \n",
      "Dharamsala       2949   18103           0          279              23   \n",
      "Durban           2147   30135           1          159              33   \n",
      "East London       432    6027           0           87               7   \n",
      "Hyderabad       15907   98649           2          486             184   \n",
      "Indore            618   10073           0            0              36   \n",
      "Jaipur           9210   66363           0          460             151   \n",
      "Johannesburg     1279   16072           0           25              35   \n",
      "Kanpur           1358    8066           0            0              22   \n",
      "Kimberley         458    6027           0           53              10   \n",
      "Kochi            1301   10055           1          110              13   \n",
      "Kolkata         19973  122783           3          587             224   \n",
      "Mumbai          26283  171049           0         1102             264   \n",
      "Nagpur            646    6030           0           15               6   \n",
      "Port Elizabeth    980   14063           0          200              22   \n",
      "Pune            11238   64455           0          545              98   \n",
      "Raipur           3229   12088           0           21              25   \n",
      "Rajkot           3075   20165           0           70              48   \n",
      "Ranchi           3439   14097           0           41              24   \n",
      "Sharjah          2804   12084           0           74              26   \n",
      "Visakhapatnam    5951   22165           2          282              22   \n",
      "\n",
      "                umpire3  \n",
      "city                     \n",
      "Abu Dhabi           0.0  \n",
      "Ahmedabad           0.0  \n",
      "Bangalore           0.0  \n",
      "Bloemfontein        0.0  \n",
      "Cape Town           0.0  \n",
      "Centurion           0.0  \n",
      "Chandigarh          0.0  \n",
      "Chennai             0.0  \n",
      "Cuttack             0.0  \n",
      "Delhi               0.0  \n",
      "Dharamsala          0.0  \n",
      "Durban              0.0  \n",
      "East London         0.0  \n",
      "Hyderabad           0.0  \n",
      "Indore              0.0  \n",
      "Jaipur              0.0  \n",
      "Johannesburg        0.0  \n",
      "Kanpur              0.0  \n",
      "Kimberley           0.0  \n",
      "Kochi               0.0  \n",
      "Kolkata             0.0  \n",
      "Mumbai              0.0  \n",
      "Nagpur              0.0  \n",
      "Port Elizabeth      0.0  \n",
      "Pune                0.0  \n",
      "Raipur              0.0  \n",
      "Rajkot              0.0  \n",
      "Ranchi              0.0  \n",
      "Sharjah             0.0  \n",
      "Visakhapatnam       0.0  \n"
     ]
    },
    {
     "name": "stderr",
     "output_type": "stream",
     "text": [
      "C:\\Users\\ARPIT-MIMANI\\AppData\\Local\\Temp\\ipykernel_8416\\3861978354.py:1: FutureWarning: The default value of numeric_only in DataFrameGroupBy.sum is deprecated. In a future version, numeric_only will default to False. Either specify numeric_only or select only columns which should be valid for the function.\n",
      "  print ( place.sum() )\n"
     ]
    }
   ],
   "source": [
    "print ( place.sum() )"
   ]
  },
  {
   "cell_type": "code",
   "execution_count": 40,
   "id": "837d447d",
   "metadata": {},
   "outputs": [
    {
     "name": "stdout",
     "output_type": "stream",
     "text": [
      "                        id       season  dl_applied  win_by_runs  \\\n",
      "city                                                               \n",
      "Abu Dhabi       466.142857  2014.000000    0.000000    22.428571   \n",
      "Ahmedabad       405.250000  2013.000000    0.000000    15.000000   \n",
      "Bangalore       337.863636  2013.045455    0.045455    19.136364   \n",
      "Bloemfontein    163.000000  2009.000000    0.000000     7.000000   \n",
      "Cape Town       122.571429  2009.000000    0.142857    20.714286   \n",
      "Centurion       153.500000  2009.000000    0.083333     6.750000   \n",
      "Chandigarh      333.152174  2012.652174    0.000000    12.521739   \n",
      "Chennai         314.500000  2011.541667    0.000000    14.895833   \n",
      "Cuttack         362.000000  2012.285714    0.000000    10.428571   \n",
      "Delhi           326.666667  2012.850000    0.033333    14.600000   \n",
      "Dharamsala      327.666667  2011.444444    0.000000    31.000000   \n",
      "Durban          143.133333  2009.000000    0.066667    10.600000   \n",
      "East London     144.000000  2009.000000    0.000000    29.000000   \n",
      "Hyderabad       324.632653  2013.244898    0.040816     9.918367   \n",
      "Indore          123.600000  2014.600000    0.000000     0.000000   \n",
      "Jaipur          279.090909  2011.000000    0.000000    13.939394   \n",
      "Johannesburg    159.875000  2009.000000    0.000000     3.125000   \n",
      "Kanpur          339.500000  2016.500000    0.000000     0.000000   \n",
      "Kimberley       152.666667  2009.000000    0.000000    17.666667   \n",
      "Kochi           260.200000  2011.000000    0.200000    22.000000   \n",
      "Kolkata         327.426230  2012.836066    0.049180     9.622951   \n",
      "Mumbai          309.211765  2012.341176    0.000000    12.964706   \n",
      "Nagpur          215.333333  2010.000000    0.000000     5.000000   \n",
      "Port Elizabeth  140.000000  2009.000000    0.000000    28.571429   \n",
      "Pune            351.187500  2014.218750    0.000000    17.031250   \n",
      "Raipur          538.166667  2014.666667    0.000000     3.500000   \n",
      "Rajkot          307.500000  2016.500000    0.000000     7.000000   \n",
      "Ranchi          491.285714  2013.857143    0.000000     5.857143   \n",
      "Sharjah         467.333333  2014.000000    0.000000    12.333333   \n",
      "Visakhapatnam   541.000000  2015.000000    0.181818    25.636364   \n",
      "\n",
      "                win_by_wickets  umpire3  \n",
      "city                                     \n",
      "Abu Dhabi             2.285714      NaN  \n",
      "Ahmedabad             3.166667      NaN  \n",
      "Bangalore             3.515152      NaN  \n",
      "Bloemfontein          3.000000      NaN  \n",
      "Cape Town             2.571429      NaN  \n",
      "Centurion             4.083333      NaN  \n",
      "Chandigarh            3.630435      NaN  \n",
      "Chennai               2.312500      NaN  \n",
      "Cuttack               2.857143      NaN  \n",
      "Delhi                 3.200000      NaN  \n",
      "Dharamsala            2.555556      NaN  \n",
      "Durban                2.200000      NaN  \n",
      "East London           2.333333      NaN  \n",
      "Hyderabad             3.755102      NaN  \n",
      "Indore                7.200000      NaN  \n",
      "Jaipur                4.575758      NaN  \n",
      "Johannesburg          4.375000      NaN  \n",
      "Kanpur                5.500000      NaN  \n",
      "Kimberley             3.333333      NaN  \n",
      "Kochi                 2.600000      NaN  \n",
      "Kolkata               3.672131      NaN  \n",
      "Mumbai                3.105882      NaN  \n",
      "Nagpur                2.000000      NaN  \n",
      "Port Elizabeth        3.142857      NaN  \n",
      "Pune                  3.062500      NaN  \n",
      "Raipur                4.166667      NaN  \n",
      "Rajkot                4.800000      NaN  \n",
      "Ranchi                3.428571      NaN  \n",
      "Sharjah               4.333333      NaN  \n",
      "Visakhapatnam         2.000000      NaN  \n"
     ]
    },
    {
     "name": "stderr",
     "output_type": "stream",
     "text": [
      "C:\\Users\\ARPIT-MIMANI\\AppData\\Local\\Temp\\ipykernel_8416\\3935454393.py:1: FutureWarning: The default value of numeric_only in DataFrameGroupBy.mean is deprecated. In a future version, numeric_only will default to False. Either specify numeric_only or select only columns which should be valid for the function.\n",
      "  print ( place.mean() )\n"
     ]
    }
   ],
   "source": [
    "print ( place.mean() )"
   ]
  },
  {
   "cell_type": "code",
   "execution_count": 41,
   "id": "1219a0dc",
   "metadata": {},
   "outputs": [
    {
     "name": "stdout",
     "output_type": "stream",
     "text": [
      "                id  season  date  team1  team2  toss_winner  toss_decision  \\\n",
      "city                                                                         \n",
      "Abu Dhabi        7       7     7      7      7            7              7   \n",
      "Ahmedabad       12      12    12     12     12           12             12   \n",
      "Bangalore       66      66    66     66     66           66             66   \n",
      "Bloemfontein     2       2     2      2      2            2              2   \n",
      "Cape Town        7       7     7      7      7            7              7   \n",
      "Centurion       12      12    12     12     12           12             12   \n",
      "Chandigarh      46      46    46     46     46           46             46   \n",
      "Chennai         48      48    48     48     48           48             48   \n",
      "Cuttack          7       7     7      7      7            7              7   \n",
      "Delhi           60      60    60     60     60           60             60   \n",
      "Dharamsala       9       9     9      9      9            9              9   \n",
      "Durban          15      15    15     15     15           15             15   \n",
      "East London      3       3     3      3      3            3              3   \n",
      "Hyderabad       49      49    49     49     49           49             49   \n",
      "Indore           5       5     5      5      5            5              5   \n",
      "Jaipur          33      33    33     33     33           33             33   \n",
      "Johannesburg     8       8     8      8      8            8              8   \n",
      "Kanpur           4       4     4      4      4            4              4   \n",
      "Kimberley        3       3     3      3      3            3              3   \n",
      "Kochi            5       5     5      5      5            5              5   \n",
      "Kolkata         61      61    61     61     61           61             61   \n",
      "Mumbai          85      85    85     85     85           85             85   \n",
      "Nagpur           3       3     3      3      3            3              3   \n",
      "Port Elizabeth   7       7     7      7      7            7              7   \n",
      "Pune            32      32    32     32     32           32             32   \n",
      "Raipur           6       6     6      6      6            6              6   \n",
      "Rajkot          10      10    10     10     10           10             10   \n",
      "Ranchi           7       7     7      7      7            7              7   \n",
      "Sharjah          6       6     6      6      6            6              6   \n",
      "Visakhapatnam   11      11    11     11     11           11             11   \n",
      "\n",
      "                result  dl_applied  winner  win_by_runs  win_by_wickets  \\\n",
      "city                                                                      \n",
      "Abu Dhabi            7           7       7            7               7   \n",
      "Ahmedabad           12          12      12           12              12   \n",
      "Bangalore           66          66      64           66              66   \n",
      "Bloemfontein         2           2       2            2               2   \n",
      "Cape Town            7           7       7            7               7   \n",
      "Centurion           12          12      12           12              12   \n",
      "Chandigarh          46          46      46           46              46   \n",
      "Chennai             48          48      48           48              48   \n",
      "Cuttack              7           7       7            7               7   \n",
      "Delhi               60          60      59           60              60   \n",
      "Dharamsala           9           9       9            9               9   \n",
      "Durban              15          15      15           15              15   \n",
      "East London          3           3       3            3               3   \n",
      "Hyderabad           49          49      49           49              49   \n",
      "Indore               5           5       5            5               5   \n",
      "Jaipur              33          33      33           33              33   \n",
      "Johannesburg         8           8       8            8               8   \n",
      "Kanpur               4           4       4            4               4   \n",
      "Kimberley            3           3       3            3               3   \n",
      "Kochi                5           5       5            5               5   \n",
      "Kolkata             61          61      61           61              61   \n",
      "Mumbai              85          85      85           85              85   \n",
      "Nagpur               3           3       3            3               3   \n",
      "Port Elizabeth       7           7       7            7               7   \n",
      "Pune                32          32      32           32              32   \n",
      "Raipur               6           6       6            6               6   \n",
      "Rajkot              10          10      10           10              10   \n",
      "Ranchi               7           7       7            7               7   \n",
      "Sharjah              6           6       6            6               6   \n",
      "Visakhapatnam       11          11      11           11              11   \n",
      "\n",
      "                player_of_match  venue  umpire1  umpire2  umpire3  \n",
      "city                                                               \n",
      "Abu Dhabi                     7      7        7        7        0  \n",
      "Ahmedabad                    12     12       12       12        0  \n",
      "Bangalore                    64     66       65       65        0  \n",
      "Bloemfontein                  2      2        2        2        0  \n",
      "Cape Town                     7      7        7        7        0  \n",
      "Centurion                    12     12       12       12        0  \n",
      "Chandigarh                   46     46       46       46        0  \n",
      "Chennai                      48     48       48       48        0  \n",
      "Cuttack                       7      7        7        7        0  \n",
      "Delhi                        59     60       60       60        0  \n",
      "Dharamsala                    9      9        9        9        0  \n",
      "Durban                       15     15       15       15        0  \n",
      "East London                   3      3        3        3        0  \n",
      "Hyderabad                    49     49       49       49        0  \n",
      "Indore                        5      5        5        5        0  \n",
      "Jaipur                       33     33       33       33        0  \n",
      "Johannesburg                  8      8        8        8        0  \n",
      "Kanpur                        4      4        4        4        0  \n",
      "Kimberley                     3      3        3        3        0  \n",
      "Kochi                         5      5        5        5        0  \n",
      "Kolkata                      61     61       61       61        0  \n",
      "Mumbai                       85     85       85       85        0  \n",
      "Nagpur                        3      3        3        3        0  \n",
      "Port Elizabeth                7      7        7        7        0  \n",
      "Pune                         32     32       32       32        0  \n",
      "Raipur                        6      6        6        6        0  \n",
      "Rajkot                       10     10       10       10        0  \n",
      "Ranchi                        7      7        7        7        0  \n",
      "Sharjah                       6      6        6        6        0  \n",
      "Visakhapatnam                11     11       11       11        0  \n"
     ]
    }
   ],
   "source": [
    "print ( place.count() )"
   ]
  },
  {
   "cell_type": "code",
   "execution_count": 42,
   "id": "85ece67f",
   "metadata": {},
   "outputs": [
    {
     "name": "stdout",
     "output_type": "stream",
     "text": [
      "city\n",
      "Abu Dhabi         22.428571\n",
      "Ahmedabad         15.000000\n",
      "Bangalore         19.136364\n",
      "Bloemfontein       7.000000\n",
      "Cape Town         20.714286\n",
      "Centurion          6.750000\n",
      "Chandigarh        12.521739\n",
      "Chennai           14.895833\n",
      "Cuttack           10.428571\n",
      "Delhi             14.600000\n",
      "Dharamsala        31.000000\n",
      "Durban            10.600000\n",
      "East London       29.000000\n",
      "Hyderabad          9.918367\n",
      "Indore             0.000000\n",
      "Jaipur            13.939394\n",
      "Johannesburg       3.125000\n",
      "Kanpur             0.000000\n",
      "Kimberley         17.666667\n",
      "Kochi             22.000000\n",
      "Kolkata            9.622951\n",
      "Mumbai            12.964706\n",
      "Nagpur             5.000000\n",
      "Port Elizabeth    28.571429\n",
      "Pune              17.031250\n",
      "Raipur             3.500000\n",
      "Rajkot             7.000000\n",
      "Ranchi             5.857143\n",
      "Sharjah           12.333333\n",
      "Visakhapatnam     25.636364\n",
      "Name: win_by_runs, dtype: float64\n"
     ]
    }
   ],
   "source": [
    "print ( place[\"win_by_runs\"].mean() )"
   ]
  },
  {
   "cell_type": "code",
   "execution_count": 43,
   "id": "b4a8ab4f",
   "metadata": {},
   "outputs": [
    {
     "name": "stdout",
     "output_type": "stream",
     "text": [
      "city\n",
      "Dharamsala        31.000000\n",
      "East London       29.000000\n",
      "Port Elizabeth    28.571429\n",
      "Visakhapatnam     25.636364\n",
      "Abu Dhabi         22.428571\n",
      "Kochi             22.000000\n",
      "Cape Town         20.714286\n",
      "Bangalore         19.136364\n",
      "Kimberley         17.666667\n",
      "Pune              17.031250\n",
      "Ahmedabad         15.000000\n",
      "Chennai           14.895833\n",
      "Delhi             14.600000\n",
      "Jaipur            13.939394\n",
      "Mumbai            12.964706\n",
      "Chandigarh        12.521739\n",
      "Sharjah           12.333333\n",
      "Durban            10.600000\n",
      "Cuttack           10.428571\n",
      "Hyderabad          9.918367\n",
      "Kolkata            9.622951\n",
      "Bloemfontein       7.000000\n",
      "Rajkot             7.000000\n",
      "Centurion          6.750000\n",
      "Ranchi             5.857143\n",
      "Nagpur             5.000000\n",
      "Raipur             3.500000\n",
      "Johannesburg       3.125000\n",
      "Indore             0.000000\n",
      "Kanpur             0.000000\n",
      "Name: win_by_runs, dtype: float64\n"
     ]
    }
   ],
   "source": [
    "print ( place[\"win_by_runs\"]. mean(). sort_values(ascending=False) )"
   ]
  },
  {
   "cell_type": "code",
   "execution_count": null,
   "id": "668bb144",
   "metadata": {},
   "outputs": [],
   "source": []
  }
 ],
 "metadata": {
  "kernelspec": {
   "display_name": "Python 3 (ipykernel)",
   "language": "python",
   "name": "python3"
  },
  "language_info": {
   "codemirror_mode": {
    "name": "ipython",
    "version": 3
   },
   "file_extension": ".py",
   "mimetype": "text/x-python",
   "name": "python",
   "nbconvert_exporter": "python",
   "pygments_lexer": "ipython3",
   "version": "3.10.9"
  }
 },
 "nbformat": 4,
 "nbformat_minor": 5
}
